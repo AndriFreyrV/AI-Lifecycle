{
 "cells": [
  {
   "cell_type": "markdown",
   "metadata": {},
   "source": [
    "# REI 603M - Assignment 3\n",
    "\n",
    "### Andri Freyr Viðarsson\n",
    "\n",
    "In this notebook a base model for a fake news classification problem is constructed. Most of the notebook is focused on text processing and feature engineering. The data is available on https://www.kaggle.com/c/fake-news/data"
   ]
  },
  {
   "cell_type": "code",
   "execution_count": 1,
   "metadata": {},
   "outputs": [],
   "source": [
    "import pandas as pd\n",
    "import numpy as np\n",
    "import matplotlib.pyplot as plt\n",
    "import nltk\n",
    "from nltk.corpus import stopwords\n",
    "from nltk.stem.porter import PorterStemmer\n",
    "from nltk.stem.snowball import SnowballStemmer\n",
    "import re\n",
    "from sklearn.feature_extraction.text import CountVectorizer\n",
    "from sklearn.model_selection import train_test_split\n",
    "from sklearn.ensemble import RandomForestClassifier\n",
    "from sklearn.metrics import confusion_matrix"
   ]
  },
  {
   "cell_type": "code",
   "execution_count": 2,
   "metadata": {},
   "outputs": [
    {
     "data": {
      "text/plain": [
       "(20800, 5)"
      ]
     },
     "execution_count": 2,
     "metadata": {},
     "output_type": "execute_result"
    }
   ],
   "source": [
    "df = pd.read_csv('fake-news/train.csv') # test.csv is not labelled\n",
    "df.shape"
   ]
  },
  {
   "cell_type": "code",
   "execution_count": 3,
   "metadata": {},
   "outputs": [
    {
     "data": {
      "text/html": [
       "<div>\n",
       "<style scoped>\n",
       "    .dataframe tbody tr th:only-of-type {\n",
       "        vertical-align: middle;\n",
       "    }\n",
       "\n",
       "    .dataframe tbody tr th {\n",
       "        vertical-align: top;\n",
       "    }\n",
       "\n",
       "    .dataframe thead th {\n",
       "        text-align: right;\n",
       "    }\n",
       "</style>\n",
       "<table border=\"1\" class=\"dataframe\">\n",
       "  <thead>\n",
       "    <tr style=\"text-align: right;\">\n",
       "      <th></th>\n",
       "      <th>id</th>\n",
       "      <th>title</th>\n",
       "      <th>author</th>\n",
       "      <th>text</th>\n",
       "      <th>label</th>\n",
       "    </tr>\n",
       "  </thead>\n",
       "  <tbody>\n",
       "    <tr>\n",
       "      <th>0</th>\n",
       "      <td>0</td>\n",
       "      <td>House Dem Aide: We Didn’t Even See Comey’s Let...</td>\n",
       "      <td>Darrell Lucus</td>\n",
       "      <td>House Dem Aide: We Didn’t Even See Comey’s Let...</td>\n",
       "      <td>1</td>\n",
       "    </tr>\n",
       "    <tr>\n",
       "      <th>1</th>\n",
       "      <td>1</td>\n",
       "      <td>FLYNN: Hillary Clinton, Big Woman on Campus - ...</td>\n",
       "      <td>Daniel J. Flynn</td>\n",
       "      <td>Ever get the feeling your life circles the rou...</td>\n",
       "      <td>0</td>\n",
       "    </tr>\n",
       "    <tr>\n",
       "      <th>2</th>\n",
       "      <td>2</td>\n",
       "      <td>Why the Truth Might Get You Fired</td>\n",
       "      <td>Consortiumnews.com</td>\n",
       "      <td>Why the Truth Might Get You Fired October 29, ...</td>\n",
       "      <td>1</td>\n",
       "    </tr>\n",
       "    <tr>\n",
       "      <th>3</th>\n",
       "      <td>3</td>\n",
       "      <td>15 Civilians Killed In Single US Airstrike Hav...</td>\n",
       "      <td>Jessica Purkiss</td>\n",
       "      <td>Videos 15 Civilians Killed In Single US Airstr...</td>\n",
       "      <td>1</td>\n",
       "    </tr>\n",
       "    <tr>\n",
       "      <th>4</th>\n",
       "      <td>4</td>\n",
       "      <td>Iranian woman jailed for fictional unpublished...</td>\n",
       "      <td>Howard Portnoy</td>\n",
       "      <td>Print \\nAn Iranian woman has been sentenced to...</td>\n",
       "      <td>1</td>\n",
       "    </tr>\n",
       "  </tbody>\n",
       "</table>\n",
       "</div>"
      ],
      "text/plain": [
       "   id                                              title              author  \\\n",
       "0   0  House Dem Aide: We Didn’t Even See Comey’s Let...       Darrell Lucus   \n",
       "1   1  FLYNN: Hillary Clinton, Big Woman on Campus - ...     Daniel J. Flynn   \n",
       "2   2                  Why the Truth Might Get You Fired  Consortiumnews.com   \n",
       "3   3  15 Civilians Killed In Single US Airstrike Hav...     Jessica Purkiss   \n",
       "4   4  Iranian woman jailed for fictional unpublished...      Howard Portnoy   \n",
       "\n",
       "                                                text  label  \n",
       "0  House Dem Aide: We Didn’t Even See Comey’s Let...      1  \n",
       "1  Ever get the feeling your life circles the rou...      0  \n",
       "2  Why the Truth Might Get You Fired October 29, ...      1  \n",
       "3  Videos 15 Civilians Killed In Single US Airstr...      1  \n",
       "4  Print \\nAn Iranian woman has been sentenced to...      1  "
      ]
     },
     "execution_count": 3,
     "metadata": {},
     "output_type": "execute_result"
    }
   ],
   "source": [
    "df.head()"
   ]
  },
  {
   "cell_type": "code",
   "execution_count": 4,
   "metadata": {},
   "outputs": [
    {
     "name": "stdout",
     "output_type": "stream",
     "text": [
      "(18285, 5)\n"
     ]
    }
   ],
   "source": [
    "df.dropna(inplace = True)\n",
    "print(df.shape)"
   ]
  },
  {
   "cell_type": "markdown",
   "metadata": {},
   "source": [
    "## Text pre-processing\n",
    "In the follwing chunks the raw text data is processed by removing stopwords and by applying a stemming algorithm on the text."
   ]
  },
  {
   "cell_type": "code",
   "execution_count": 5,
   "metadata": {},
   "outputs": [],
   "source": [
    "df['text'].replace('\\n', ' ', regex = True, inplace = True)\n",
    "df[\"text\"] = df['text'].str.replace('[^\\w\\s]','')"
   ]
  },
  {
   "cell_type": "code",
   "execution_count": 6,
   "metadata": {},
   "outputs": [
    {
     "name": "stdout",
     "output_type": "stream",
     "text": [
      "179\n",
      "204\n"
     ]
    },
    {
     "name": "stderr",
     "output_type": "stream",
     "text": [
      "[nltk_data] Downloading package stopwords to C:\\Users\\Andri\n",
      "[nltk_data]     Freyr\\AppData\\Roaming\\nltk_data...\n",
      "[nltk_data]   Package stopwords is already up-to-date!\n"
     ]
    },
    {
     "data": {
      "text/plain": [
       "True"
      ]
     },
     "execution_count": 6,
     "metadata": {},
     "output_type": "execute_result"
    }
   ],
   "source": [
    "nltk.download('stopwords')\n",
    "stopwords_ = set(stopwords.words('english'))\n",
    "print(len(stopwords_))\n",
    "stopwords_short = set()\n",
    "for word in stopwords_:\n",
    "    word_short = re.sub(\n",
    "        '[^\\w\\s]',\n",
    "        '',\n",
    "        word\n",
    "    )\n",
    "    if word != word_short and word_short not in stopwords_short:\n",
    "        stopwords_short.add(word_short)\n",
    "stopwords_ = stopwords_.union(stopwords_short)\n",
    "print(len(stopwords_))\n",
    "    \n",
    "'didnt' in stopwords_"
   ]
  },
  {
   "cell_type": "code",
   "execution_count": 7,
   "metadata": {},
   "outputs": [
    {
     "data": {
      "text/html": [
       "<div>\n",
       "<style scoped>\n",
       "    .dataframe tbody tr th:only-of-type {\n",
       "        vertical-align: middle;\n",
       "    }\n",
       "\n",
       "    .dataframe tbody tr th {\n",
       "        vertical-align: top;\n",
       "    }\n",
       "\n",
       "    .dataframe thead th {\n",
       "        text-align: right;\n",
       "    }\n",
       "</style>\n",
       "<table border=\"1\" class=\"dataframe\">\n",
       "  <thead>\n",
       "    <tr style=\"text-align: right;\">\n",
       "      <th></th>\n",
       "      <th>id</th>\n",
       "      <th>title</th>\n",
       "      <th>author</th>\n",
       "      <th>text</th>\n",
       "      <th>label</th>\n",
       "      <th>n_stop</th>\n",
       "    </tr>\n",
       "  </thead>\n",
       "  <tbody>\n",
       "    <tr>\n",
       "      <th>0</th>\n",
       "      <td>0</td>\n",
       "      <td>House Dem Aide: We Didn’t Even See Comey’s Let...</td>\n",
       "      <td>Darrell Lucus</td>\n",
       "      <td>House Dem Aide We Didnt Even See Comeys Letter...</td>\n",
       "      <td>1</td>\n",
       "      <td>342</td>\n",
       "    </tr>\n",
       "    <tr>\n",
       "      <th>1</th>\n",
       "      <td>1</td>\n",
       "      <td>FLYNN: Hillary Clinton, Big Woman on Campus - ...</td>\n",
       "      <td>Daniel J. Flynn</td>\n",
       "      <td>Ever get the feeling your life circles the rou...</td>\n",
       "      <td>0</td>\n",
       "      <td>301</td>\n",
       "    </tr>\n",
       "    <tr>\n",
       "      <th>2</th>\n",
       "      <td>2</td>\n",
       "      <td>Why the Truth Might Get You Fired</td>\n",
       "      <td>Consortiumnews.com</td>\n",
       "      <td>Why the Truth Might Get You Fired October 29 2...</td>\n",
       "      <td>1</td>\n",
       "      <td>513</td>\n",
       "    </tr>\n",
       "    <tr>\n",
       "      <th>3</th>\n",
       "      <td>3</td>\n",
       "      <td>15 Civilians Killed In Single US Airstrike Hav...</td>\n",
       "      <td>Jessica Purkiss</td>\n",
       "      <td>Videos 15 Civilians Killed In Single US Airstr...</td>\n",
       "      <td>1</td>\n",
       "      <td>214</td>\n",
       "    </tr>\n",
       "    <tr>\n",
       "      <th>4</th>\n",
       "      <td>4</td>\n",
       "      <td>Iranian woman jailed for fictional unpublished...</td>\n",
       "      <td>Howard Portnoy</td>\n",
       "      <td>Print  An Iranian woman has been sentenced to ...</td>\n",
       "      <td>1</td>\n",
       "      <td>58</td>\n",
       "    </tr>\n",
       "    <tr>\n",
       "      <th>...</th>\n",
       "      <td>...</td>\n",
       "      <td>...</td>\n",
       "      <td>...</td>\n",
       "      <td>...</td>\n",
       "      <td>...</td>\n",
       "      <td>...</td>\n",
       "    </tr>\n",
       "    <tr>\n",
       "      <th>20795</th>\n",
       "      <td>20795</td>\n",
       "      <td>Rapper T.I.: Trump a ’Poster Child For White S...</td>\n",
       "      <td>Jerome Hudson</td>\n",
       "      <td>Rapper T I unloaded on black celebrities who m...</td>\n",
       "      <td>0</td>\n",
       "      <td>106</td>\n",
       "    </tr>\n",
       "    <tr>\n",
       "      <th>20796</th>\n",
       "      <td>20796</td>\n",
       "      <td>N.F.L. Playoffs: Schedule, Matchups and Odds -...</td>\n",
       "      <td>Benjamin Hoffman</td>\n",
       "      <td>When the Green Bay Packers lost to the Washing...</td>\n",
       "      <td>0</td>\n",
       "      <td>458</td>\n",
       "    </tr>\n",
       "    <tr>\n",
       "      <th>20797</th>\n",
       "      <td>20797</td>\n",
       "      <td>Macy’s Is Said to Receive Takeover Approach by...</td>\n",
       "      <td>Michael J. de la Merced and Rachel Abrams</td>\n",
       "      <td>The Macys of today grew from the union of seve...</td>\n",
       "      <td>0</td>\n",
       "      <td>306</td>\n",
       "    </tr>\n",
       "    <tr>\n",
       "      <th>20798</th>\n",
       "      <td>20798</td>\n",
       "      <td>NATO, Russia To Hold Parallel Exercises In Bal...</td>\n",
       "      <td>Alex Ansary</td>\n",
       "      <td>NATO Russia To Hold Parallel Exercises In Balk...</td>\n",
       "      <td>1</td>\n",
       "      <td>84</td>\n",
       "    </tr>\n",
       "    <tr>\n",
       "      <th>20799</th>\n",
       "      <td>20799</td>\n",
       "      <td>What Keeps the F-35 Alive</td>\n",
       "      <td>David Swanson</td>\n",
       "      <td>David Swanson is an author activist journali...</td>\n",
       "      <td>1</td>\n",
       "      <td>376</td>\n",
       "    </tr>\n",
       "  </tbody>\n",
       "</table>\n",
       "<p>18285 rows × 6 columns</p>\n",
       "</div>"
      ],
      "text/plain": [
       "          id                                              title  \\\n",
       "0          0  House Dem Aide: We Didn’t Even See Comey’s Let...   \n",
       "1          1  FLYNN: Hillary Clinton, Big Woman on Campus - ...   \n",
       "2          2                  Why the Truth Might Get You Fired   \n",
       "3          3  15 Civilians Killed In Single US Airstrike Hav...   \n",
       "4          4  Iranian woman jailed for fictional unpublished...   \n",
       "...      ...                                                ...   \n",
       "20795  20795  Rapper T.I.: Trump a ’Poster Child For White S...   \n",
       "20796  20796  N.F.L. Playoffs: Schedule, Matchups and Odds -...   \n",
       "20797  20797  Macy’s Is Said to Receive Takeover Approach by...   \n",
       "20798  20798  NATO, Russia To Hold Parallel Exercises In Bal...   \n",
       "20799  20799                          What Keeps the F-35 Alive   \n",
       "\n",
       "                                          author  \\\n",
       "0                                  Darrell Lucus   \n",
       "1                                Daniel J. Flynn   \n",
       "2                             Consortiumnews.com   \n",
       "3                                Jessica Purkiss   \n",
       "4                                 Howard Portnoy   \n",
       "...                                          ...   \n",
       "20795                              Jerome Hudson   \n",
       "20796                           Benjamin Hoffman   \n",
       "20797  Michael J. de la Merced and Rachel Abrams   \n",
       "20798                                Alex Ansary   \n",
       "20799                              David Swanson   \n",
       "\n",
       "                                                    text  label  n_stop  \n",
       "0      House Dem Aide We Didnt Even See Comeys Letter...      1     342  \n",
       "1      Ever get the feeling your life circles the rou...      0     301  \n",
       "2      Why the Truth Might Get You Fired October 29 2...      1     513  \n",
       "3      Videos 15 Civilians Killed In Single US Airstr...      1     214  \n",
       "4      Print  An Iranian woman has been sentenced to ...      1      58  \n",
       "...                                                  ...    ...     ...  \n",
       "20795  Rapper T I unloaded on black celebrities who m...      0     106  \n",
       "20796  When the Green Bay Packers lost to the Washing...      0     458  \n",
       "20797  The Macys of today grew from the union of seve...      0     306  \n",
       "20798  NATO Russia To Hold Parallel Exercises In Balk...      1      84  \n",
       "20799    David Swanson is an author activist journali...      1     376  \n",
       "\n",
       "[18285 rows x 6 columns]"
      ]
     },
     "execution_count": 7,
     "metadata": {},
     "output_type": "execute_result"
    }
   ],
   "source": [
    "# compare number of stopwords for fake and real articles\n",
    "def n_stopwords(text):\n",
    "    cnt = 0\n",
    "    for word in text.split():\n",
    "        if word in stopwords_: # O(1) lookup\n",
    "            cnt+=1\n",
    "    return cnt\n",
    "df= df.assign(\n",
    "        n_stop = lambda data: data['text'].map(lambda words: n_stopwords(words))\n",
    ")\n",
    "df"
   ]
  },
  {
   "cell_type": "code",
   "execution_count": 8,
   "metadata": {},
   "outputs": [],
   "source": [
    "n_stopwords_fake = df.loc[df['label'] == 1]['n_stop']\n",
    "n_stopwords_real = df.loc[df['label'] == 0]['n_stop']"
   ]
  },
  {
   "cell_type": "code",
   "execution_count": 9,
   "metadata": {},
   "outputs": [
    {
     "name": "stdout",
     "output_type": "stream",
     "text": [
      "[1, 5, 25, 50, 75, 95, 99]\n",
      "[0.0, 5.150000000000034, 64.0, 159.5, 340.0, 857.8499999999995, 1705.3999999999905]\n",
      "[28.0, 61.0, 152.0, 297.0, 460.0, 712.0, 1455.199999999999]\n"
     ]
    }
   ],
   "source": [
    "def get_percentiles(ls, perc):\n",
    "    # params:\n",
    "    # ls: list of numeric values\n",
    "    # perc: list of percentiles\n",
    "    return [np.percentile(ls, i) for i in perc]\n",
    "percs = [1, 5, 25, 50, 75, 95, 99]\n",
    "print(percs)\n",
    "print(get_percentiles(n_stopwords_fake, percs))\n",
    "print(get_percentiles(n_stopwords_real, percs))"
   ]
  },
  {
   "cell_type": "code",
   "execution_count": 10,
   "metadata": {},
   "outputs": [
    {
     "data": {
      "image/png": "[encoded data removed]",
      "text/plain": [
       "<Figure size 432x288 with 1 Axes>"
      ]
     },
     "metadata": {
      "needs_background": "light"
     },
     "output_type": "display_data"
    }
   ],
   "source": [
    "plt.hist(n_stopwords_fake, bins = 60,facecolor = '#2ab0ff', edgecolor='#169acf', linewidth=0.5)\n",
    "plt.xlabel('Number of stopwords')\n",
    "plt.ylabel('Frequency')\n",
    "plt.title('Fake news')\n",
    "plt.show()"
   ]
  },
  {
   "cell_type": "code",
   "execution_count": 11,
   "metadata": {},
   "outputs": [
    {
     "data": {
      "image/png": "[encoded data removed]",
      "text/plain": [
       "<Figure size 432x288 with 1 Axes>"
      ]
     },
     "metadata": {
      "needs_background": "light"
     },
     "output_type": "display_data"
    }
   ],
   "source": [
    "plt.hist(n_stopwords_real, bins = 60,facecolor = '#2ab0ff', edgecolor='#169acf', linewidth=0.5)\n",
    "plt.xlabel('Number of stopwords')\n",
    "plt.ylabel('Frequency')\n",
    "plt.title('Real news')\n",
    "plt.show()"
   ]
  },
  {
   "cell_type": "markdown",
   "metadata": {},
   "source": [
    "## Stemming\n",
    "Stemming is the process of reducing words to their word stem. In the following chunks a new column is added to the dataset. That columns contains the articles after stopwords have been removed and the words have been stemmed using the Porter2 algorithm,https://www.nltk.org/howto/stem.html ."
   ]
  },
  {
   "cell_type": "code",
   "execution_count": 12,
   "metadata": {},
   "outputs": [
    {
     "data": {
      "text/plain": [
       "'wait'"
      ]
     },
     "execution_count": 12,
     "metadata": {},
     "output_type": "execute_result"
    }
   ],
   "source": [
    "snow_stemmer = SnowballStemmer(language='english')\n",
    "snow_stemmer.stem('waiting') # an example of how it works"
   ]
  },
  {
   "cell_type": "code",
   "execution_count": 13,
   "metadata": {},
   "outputs": [
    {
     "data": {
      "text/plain": [
       "'hous dem aid even see comey letter jason chaffetz '"
      ]
     },
     "execution_count": 13,
     "metadata": {},
     "output_type": "execute_result"
    }
   ],
   "source": [
    "def stem_and_remove_stops(text):\n",
    "    text_lower = text.lower()\n",
    "    text_ls = text_lower.split()\n",
    "    ls_removed = [snow_stemmer.stem(word) for word in text_ls if word not in stopwords_]\n",
    "    return ' '.join(ls_removed)\n",
    "stem_and_remove_stops(df['text'][0])[:50]"
   ]
  },
  {
   "cell_type": "code",
   "execution_count": 14,
   "metadata": {},
   "outputs": [],
   "source": [
    "df = df.assign(\n",
    "    text_processed = lambda data: data['text'].map(lambda x: stem_and_remove_stops(x)) \n",
    ")"
   ]
  },
  {
   "cell_type": "code",
   "execution_count": 15,
   "metadata": {},
   "outputs": [
    {
     "data": {
      "text/html": [
       "<div>\n",
       "<style scoped>\n",
       "    .dataframe tbody tr th:only-of-type {\n",
       "        vertical-align: middle;\n",
       "    }\n",
       "\n",
       "    .dataframe tbody tr th {\n",
       "        vertical-align: top;\n",
       "    }\n",
       "\n",
       "    .dataframe thead th {\n",
       "        text-align: right;\n",
       "    }\n",
       "</style>\n",
       "<table border=\"1\" class=\"dataframe\">\n",
       "  <thead>\n",
       "    <tr style=\"text-align: right;\">\n",
       "      <th></th>\n",
       "      <th>id</th>\n",
       "      <th>title</th>\n",
       "      <th>author</th>\n",
       "      <th>text</th>\n",
       "      <th>label</th>\n",
       "      <th>n_stop</th>\n",
       "      <th>text_processed</th>\n",
       "      <th>cnt</th>\n",
       "    </tr>\n",
       "  </thead>\n",
       "  <tbody>\n",
       "    <tr>\n",
       "      <th>0</th>\n",
       "      <td>0</td>\n",
       "      <td>House Dem Aide: We Didn’t Even See Comey’s Let...</td>\n",
       "      <td>Darrell Lucus</td>\n",
       "      <td>House Dem Aide We Didnt Even See Comeys Letter...</td>\n",
       "      <td>1</td>\n",
       "      <td>342</td>\n",
       "      <td>hous dem aid even see comey letter jason chaff...</td>\n",
       "      <td>437</td>\n",
       "    </tr>\n",
       "    <tr>\n",
       "      <th>1</th>\n",
       "      <td>1</td>\n",
       "      <td>FLYNN: Hillary Clinton, Big Woman on Campus - ...</td>\n",
       "      <td>Daniel J. Flynn</td>\n",
       "      <td>Ever get the feeling your life circles the rou...</td>\n",
       "      <td>0</td>\n",
       "      <td>301</td>\n",
       "      <td>ever get feel life circl roundabout rather hea...</td>\n",
       "      <td>377</td>\n",
       "    </tr>\n",
       "  </tbody>\n",
       "</table>\n",
       "</div>"
      ],
      "text/plain": [
       "   id                                              title           author  \\\n",
       "0   0  House Dem Aide: We Didn’t Even See Comey’s Let...    Darrell Lucus   \n",
       "1   1  FLYNN: Hillary Clinton, Big Woman on Campus - ...  Daniel J. Flynn   \n",
       "\n",
       "                                                text  label  n_stop  \\\n",
       "0  House Dem Aide We Didnt Even See Comeys Letter...      1     342   \n",
       "1  Ever get the feeling your life circles the rou...      0     301   \n",
       "\n",
       "                                      text_processed  cnt  \n",
       "0  hous dem aid even see comey letter jason chaff...  437  \n",
       "1  ever get feel life circl roundabout rather hea...  377  "
      ]
     },
     "execution_count": 15,
     "metadata": {},
     "output_type": "execute_result"
    }
   ],
   "source": [
    "# get word count of non-stopwords\n",
    "df = df.assign(\n",
    "    cnt = lambda data: data['text_processed'].map(lambda x: len(x.split()))\n",
    ")\n",
    "df.head(2)"
   ]
  },
  {
   "cell_type": "markdown",
   "metadata": {},
   "source": [
    "## Feature engineering\n",
    "Next we prepere the data for a model where the order of words in the texts is not relevant. Generate a bag-of-words vector for each of the articles, we use a bag of N-grams with N = 1,2 to try to capture the context of the words a little better."
   ]
  },
  {
   "cell_type": "code",
   "execution_count": 16,
   "metadata": {},
   "outputs": [
    {
     "data": {
      "text/plain": [
       "(18285, 7500)"
      ]
     },
     "execution_count": 16,
     "metadata": {},
     "output_type": "execute_result"
    }
   ],
   "source": [
    "# don't know how many features are relevant\n",
    "vectorizer = CountVectorizer(max_features = 7500, ngram_range = (1,2))\n",
    "X = vectorizer.fit_transform(df['text_processed']).toarray()\n",
    "X.shape"
   ]
  },
  {
   "cell_type": "code",
   "execution_count": 17,
   "metadata": {},
   "outputs": [
    {
     "data": {
      "text/plain": [
       "['anybodi',\n",
       " 'anymor',\n",
       " 'anyon',\n",
       " 'anyon els',\n",
       " 'anyth',\n",
       " 'anyth els',\n",
       " 'anyway',\n",
       " 'anywher',\n",
       " 'ap',\n",
       " 'apart',\n",
       " 'apolog',\n",
       " 'app',\n",
       " 'appal',\n",
       " 'appar',\n",
       " 'apparatus',\n",
       " 'appeal',\n",
       " 'appeal court',\n",
       " 'appear',\n",
       " 'appear first',\n",
       " 'appetit']"
      ]
     },
     "execution_count": 17,
     "metadata": {},
     "output_type": "execute_result"
    }
   ],
   "source": [
    "vocab = vectorizer.vocabulary_\n",
    "vectorizer.get_feature_names()[500:520]"
   ]
  },
  {
   "cell_type": "code",
   "execution_count": 20,
   "metadata": {},
   "outputs": [],
   "source": [
    "y = list(df['label'])\n",
    "X_train, X_test, y_train, y_test = train_test_split(X, y, test_size = 0.15)"
   ]
  },
  {
   "cell_type": "code",
   "execution_count": 21,
   "metadata": {},
   "outputs": [
    {
     "name": "stdout",
     "output_type": "stream",
     "text": [
      "0.954064892453518\n"
     ]
    }
   ],
   "source": [
    "# base_model, bag of words random forest\n",
    "crf = RandomForestClassifier()\n",
    "crf.fit(X = X_train, y = y_train)\n",
    "test_acc = crf.score(X_test, y_test)\n",
    "print(test_acc)"
   ]
  },
  {
   "cell_type": "code",
   "execution_count": 22,
   "metadata": {},
   "outputs": [
    {
     "name": "stdout",
     "output_type": "stream",
     "text": [
      "[[1494   32]\n",
      " [  94 1123]]\n"
     ]
    }
   ],
   "source": [
    "y_pred = crf.predict(X_test)\n",
    "conf_mat = confusion_matrix(y_test, y_pred)\n",
    "print(conf_mat)"
   ]
  },
  {
   "cell_type": "markdown",
   "metadata": {},
   "source": [
    "## Feature selection with Boruta\n",
    "\n",
    "In order to improve the base model, feature selection is done with Boruta,\n",
    "https://github.com/scikit-learn-contrib/boruta_py"
   ]
  },
  {
   "cell_type": "code",
   "execution_count": 23,
   "metadata": {},
   "outputs": [],
   "source": [
    "from boruta import BorutaPy\n",
    "crf = RandomForestClassifier()\n",
    "feat_selector = BorutaPy(crf, n_estimators = 'auto', verbose = 2, max_iter = 50)"
   ]
  },
  {
   "cell_type": "code",
   "execution_count": 24,
   "metadata": {},
   "outputs": [
    {
     "name": "stdout",
     "output_type": "stream",
     "text": [
      "Iteration: \t1 / 50\n",
      "Confirmed: \t0\n",
      "Tentative: \t7500\n",
      "Rejected: \t0\n",
      "Iteration: \t2 / 50\n",
      "Confirmed: \t0\n",
      "Tentative: \t7500\n",
      "Rejected: \t0\n",
      "Iteration: \t3 / 50\n",
      "Confirmed: \t0\n",
      "Tentative: \t7500\n",
      "Rejected: \t0\n",
      "Iteration: \t4 / 50\n",
      "Confirmed: \t0\n",
      "Tentative: \t7500\n",
      "Rejected: \t0\n",
      "Iteration: \t5 / 50\n",
      "Confirmed: \t0\n",
      "Tentative: \t7500\n",
      "Rejected: \t0\n",
      "Iteration: \t6 / 50\n",
      "Confirmed: \t0\n",
      "Tentative: \t7500\n",
      "Rejected: \t0\n",
      "Iteration: \t7 / 50\n",
      "Confirmed: \t0\n",
      "Tentative: \t7500\n",
      "Rejected: \t0\n",
      "Iteration: \t8 / 50\n",
      "Confirmed: \t0\n",
      "Tentative: \t291\n",
      "Rejected: \t7209\n",
      "Iteration: \t9 / 50\n",
      "Confirmed: \t78\n",
      "Tentative: \t213\n",
      "Rejected: \t7209\n",
      "Iteration: \t10 / 50\n",
      "Confirmed: \t78\n",
      "Tentative: \t213\n",
      "Rejected: \t7209\n",
      "Iteration: \t11 / 50\n",
      "Confirmed: \t78\n",
      "Tentative: \t213\n",
      "Rejected: \t7209\n",
      "Iteration: \t12 / 50\n",
      "Confirmed: \t81\n",
      "Tentative: \t210\n",
      "Rejected: \t7209\n",
      "Iteration: \t13 / 50\n",
      "Confirmed: \t81\n",
      "Tentative: \t200\n",
      "Rejected: \t7219\n",
      "Iteration: \t14 / 50\n",
      "Confirmed: \t81\n",
      "Tentative: \t200\n",
      "Rejected: \t7219\n",
      "Iteration: \t15 / 50\n",
      "Confirmed: \t81\n",
      "Tentative: \t200\n",
      "Rejected: \t7219\n",
      "Iteration: \t16 / 50\n",
      "Confirmed: \t82\n",
      "Tentative: \t199\n",
      "Rejected: \t7219\n",
      "Iteration: \t17 / 50\n",
      "Confirmed: \t82\n",
      "Tentative: \t190\n",
      "Rejected: \t7228\n",
      "Iteration: \t18 / 50\n",
      "Confirmed: \t82\n",
      "Tentative: \t190\n",
      "Rejected: \t7228\n",
      "Iteration: \t19 / 50\n",
      "Confirmed: \t83\n",
      "Tentative: \t189\n",
      "Rejected: \t7228\n",
      "Iteration: \t20 / 50\n",
      "Confirmed: \t83\n",
      "Tentative: \t179\n",
      "Rejected: \t7238\n",
      "Iteration: \t21 / 50\n",
      "Confirmed: \t83\n",
      "Tentative: \t179\n",
      "Rejected: \t7238\n",
      "Iteration: \t22 / 50\n",
      "Confirmed: \t83\n",
      "Tentative: \t179\n",
      "Rejected: \t7238\n",
      "Iteration: \t23 / 50\n",
      "Confirmed: \t83\n",
      "Tentative: \t179\n",
      "Rejected: \t7238\n",
      "Iteration: \t24 / 50\n",
      "Confirmed: \t83\n",
      "Tentative: \t174\n",
      "Rejected: \t7243\n",
      "Iteration: \t25 / 50\n",
      "Confirmed: \t83\n",
      "Tentative: \t174\n",
      "Rejected: \t7243\n",
      "Iteration: \t26 / 50\n",
      "Confirmed: \t83\n",
      "Tentative: \t160\n",
      "Rejected: \t7257\n",
      "Iteration: \t27 / 50\n",
      "Confirmed: \t83\n",
      "Tentative: \t160\n",
      "Rejected: \t7257\n",
      "Iteration: \t28 / 50\n",
      "Confirmed: \t83\n",
      "Tentative: \t160\n",
      "Rejected: \t7257\n",
      "Iteration: \t29 / 50\n",
      "Confirmed: \t83\n",
      "Tentative: \t146\n",
      "Rejected: \t7271\n",
      "Iteration: \t30 / 50\n",
      "Confirmed: \t83\n",
      "Tentative: \t146\n",
      "Rejected: \t7271\n",
      "Iteration: \t31 / 50\n",
      "Confirmed: \t83\n",
      "Tentative: \t146\n",
      "Rejected: \t7271\n",
      "Iteration: \t32 / 50\n",
      "Confirmed: \t83\n",
      "Tentative: \t133\n",
      "Rejected: \t7284\n",
      "Iteration: \t33 / 50\n",
      "Confirmed: \t83\n",
      "Tentative: \t133\n",
      "Rejected: \t7284\n",
      "Iteration: \t34 / 50\n",
      "Confirmed: \t83\n",
      "Tentative: \t11\n",
      "Rejected: \t7406\n",
      "Iteration: \t35 / 50\n",
      "Confirmed: \t83\n",
      "Tentative: \t11\n",
      "Rejected: \t7406\n",
      "Iteration: \t36 / 50\n",
      "Confirmed: \t83\n",
      "Tentative: \t11\n",
      "Rejected: \t7406\n",
      "Iteration: \t37 / 50\n",
      "Confirmed: \t83\n",
      "Tentative: \t7\n",
      "Rejected: \t7410\n",
      "Iteration: \t38 / 50\n",
      "Confirmed: \t83\n",
      "Tentative: \t7\n",
      "Rejected: \t7410\n",
      "Iteration: \t39 / 50\n",
      "Confirmed: \t83\n",
      "Tentative: \t7\n",
      "Rejected: \t7410\n",
      "Iteration: \t40 / 50\n",
      "Confirmed: \t83\n",
      "Tentative: \t6\n",
      "Rejected: \t7411\n",
      "Iteration: \t41 / 50\n",
      "Confirmed: \t83\n",
      "Tentative: \t6\n",
      "Rejected: \t7411\n",
      "Iteration: \t42 / 50\n",
      "Confirmed: \t83\n",
      "Tentative: \t6\n",
      "Rejected: \t7411\n",
      "Iteration: \t43 / 50\n",
      "Confirmed: \t83\n",
      "Tentative: \t3\n",
      "Rejected: \t7414\n",
      "Iteration: \t44 / 50\n",
      "Confirmed: \t83\n",
      "Tentative: \t3\n",
      "Rejected: \t7414\n",
      "Iteration: \t45 / 50\n",
      "Confirmed: \t83\n",
      "Tentative: \t3\n",
      "Rejected: \t7414\n",
      "Iteration: \t46 / 50\n",
      "Confirmed: \t83\n",
      "Tentative: \t3\n",
      "Rejected: \t7414\n",
      "Iteration: \t47 / 50\n",
      "Confirmed: \t83\n",
      "Tentative: \t3\n",
      "Rejected: \t7414\n",
      "Iteration: \t48 / 50\n",
      "Confirmed: \t83\n",
      "Tentative: \t3\n",
      "Rejected: \t7414\n",
      "Iteration: \t49 / 50\n",
      "Confirmed: \t83\n",
      "Tentative: \t3\n",
      "Rejected: \t7414\n",
      "\n",
      "\n",
      "BorutaPy finished running.\n",
      "\n",
      "Iteration: \t50 / 50\n",
      "Confirmed: \t83\n",
      "Tentative: \t0\n",
      "Rejected: \t7414\n"
     ]
    },
    {
     "data": {
      "text/plain": [
       "BorutaPy(alpha=0.05,\n",
       "         estimator=RandomForestClassifier(bootstrap=True, ccp_alpha=0.0,\n",
       "                                          class_weight=None, criterion='gini',\n",
       "                                          max_depth=None, max_features='auto',\n",
       "                                          max_leaf_nodes=None, max_samples=None,\n",
       "                                          min_impurity_decrease=0.0,\n",
       "                                          min_impurity_split=None,\n",
       "                                          min_samples_leaf=1,\n",
       "                                          min_samples_split=2,\n",
       "                                          min_weight_fraction_leaf=0.0,\n",
       "                                          n_estimators=131, n_jobs=None,\n",
       "                                          oob_score=False,\n",
       "                                          random_state=RandomState(MT19937) at 0x129F9D46B40,\n",
       "                                          verbose=0, warm_start=False),\n",
       "         max_iter=50, n_estimators='auto', perc=100,\n",
       "         random_state=RandomState(MT19937) at 0x129F9D46B40, two_step=True,\n",
       "         verbose=2)"
      ]
     },
     "execution_count": 24,
     "metadata": {},
     "output_type": "execute_result"
    }
   ],
   "source": [
    "feat_selector.fit(X_train, y_train) # slow so pick 50 as max_iter"
   ]
  },
  {
   "cell_type": "code",
   "execution_count": 25,
   "metadata": {},
   "outputs": [
    {
     "data": {
      "text/plain": [
       "array([ True, False, False, ..., False, False, False])"
      ]
     },
     "execution_count": 25,
     "metadata": {},
     "output_type": "execute_result"
    }
   ],
   "source": [
    "feat_selector.support_"
   ]
  },
  {
   "cell_type": "code",
   "execution_count": 26,
   "metadata": {},
   "outputs": [
    {
     "data": {
      "text/plain": [
       "7500"
      ]
     },
     "execution_count": 26,
     "metadata": {},
     "output_type": "execute_result"
    }
   ],
   "source": [
    "len(feat_selector.support_)"
   ]
  },
  {
   "cell_type": "code",
   "execution_count": 27,
   "metadata": {},
   "outputs": [
    {
     "data": {
      "text/plain": [
       "83"
      ]
     },
     "execution_count": 27,
     "metadata": {},
     "output_type": "execute_result"
    }
   ],
   "source": [
    "list(feat_selector.support_).count(True)"
   ]
  },
  {
   "cell_type": "markdown",
   "metadata": {},
   "source": [
    "## Important features\n",
    "The following words/word pairs are used in the compressed feature vectors."
   ]
  },
  {
   "cell_type": "code",
   "execution_count": 28,
   "metadata": {},
   "outputs": [
    {
     "name": "stdout",
     "output_type": "stream",
     "text": [
      "000\n",
      "2016\n",
      "2017\n",
      "ad\n",
      "administr\n",
      "also\n",
      "ap\n",
      "articl\n",
      "breitbart\n",
      "breitbart news\n",
      "call\n",
      "citi\n",
      "click\n",
      "clinton\n",
      "com\n",
      "critic\n",
      "donald\n",
      "donald trump\n",
      "elect\n",
      "email\n",
      "execut\n",
      "fact\n",
      "fbi\n",
      "first\n",
      "follow\n",
      "follow twitter\n",
      "friday\n",
      "hillari\n",
      "hillari clinton\n",
      "hous\n",
      "howev\n",
      "includ\n",
      "last\n",
      "last year\n",
      "later\n",
      "like\n",
      "monday\n",
      "month\n",
      "mr\n",
      "mr trump\n",
      "ms\n",
      "new\n",
      "new york\n",
      "novemb\n",
      "novemb 2016\n",
      "octob\n",
      "one\n",
      "peopl\n",
      "percent\n",
      "pic\n",
      "pic twitter\n",
      "presid\n",
      "presid donald\n",
      "presid trump\n",
      "presidentelect\n",
      "report\n",
      "said\n",
      "said mr\n",
      "saturday\n",
      "say\n",
      "share\n",
      "socal\n",
      "sourc\n",
      "state\n",
      "sunday\n",
      "three\n",
      "thursday\n",
      "time\n",
      "told\n",
      "trump\n",
      "tuesday\n",
      "twitter\n",
      "two\n",
      "un\n",
      "us\n",
      "via\n",
      "war\n",
      "week\n",
      "wikileak\n",
      "world\n",
      "would\n",
      "year\n",
      "york\n"
     ]
    }
   ],
   "source": [
    "for i, f in enumerate(feat_selector.support_):\n",
    "    if f:\n",
    "        print(vectorizer.get_feature_names()[i])"
   ]
  },
  {
   "cell_type": "code",
   "execution_count": 29,
   "metadata": {},
   "outputs": [
    {
     "data": {
      "text/plain": [
       "(15542, 83)"
      ]
     },
     "execution_count": 29,
     "metadata": {},
     "output_type": "execute_result"
    }
   ],
   "source": [
    "X_train1 = feat_selector.transform(X_train)\n",
    "X_test1 = feat_selector.transform(X_test)\n",
    "X_train1.shape"
   ]
  },
  {
   "cell_type": "code",
   "execution_count": 30,
   "metadata": {},
   "outputs": [
    {
     "name": "stdout",
     "output_type": "stream",
     "text": [
      "0.954064892453518\n",
      "[[1460   66]\n",
      " [  60 1157]]\n"
     ]
    }
   ],
   "source": [
    "crf = RandomForestClassifier()\n",
    "crf.fit(X = X_train1, y = y_train)\n",
    "test_acc = crf.score(X_test1, y_test)\n",
    "print(test_acc)\n",
    "y_pred = crf.predict(X_test1)\n",
    "conf_mat = confusion_matrix(y_test, y_pred)\n",
    "print(conf_mat)"
   ]
  },
  {
   "cell_type": "markdown",
   "metadata": {},
   "source": [
    "## Results\n",
    "After reducing the number of features to 76 the accuracy of the model is on par with the original model."
   ]
  },
  {
   "cell_type": "markdown",
   "metadata": {},
   "source": [
    "## Kaggle submission\n",
    "Use the final model on the unlabeled test dataset and submit to kaggle and get real test accuracy."
   ]
  },
  {
   "cell_type": "code",
   "execution_count": 31,
   "metadata": {},
   "outputs": [
    {
     "data": {
      "text/plain": [
       "(5200, 4)"
      ]
     },
     "execution_count": 31,
     "metadata": {},
     "output_type": "execute_result"
    }
   ],
   "source": [
    "df_test = pd.read_csv('fake-news/test.csv')\n",
    "df_test = df_test.fillna('')\n",
    "df_test.shape"
   ]
  },
  {
   "cell_type": "code",
   "execution_count": 32,
   "metadata": {},
   "outputs": [],
   "source": [
    "df_test['text'].replace('\\n', ' ', regex = True, inplace = True)\n",
    "df_test[\"text\"] = df_test['text'].str.replace('[^\\w\\s]','')"
   ]
  },
  {
   "cell_type": "code",
   "execution_count": 33,
   "metadata": {},
   "outputs": [],
   "source": [
    "df_test = df_test.assign(\n",
    "    text_processed = lambda data: data['text'].map(lambda x: stem_and_remove_stops(x)) \n",
    ")"
   ]
  },
  {
   "cell_type": "code",
   "execution_count": 34,
   "metadata": {},
   "outputs": [],
   "source": [
    "X_test = vectorizer.transform(df_test['text_processed']).toarray()"
   ]
  },
  {
   "cell_type": "code",
   "execution_count": 35,
   "metadata": {},
   "outputs": [],
   "source": [
    "X_test = feat_selector.transform(X_test)"
   ]
  },
  {
   "cell_type": "code",
   "execution_count": 36,
   "metadata": {},
   "outputs": [],
   "source": [
    "y_out = crf.predict(X_test)"
   ]
  },
  {
   "cell_type": "code",
   "execution_count": 37,
   "metadata": {},
   "outputs": [
    {
     "data": {
      "text/plain": [
       "2645"
      ]
     },
     "execution_count": 37,
     "metadata": {},
     "output_type": "execute_result"
    }
   ],
   "source": [
    "list(y_out).count(0)"
   ]
  },
  {
   "cell_type": "code",
   "execution_count": 38,
   "metadata": {},
   "outputs": [
    {
     "data": {
      "text/html": [
       "<div>\n",
       "<style scoped>\n",
       "    .dataframe tbody tr th:only-of-type {\n",
       "        vertical-align: middle;\n",
       "    }\n",
       "\n",
       "    .dataframe tbody tr th {\n",
       "        vertical-align: top;\n",
       "    }\n",
       "\n",
       "    .dataframe thead th {\n",
       "        text-align: right;\n",
       "    }\n",
       "</style>\n",
       "<table border=\"1\" class=\"dataframe\">\n",
       "  <thead>\n",
       "    <tr style=\"text-align: right;\">\n",
       "      <th></th>\n",
       "      <th>id</th>\n",
       "      <th>label</th>\n",
       "    </tr>\n",
       "  </thead>\n",
       "  <tbody>\n",
       "    <tr>\n",
       "      <th>0</th>\n",
       "      <td>20800</td>\n",
       "      <td>0</td>\n",
       "    </tr>\n",
       "    <tr>\n",
       "      <th>1</th>\n",
       "      <td>20801</td>\n",
       "      <td>1</td>\n",
       "    </tr>\n",
       "    <tr>\n",
       "      <th>2</th>\n",
       "      <td>20802</td>\n",
       "      <td>1</td>\n",
       "    </tr>\n",
       "    <tr>\n",
       "      <th>3</th>\n",
       "      <td>20803</td>\n",
       "      <td>0</td>\n",
       "    </tr>\n",
       "    <tr>\n",
       "      <th>4</th>\n",
       "      <td>20804</td>\n",
       "      <td>1</td>\n",
       "    </tr>\n",
       "    <tr>\n",
       "      <th>...</th>\n",
       "      <td>...</td>\n",
       "      <td>...</td>\n",
       "    </tr>\n",
       "    <tr>\n",
       "      <th>5195</th>\n",
       "      <td>25995</td>\n",
       "      <td>0</td>\n",
       "    </tr>\n",
       "    <tr>\n",
       "      <th>5196</th>\n",
       "      <td>25996</td>\n",
       "      <td>0</td>\n",
       "    </tr>\n",
       "    <tr>\n",
       "      <th>5197</th>\n",
       "      <td>25997</td>\n",
       "      <td>0</td>\n",
       "    </tr>\n",
       "    <tr>\n",
       "      <th>5198</th>\n",
       "      <td>25998</td>\n",
       "      <td>1</td>\n",
       "    </tr>\n",
       "    <tr>\n",
       "      <th>5199</th>\n",
       "      <td>25999</td>\n",
       "      <td>0</td>\n",
       "    </tr>\n",
       "  </tbody>\n",
       "</table>\n",
       "<p>5200 rows × 2 columns</p>\n",
       "</div>"
      ],
      "text/plain": [
       "         id  label\n",
       "0     20800      0\n",
       "1     20801      1\n",
       "2     20802      1\n",
       "3     20803      0\n",
       "4     20804      1\n",
       "...     ...    ...\n",
       "5195  25995      0\n",
       "5196  25996      0\n",
       "5197  25997      0\n",
       "5198  25998      1\n",
       "5199  25999      0\n",
       "\n",
       "[5200 rows x 2 columns]"
      ]
     },
     "execution_count": 38,
     "metadata": {},
     "output_type": "execute_result"
    }
   ],
   "source": [
    "df_out = pd.DataFrame(y_out)\n",
    "df_out.columns = ['label']\n",
    "ids = list(range(20800, 20800+5200))\n",
    "df_out.insert(0, 'id', ids, True)\n",
    "\n",
    "df_out"
   ]
  },
  {
   "cell_type": "code",
   "execution_count": 39,
   "metadata": {},
   "outputs": [],
   "source": [
    "df_out.to_csv('y_out1.csv', encoding = 'utf-8-sig', index = False)"
   ]
  },
  {
   "cell_type": "markdown",
   "metadata": {},
   "source": [
    "![title](assignment3_kaggle_score.png)"
   ]
  }
 ],
 "metadata": {
  "kernelspec": {
   "display_name": "Python 3",
   "language": "python",
   "name": "python3"
  },
  "language_info": {
   "codemirror_mode": {
    "name": "ipython",
    "version": 3
   },
   "file_extension": ".py",
   "mimetype": "text/x-python",
   "name": "python",
   "nbconvert_exporter": "python",
   "pygments_lexer": "ipython3",
   "version": "3.8.1"
  }
 },
 "nbformat": 4,
 "nbformat_minor": 4
}
