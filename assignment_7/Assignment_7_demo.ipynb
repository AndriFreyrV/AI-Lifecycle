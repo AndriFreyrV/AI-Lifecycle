{
 "cells": [
  {
   "cell_type": "markdown",
   "metadata": {},
   "source": [
    "## Assignment 7 - REI 603M\n",
    "### Demo Notebook, Andri Freyr Viðarsson\n",
    "\n",
    "This notebook documents how to interact with a web api to get predictions from the model I built in assignment 5. The model predicts on hourly basis the use of a bike sharing system, the data used to train the model is available on https://archive.ics.uci.edu/ml/datasets/Bike+Sharing+Dataset."
   ]
  },
  {
   "cell_type": "markdown",
   "metadata": {},
   "source": [
    "## Model/Api parameters\n",
    "The parameters passed to the api are:\n",
    "* yr: (0:2011, 1:2012)\n",
    "* mnth: month(1 - 12)\n",
    "* hr: hour(0-23)\n",
    "* weekday: day of the week(0-6)\n",
    "* workingday: if day is neither weekend nor holiday is 1, otherwise is 0.\n",
    "* temp: Normalized temperature in Celsius\n",
    "* atemp: Normalized feeling temperature in Celsius\n",
    "* hum: Normalized homidity\n",
    "* windspeed: Normalized wind speed\n",
    "* season: season (1:winter, 2:spring, 3:summer, 4:fall)\n",
    "* weathersit:\n",
    "- 1: Clear, Few clouds, Partly cloudy, Partly cloudy\n",
    "- 2: Mist + Cloudy, Mist + Broken clouds, Mist + Few clouds, Mist\n",
    "- 3: Light Snow, Light Rain + Thunderstorm + Scattered clouds, Light Rain + Scattered clouds\n",
    "- 4 : Heavy Rain + Ice Pallets + Thunderstorm + Mist, Snow + Fog\n",
    "\n",
    "Note that the season and weahtersit variables variables are coded using one hot encoding before feeding the features to the model."
   ]
  },
  {
   "cell_type": "code",
   "execution_count": 6,
   "metadata": {},
   "outputs": [],
   "source": [
    "import requests\n",
    "import random\n",
    "\n",
    "features = {\n",
    "    'yr':{'min':0, 'max':1, 'type': 'int'},\n",
    "    'mnth':{'min':1, 'max':12, 'type':'int'},\n",
    "    'hr': {'min':0, 'max':23, 'type': 'int'},\n",
    "    'weekday':{'min':0, 'max':6, 'type':'int'},\n",
    "    'workingday':{'min':0, 'max':1, 'type':'int'},\n",
    "    'temp':{'min':0, 'max':1, 'type':'float'},\n",
    "    'atemp':{'min':0, 'max':1, 'type':'float'},\n",
    "    'hum':{'min':0, 'max':1, 'type':'float'},\n",
    "    'windspeed':{'min':0, 'max':1, 'type':'float'},\n",
    "    'season':{'min':1, 'max':4, 'type':'int'},\n",
    "    'weathersit':{'min':1, 'max':4, 'type':'int'}\n",
    "}"
   ]
  },
  {
   "cell_type": "code",
   "execution_count": null,
   "metadata": {},
   "outputs": [],
   "source": [
    "def gen_params():\n",
    "    params = {}\n",
    "    for k,v in features.items():\n",
    "        if v['type'] == 'int':\n",
    "            params[k] = random.randint(v['min'], v['max'])\n",
    "        else:\n",
    "            params[k] = random.uniform(v['min'], v['max'])\n",
    "    return params\n",
    "gen_params()  "
   ]
  },
  {
   "cell_type": "markdown",
   "metadata": {},
   "source": [
    "## Call the api"
   ]
  },
  {
   "cell_type": "code",
   "execution_count": 14,
   "metadata": {},
   "outputs": [
    {
     "name": "stdout",
     "output_type": "stream",
     "text": [
      "{'yr': 1, 'mnth': 8, 'hr': 9, 'weekday': 0, 'workingday': 1, 'temp': 0.17921955547770274, 'atemp': 0.2702654516984896, 'hum': 0.8190702899265091, 'windspeed': 0.38345251045684947, 'season': 1, 'weathersit': 2}\n",
      "Prediction for Params: 255.425 \n",
      "\n",
      "{'yr': 0, 'mnth': 1, 'hr': 3, 'weekday': 0, 'workingday': 1, 'temp': 0.5214619074377901, 'atemp': 0.6499298576582109, 'hum': 0.3725532428027303, 'windspeed': 0.5266475741948738, 'season': 1, 'weathersit': 1}\n",
      "Prediction for Params: 5.0 \n",
      "\n",
      "{'yr': 1, 'mnth': 1, 'hr': 20, 'weekday': 1, 'workingday': 1, 'temp': 0.912417028904321, 'atemp': 0.17885627109584967, 'hum': 0.6663149836361355, 'windspeed': 0.6874895337980623, 'season': 4, 'weathersit': 3}\n",
      "Prediction for Params: 298.48 \n",
      "\n",
      "{'yr': 1, 'mnth': 4, 'hr': 20, 'weekday': 0, 'workingday': 1, 'temp': 0.9222887814295518, 'atemp': 0.4079356948819344, 'hum': 0.4891161041998894, 'windspeed': 0.45404559930445276, 'season': 4, 'weathersit': 2}\n",
      "Prediction for Params: 322.27 \n",
      "\n",
      "{'yr': 1, 'mnth': 4, 'hr': 10, 'weekday': 0, 'workingday': 0, 'temp': 0.004658055913709158, 'atemp': 0.5696076794380655, 'hum': 0.0516690377142357, 'windspeed': 0.0065125937686179025, 'season': 1, 'weathersit': 3}\n",
      "Prediction for Params: 228.215 \n",
      "\n",
      "{'yr': 1, 'mnth': 6, 'hr': 13, 'weekday': 4, 'workingday': 0, 'temp': 0.7594186083194565, 'atemp': 0.1504660640258435, 'hum': 0.6802659223444805, 'windspeed': 0.9918520803698985, 'season': 4, 'weathersit': 2}\n",
      "Prediction for Params: 472.93 \n",
      "\n",
      "{'yr': 0, 'mnth': 4, 'hr': 19, 'weekday': 3, 'workingday': 0, 'temp': 0.17607941824109719, 'atemp': 0.3514533570406434, 'hum': 0.9325708851327714, 'windspeed': 0.3260662846032212, 'season': 2, 'weathersit': 3}\n",
      "Prediction for Params: 76.885 \n",
      "\n",
      "{'yr': 1, 'mnth': 5, 'hr': 21, 'weekday': 1, 'workingday': 0, 'temp': 0.663851024785045, 'atemp': 0.23649997718655857, 'hum': 0.7374715167974191, 'windspeed': 0.1702849435703485, 'season': 4, 'weathersit': 1}\n",
      "Prediction for Params: 218.155 \n",
      "\n",
      "{'yr': 1, 'mnth': 1, 'hr': 4, 'weekday': 5, 'workingday': 1, 'temp': 0.0747938168590162, 'atemp': 0.1673760786052858, 'hum': 0.7952806618449119, 'windspeed': 0.5411775711870436, 'season': 3, 'weathersit': 1}\n",
      "Prediction for Params: 2.53 \n",
      "\n",
      "{'yr': 0, 'mnth': 6, 'hr': 19, 'weekday': 5, 'workingday': 1, 'temp': 0.24869246814403045, 'atemp': 0.7550150787579373, 'hum': 0.3150203915568097, 'windspeed': 0.9321498333019671, 'season': 3, 'weathersit': 4}\n",
      "Prediction for Params: 127.065 \n",
      "\n"
     ]
    }
   ],
   "source": [
    "endpoint_url = 'http://ec2-18-232-63-74.compute-1.amazonaws.com:8080/predict'\n",
    "\n",
    "def get_prediction(PARAMS):\n",
    "    r = requests.get(endpoint_url, params = PARAMS)\n",
    "    return r.json()\n",
    "\n",
    "for _ in range(10):\n",
    "    params = gen_params()\n",
    "    pred = get_prediction(params)\n",
    "    print(params)\n",
    "    print('Prediction for Params:', pred['pred'], '\\n')"
   ]
  },
  {
   "cell_type": "markdown",
   "metadata": {},
   "source": [
    "## Process summary\n",
    "The api was built using the Flask-RESTful library and it was deployed on AWS using a ec2 instance. Most of the time was spent on figuring out how to deploy the api to a server, the Flask-RESTful library was easy to work with in this case."
   ]
  }
 ],
 "metadata": {
  "kernelspec": {
   "display_name": "Python 3",
   "language": "python",
   "name": "python3"
  },
  "language_info": {
   "codemirror_mode": {
    "name": "ipython",
    "version": 3
   },
   "file_extension": ".py",
   "mimetype": "text/x-python",
   "name": "python",
   "nbconvert_exporter": "python",
   "pygments_lexer": "ipython3",
   "version": "3.8.1"
  }
 },
 "nbformat": 4,
 "nbformat_minor": 4
}
