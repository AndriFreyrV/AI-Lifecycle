{
 "cells": [
  {
   "cell_type": "code",
   "execution_count": 3,
   "metadata": {},
   "outputs": [],
   "source": [
    "features = {'MSSubClass': {'max': 190, 'min': 20, 'type': 'int64'},\n",
    " 'LotFrontage': {'max': 313.0, 'min': 21.0, 'type': 'float64'},\n",
    " 'LotArea': {'max': 215245, 'min': 1300, 'type': 'int64'},\n",
    " 'OverallQual': {'max': 10, 'min': 1, 'type': 'int64'},\n",
    " 'OverallCond': {'max': 9, 'min': 1, 'type': 'int64'},\n",
    " 'YearBuilt': {'max': 2010, 'min': 1872, 'type': 'int64'},\n",
    " 'YearRemodAdd': {'max': 2010, 'min': 1950, 'type': 'int64'},\n",
    " 'MasVnrArea': {'max': 1600.0, 'min': 0.0, 'type': 'float64'},\n",
    " 'BsmtFinSF1': {'max': 5644, 'min': 0, 'type': 'int64'},\n",
    " 'BsmtFinSF2': {'max': 1474, 'min': 0, 'type': 'int64'},\n",
    " 'BsmtUnfSF': {'max': 2336, 'min': 0, 'type': 'int64'},\n",
    " 'TotalBsmtSF': {'max': 6110, 'min': 0, 'type': 'int64'},\n",
    " '1stFlrSF': {'max': 4692, 'min': 334, 'type': 'int64'},\n",
    " '2ndFlrSF': {'max': 2065, 'min': 0, 'type': 'int64'},\n",
    " 'LowQualFinSF': {'max': 572, 'min': 0, 'type': 'int64'},\n",
    " 'GrLivArea': {'max': 5642, 'min': 334, 'type': 'int64'},\n",
    " 'BsmtFullBath': {'max': 3, 'min': 0, 'type': 'int64'},\n",
    " 'BsmtHalfBath': {'max': 2, 'min': 0, 'type': 'int64'},\n",
    " 'FullBath': {'max': 3, 'min': 0, 'type': 'int64'},\n",
    " 'HalfBath': {'max': 2, 'min': 0, 'type': 'int64'},\n",
    " 'BedroomAbvGr': {'max': 8, 'min': 0, 'type': 'int64'},\n",
    " 'KitchenAbvGr': {'max': 3, 'min': 0, 'type': 'int64'},\n",
    " 'TotRmsAbvGrd': {'max': 14, 'min': 2, 'type': 'int64'},\n",
    " 'Fireplaces': {'max': 3, 'min': 0, 'type': 'int64'},\n",
    " 'GarageYrBlt': {'max': 2010.0, 'min': 1900.0, 'type': 'float64'},\n",
    " 'GarageCars': {'max': 4, 'min': 0, 'type': 'int64'},\n",
    " 'GarageArea': {'max': 1418, 'min': 0, 'type': 'int64'},\n",
    " 'WoodDeckSF': {'max': 857, 'min': 0, 'type': 'int64'},\n",
    " 'OpenPorchSF': {'max': 547, 'min': 0, 'type': 'int64'},\n",
    " 'EnclosedPorch': {'max': 552, 'min': 0, 'type': 'int64'},\n",
    " '3SsnPorch': {'max': 508, 'min': 0, 'type': 'int64'},\n",
    " 'ScreenPorch': {'max': 480, 'min': 0, 'type': 'int64'},\n",
    " 'PoolArea': {'max': 738, 'min': 0, 'type': 'int64'},\n",
    " 'MiscVal': {'max': 15500, 'min': 0, 'type': 'int64'},\n",
    " 'MoSold': {'max': 12, 'min': 1, 'type': 'int64'},\n",
    " 'YrSold': {'max': 2010, 'min': 2006, 'type': 'int64'}}"
   ]
  },
  {
   "cell_type": "code",
   "execution_count": 29,
   "metadata": {},
   "outputs": [
    {
     "name": "stdout",
     "output_type": "stream",
     "text": [
      "178797.84\n"
     ]
    }
   ],
   "source": [
    "import os\n",
    "import requests\n",
    "import random\n",
    "\n",
    "os.environ['NO_PROXY'] = '127.0.0.1'\n",
    "\n",
    "PARAMS = {}\n",
    "for f,val in features.items():\n",
    "    if val['type'] == 'int64':\n",
    "        PARAMS[f] = random.randint(val['min'], val['max'])\n",
    "    else:\n",
    "        PARAMS[f] = random.uniform(val['min'], val['max'])\n",
    "\n",
    "r = requests.get('https://model-theft-bfcjj.ondigitalocean.app/model2', params = PARAMS)\n",
    "#r = requests.get('https://model-theft-bfcjj.ondigitalocean.app/model2', params = PARAMS)\n",
    "print(r.content.decode('utf-8'))"
   ]
  },
  {
   "cell_type": "code",
   "execution_count": null,
   "metadata": {},
   "outputs": [],
   "source": []
  }
 ],
 "metadata": {
  "kernelspec": {
   "display_name": "Python 3",
   "language": "python",
   "name": "python3"
  },
  "language_info": {
   "codemirror_mode": {
    "name": "ipython",
    "version": 3
   },
   "file_extension": ".py",
   "mimetype": "text/x-python",
   "name": "python",
   "nbconvert_exporter": "python",
   "pygments_lexer": "ipython3",
   "version": "3.8.1"
  }
 },
 "nbformat": 4,
 "nbformat_minor": 4
}
