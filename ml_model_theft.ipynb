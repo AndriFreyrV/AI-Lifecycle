{
 "cells": [
  {
   "cell_type": "markdown",
   "metadata": {},
   "source": [
    "# REI 603M - Assignment 6\n",
    "## Andri Freyr Viðarsson\n",
    "\n",
    "### Model theft\n",
    "\n",
    "Model theft is a growing concern in the field of ML. When you release a model and users\n",
    "can interact with the model as they please, you risk leaking information about the model\n",
    "to the user.\n",
    "In some scenarios, the users can even infer something about the training data based\n",
    "on your model behavior. This can be especially worrisome if your model is trained on\n",
    "sensitive data.\n",
    "This exercise (if successful) is meant to illustrate how easy it can be to steal models.\n",
    "\n",
    "In this project an attempt to steal a model is made. A model for real estate evaluation is available at an endpoint, a collection of results from calls to the endpoint with sampled inputs is used as a basis to build a model that aims to replicate the original model."
   ]
  },
  {
   "cell_type": "code",
   "execution_count": 1,
   "metadata": {},
   "outputs": [],
   "source": [
    "import random\n",
    "import numpy as np\n",
    "import pandas as pd\n",
    "import matplotlib.pyplot as plt\n",
    "import requests\n",
    "from tqdm import tqdm"
   ]
  },
  {
   "cell_type": "code",
   "execution_count": 2,
   "metadata": {},
   "outputs": [],
   "source": [
    "features = {'MSSubClass': {'max': 190, 'min': 20, 'type': 'int64'},\n",
    " 'LotFrontage': {'max': 313.0, 'min': 21.0, 'type': 'float64'},\n",
    " 'LotArea': {'max': 215245, 'min': 1300, 'type': 'int64'},\n",
    " 'OverallQual': {'max': 10, 'min': 1, 'type': 'int64'},\n",
    " 'OverallCond': {'max': 9, 'min': 1, 'type': 'int64'},\n",
    " 'YearBuilt': {'max': 2010, 'min': 1872, 'type': 'int64'},\n",
    " 'YearRemodAdd': {'max': 2010, 'min': 1950, 'type': 'int64'},\n",
    " 'MasVnrArea': {'max': 1600.0, 'min': 0.0, 'type': 'float64'},\n",
    " 'BsmtFinSF1': {'max': 5644, 'min': 0, 'type': 'int64'},\n",
    " 'BsmtFinSF2': {'max': 1474, 'min': 0, 'type': 'int64'},\n",
    " 'BsmtUnfSF': {'max': 2336, 'min': 0, 'type': 'int64'},\n",
    " 'TotalBsmtSF': {'max': 6110, 'min': 0, 'type': 'int64'},\n",
    " '1stFlrSF': {'max': 4692, 'min': 334, 'type': 'int64'},\n",
    " '2ndFlrSF': {'max': 2065, 'min': 0, 'type': 'int64'},\n",
    " 'LowQualFinSF': {'max': 572, 'min': 0, 'type': 'int64'},\n",
    " 'GrLivArea': {'max': 5642, 'min': 334, 'type': 'int64'},\n",
    " 'BsmtFullBath': {'max': 3, 'min': 0, 'type': 'int64'},\n",
    " 'BsmtHalfBath': {'max': 2, 'min': 0, 'type': 'int64'},\n",
    " 'FullBath': {'max': 3, 'min': 0, 'type': 'int64'},\n",
    " 'HalfBath': {'max': 2, 'min': 0, 'type': 'int64'},\n",
    " 'BedroomAbvGr': {'max': 8, 'min': 0, 'type': 'int64'},\n",
    " 'KitchenAbvGr': {'max': 3, 'min': 0, 'type': 'int64'},\n",
    " 'TotRmsAbvGrd': {'max': 14, 'min': 2, 'type': 'int64'},\n",
    " 'Fireplaces': {'max': 3, 'min': 0, 'type': 'int64'},\n",
    " 'GarageYrBlt': {'max': 2010.0, 'min': 1900.0, 'type': 'float64'},\n",
    " 'GarageCars': {'max': 4, 'min': 0, 'type': 'int64'},\n",
    " 'GarageArea': {'max': 1418, 'min': 0, 'type': 'int64'},\n",
    " 'WoodDeckSF': {'max': 857, 'min': 0, 'type': 'int64'},\n",
    " 'OpenPorchSF': {'max': 547, 'min': 0, 'type': 'int64'},\n",
    " 'EnclosedPorch': {'max': 552, 'min': 0, 'type': 'int64'},\n",
    " '3SsnPorch': {'max': 508, 'min': 0, 'type': 'int64'},\n",
    " 'ScreenPorch': {'max': 480, 'min': 0, 'type': 'int64'},\n",
    " 'PoolArea': {'max': 738, 'min': 0, 'type': 'int64'},\n",
    " 'MiscVal': {'max': 15500, 'min': 0, 'type': 'int64'},\n",
    " 'MoSold': {'max': 12, 'min': 1, 'type': 'int64'},\n",
    " 'YrSold': {'max': 2010, 'min': 2006, 'type': 'int64'}}"
   ]
  },
  {
   "cell_type": "markdown",
   "metadata": {},
   "source": [
    "## Data Sampling\n",
    "Since some features vary alot I thought that taking a random sample between min and max for each feature would not reflect the training data well enough. Therefore I made an effort to sample the datapoints for some important features more realistically.\n",
    "Other features are sampled using either a uniform distribution between min and max or a normal distribution with median = (min+max)/2."
   ]
  },
  {
   "cell_type": "code",
   "execution_count": 3,
   "metadata": {},
   "outputs": [
    {
     "data": {
      "image/png": "[encoded data removed]",
      "text/plain": [
       "<Figure size 432x288 with 1 Axes>"
      ]
     },
     "metadata": {
      "needs_background": "light"
     },
     "output_type": "display_data"
    }
   ],
   "source": [
    "# generate probability distribution to sample lot area\n",
    "# note that average lot area in US is around 12000\n",
    "# a random sample from min-max is does not give a good representation\n",
    "lot_range = np.linspace(features['LotArea']['min'], features['LotArea']['max'], 2500)\n",
    "# 50 percent below 12000, 40% between 12000 and 40000, 10% between 30000 and max\n",
    "n_1 = len(lot_range[(lot_range <12000)])\n",
    "l_1 = lot_range[(lot_range<12000)]\n",
    "l_2 = np.linspace(12000, 40000, n_1)\n",
    "l_3 = np.linspace(40000, features['LotArea']['max'], n_1)\n",
    "\n",
    "area_ls = list(l_1) + list(l_2) + list(l_3)\n",
    "weights = [0.5/n_1 for i in range(n_1)]+[0.4/n_1 for i in range(n_1)]+[0.1/n_1 for i in range(n_1)]\n",
    "\n",
    "lot_area_sampls = []\n",
    "for i in range(500):\n",
    "    lot_area_sampls.append(random.choices(area_ls, weights = weights)[0])\n",
    "plt.hist(lot_area_sampls, bins = 50)\n",
    "plt.title('Lot Area training samples')\n",
    "plt.show()\n",
    "lot_area_sampls.sort() # for indexing later on\n"
   ]
  },
  {
   "cell_type": "code",
   "execution_count": 4,
   "metadata": {},
   "outputs": [
    {
     "data": {
      "image/png": "[encoded data removed]",
      "text/plain": [
       "<Figure size 432x288 with 1 Axes>"
      ]
     },
     "metadata": {
      "needs_background": "light"
     },
     "output_type": "display_data"
    }
   ],
   "source": [
    "# average home_size is around 1800\n",
    "# 10% between 350/800 sf , 70% between 800 and 3000 sf, 20% between 3000 and 6000 sf\n",
    "l_1 = np.linspace(350, 1000,100)\n",
    "l_2 = np.linspace(1000, 3000,100)\n",
    "l_3 = np.linspace(3000, 6000, 100)\n",
    "w = [0.1/100 for i in range(100)]+[0.7/100 for i in range(100)]+[0.2/100 for i in range(100)]\n",
    "house_area = list(l_1)+list(l_2)+list(l_3)\n",
    "house_area_sampls = [] # both floors\n",
    "gr_area_sampls = []\n",
    "for i in range(1000):\n",
    "    area_s = random.choices(house_area, w)[0]\n",
    "    if area_s > 1300 and random.uniform(0,1)>0.4:\n",
    "        # add story\n",
    "        house_area_sampls.append((random.uniform(0.9,1)*area_s/2, random.uniform(0.7,1)*area_s/2))\n",
    "    else:\n",
    "        house_area_sampls.append((area_s,0))\n",
    "    gr_area_sampls.append(sum(house_area_sampls[-1]))\n",
    "\n",
    "gr_area_sampls.sort()\n",
    "house_area_sampls.sort(key = lambda k:sum(k))\n",
    "plt.hist(gr_area_sampls, bins = 50)\n",
    "plt.title('Living Area samples')\n",
    "plt.show()"
   ]
  },
  {
   "cell_type": "code",
   "execution_count": 5,
   "metadata": {},
   "outputs": [
    {
     "data": {
      "image/png": "[encoded data removed]",
      "text/plain": [
       "<Figure size 432x288 with 1 Axes>"
      ]
     },
     "metadata": {
      "needs_background": "light"
     },
     "output_type": "display_data"
    }
   ],
   "source": [
    "# 4-6 rooms is common\n",
    "n_rooms = range(2,15)\n",
    "rooms_w = [0.2/2]*2+[0.6/4]*4+[0.1/2]*2+[0.1/5]*5\n",
    "rooms_sampl = [random.choices(n_rooms, rooms_w)[0] for i in range(500)]\n",
    "rooms_sampl.sort()\n",
    "plt.hist(rooms_sampl,bins = 30)\n",
    "plt.title('Number of rooms samples')\n",
    "plt.show()"
   ]
  },
  {
   "cell_type": "code",
   "execution_count": 6,
   "metadata": {},
   "outputs": [],
   "source": [
    "def set_normal_params(min_,max_):\n",
    "    med = (min_+max_)/2\n",
    "    sd = med - (min_+med)/2\n",
    "    return med, sd/2\n",
    "\n",
    "def sample_feature_norm(feature):\n",
    "    med, sd = set_normal_params(features[feature]['min'], features[feature]['max'])\n",
    "    sample = np.random.normal(med, sd)\n",
    "    if sample > features[feature]['max']:\n",
    "        return features[feature]['max']\n",
    "    if sample < features[feature]['min']:\n",
    "        return features[feature]['min']\n",
    "    return sample\n",
    "\n",
    "def sample_small(feature):\n",
    "    return random.randint(features[feature]['min'], features[feature]['max'])"
   ]
  },
  {
   "cell_type": "markdown",
   "metadata": {},
   "source": [
    "## Handling correlated data\n",
    "I assume that some features are very correlated, e.g. Living Area and total number of rooms. Therefore when generating a training data set samples with relatively simalar position in sorted sample vectors are put together to make each sample in the final training dataset with some added noise. Other features, such as YrSold, and OverallCond are selected at random."
   ]
  },
  {
   "cell_type": "code",
   "execution_count": 7,
   "metadata": {},
   "outputs": [],
   "source": [
    "vars_not_correlated = ['YrSold', 'MoSold','OverallQual', 'OverallCond', 'YearBuilt', 'GarageYrBlt']\n",
    "samples_dict = {f:[] for f in features.keys()}\n",
    "samples_dict['LotArea'] = lot_area_sampls\n",
    "samples_dict['GrLivArea'] = gr_area_sampls\n",
    "samples_dict['1stFlrSF'] = [i[0] for i in house_area_sampls]\n",
    "samples_dict['2ndFlrSF'] = [i[1] for i in house_area_sampls]\n",
    "samples_dict['TotRmsAbvGrd'] = rooms_sampl\n",
    "samples_dict['BedroomAbvGr'] = [int(random.uniform(0.6,0.8)*i) for i in rooms_sampl]\n",
    "samples_dict['TotalBsmtSF'] = [random.uniform(0,1)* i[0] for i in house_area_sampls]\n",
    "\n",
    "for k in features.keys():\n",
    "    if samples_dict[k] == []:\n",
    "        for i in range(10000):\n",
    "            if features[k]['max']-features[k]['min'] <=12:\n",
    "                samples_dict[k].append(sample_small(k))\n",
    "            else:\n",
    "                samples_dict[k].append(sample_feature_norm(k))\n",
    "        samples_dict[k].sort()"
   ]
  },
  {
   "cell_type": "code",
   "execution_count": 8,
   "metadata": {},
   "outputs": [
    {
     "name": "stdout",
     "output_type": "stream",
     "text": [
      "{'MSSubClass': 107, 'LotFrontage': 177, 'LotArea': 17645, 'OverallQual': 10, 'OverallCond': 3, 'YearBuilt': 1954, 'YearRemodAdd': 1981, 'MasVnrArea': 847, 'BsmtFinSF1': 3058, 'BsmtFinSF2': 810, 'BsmtUnfSF': 1238, 'TotalBsmtSF': 153, '1stFlrSF': 2474, '2ndFlrSF': 1038, 'LowQualFinSF': 305, 'GrLivArea': 2174, 'BsmtFullBath': 2, 'BsmtHalfBath': 1, 'FullBath': 2, 'HalfBath': 1, 'BedroomAbvGr': 4, 'KitchenAbvGr': 2, 'TotRmsAbvGrd': 6, 'Fireplaces': 2, 'GarageYrBlt': 1940, 'GarageCars': 2, 'GarageArea': 771, 'WoodDeckSF': 465, 'OpenPorchSF': 298, 'EnclosedPorch': 286, '3SsnPorch': 279, 'ScreenPorch': 246, 'PoolArea': 407, 'MiscVal': 8424, 'MoSold': 10, 'YrSold': 2009}\n"
     ]
    },
    {
     "data": {
      "text/plain": [
       "329777.47"
      ]
     },
     "execution_count": 8,
     "metadata": {},
     "output_type": "execute_result"
    }
   ],
   "source": [
    "def make_sampl():\n",
    "    params = {}\n",
    "    n = len(gr_area_sampls)\n",
    "    idx_lot = random.randint(0,n)\n",
    "    for k, v in samples_dict.items():\n",
    "        if k not in vars_not_correlated:\n",
    "            index = int(random.uniform(0.8,1)*len(v)*(idx_lot/n))\n",
    "            params[k] = int(v[index-1])\n",
    "        else:\n",
    "            index = random.randint(0, len(v)-1)\n",
    "            params[k] = int(v[index-1])\n",
    "    return params\n",
    "\n",
    "def make_pred(params):\n",
    "    r = requests.get('https://model-theft-bfcjj.ondigitalocean.app/model2', params = params)\n",
    "    return float(r.content.decode('utf-8'))\n",
    "    \n",
    "p = make_sampl()\n",
    "print(p)\n",
    "make_pred(p)"
   ]
  },
  {
   "cell_type": "code",
   "execution_count": 9,
   "metadata": {},
   "outputs": [
    {
     "name": "stderr",
     "output_type": "stream",
     "text": [
      "100%|████████████████████████████████████████████████████████████████████████████| 10000/10000 [30:01<00:00,  5.55it/s]"
     ]
    },
    {
     "name": "stdout",
     "output_type": "stream",
     "text": [
      "Min and Max preds for data samples 42197.574, 444534.12\n"
     ]
    },
    {
     "name": "stderr",
     "output_type": "stream",
     "text": [
      "\n"
     ]
    }
   ],
   "source": [
    "y = []\n",
    "vals_ = []\n",
    "for _ in tqdm(range(10000)):\n",
    "    p = make_sampl()\n",
    "    vals_.append(p)\n",
    "    pred = make_pred(p)\n",
    "    y.append(pred)\n",
    "print(f'Min and Max preds for data samples {min(y)}, {max(y)}')"
   ]
  },
  {
   "cell_type": "code",
   "execution_count": 10,
   "metadata": {},
   "outputs": [
    {
     "data": {
      "text/html": [
       "<div>\n",
       "<style scoped>\n",
       "    .dataframe tbody tr th:only-of-type {\n",
       "        vertical-align: middle;\n",
       "    }\n",
       "\n",
       "    .dataframe tbody tr th {\n",
       "        vertical-align: top;\n",
       "    }\n",
       "\n",
       "    .dataframe thead th {\n",
       "        text-align: right;\n",
       "    }\n",
       "</style>\n",
       "<table border=\"1\" class=\"dataframe\">\n",
       "  <thead>\n",
       "    <tr style=\"text-align: right;\">\n",
       "      <th></th>\n",
       "      <th>MSSubClass</th>\n",
       "      <th>LotFrontage</th>\n",
       "      <th>LotArea</th>\n",
       "      <th>OverallQual</th>\n",
       "      <th>OverallCond</th>\n",
       "      <th>YearBuilt</th>\n",
       "      <th>YearRemodAdd</th>\n",
       "      <th>MasVnrArea</th>\n",
       "      <th>BsmtFinSF1</th>\n",
       "      <th>BsmtFinSF2</th>\n",
       "      <th>...</th>\n",
       "      <th>GarageArea</th>\n",
       "      <th>WoodDeckSF</th>\n",
       "      <th>OpenPorchSF</th>\n",
       "      <th>EnclosedPorch</th>\n",
       "      <th>3SsnPorch</th>\n",
       "      <th>ScreenPorch</th>\n",
       "      <th>PoolArea</th>\n",
       "      <th>MiscVal</th>\n",
       "      <th>MoSold</th>\n",
       "      <th>YrSold</th>\n",
       "    </tr>\n",
       "  </thead>\n",
       "  <tbody>\n",
       "    <tr>\n",
       "      <th>0</th>\n",
       "      <td>69</td>\n",
       "      <td>104</td>\n",
       "      <td>2584</td>\n",
       "      <td>8</td>\n",
       "      <td>5</td>\n",
       "      <td>1933</td>\n",
       "      <td>1967</td>\n",
       "      <td>479</td>\n",
       "      <td>1694</td>\n",
       "      <td>440</td>\n",
       "      <td>...</td>\n",
       "      <td>417</td>\n",
       "      <td>249</td>\n",
       "      <td>154</td>\n",
       "      <td>165</td>\n",
       "      <td>148</td>\n",
       "      <td>143</td>\n",
       "      <td>220</td>\n",
       "      <td>4685</td>\n",
       "      <td>9</td>\n",
       "      <td>2008</td>\n",
       "    </tr>\n",
       "    <tr>\n",
       "      <th>1</th>\n",
       "      <td>106</td>\n",
       "      <td>174</td>\n",
       "      <td>19225</td>\n",
       "      <td>9</td>\n",
       "      <td>7</td>\n",
       "      <td>1937</td>\n",
       "      <td>1982</td>\n",
       "      <td>848</td>\n",
       "      <td>3022</td>\n",
       "      <td>755</td>\n",
       "      <td>...</td>\n",
       "      <td>746</td>\n",
       "      <td>438</td>\n",
       "      <td>294</td>\n",
       "      <td>289</td>\n",
       "      <td>259</td>\n",
       "      <td>256</td>\n",
       "      <td>384</td>\n",
       "      <td>8346</td>\n",
       "      <td>10</td>\n",
       "      <td>2009</td>\n",
       "    </tr>\n",
       "    <tr>\n",
       "      <th>2</th>\n",
       "      <td>95</td>\n",
       "      <td>149</td>\n",
       "      <td>9090</td>\n",
       "      <td>3</td>\n",
       "      <td>7</td>\n",
       "      <td>1946</td>\n",
       "      <td>1976</td>\n",
       "      <td>708</td>\n",
       "      <td>2513</td>\n",
       "      <td>646</td>\n",
       "      <td>...</td>\n",
       "      <td>616</td>\n",
       "      <td>377</td>\n",
       "      <td>235</td>\n",
       "      <td>247</td>\n",
       "      <td>228</td>\n",
       "      <td>211</td>\n",
       "      <td>329</td>\n",
       "      <td>6810</td>\n",
       "      <td>5</td>\n",
       "      <td>2007</td>\n",
       "    </tr>\n",
       "    <tr>\n",
       "      <th>3</th>\n",
       "      <td>81</td>\n",
       "      <td>128</td>\n",
       "      <td>5152</td>\n",
       "      <td>8</td>\n",
       "      <td>6</td>\n",
       "      <td>1920</td>\n",
       "      <td>1972</td>\n",
       "      <td>576</td>\n",
       "      <td>2096</td>\n",
       "      <td>548</td>\n",
       "      <td>...</td>\n",
       "      <td>517</td>\n",
       "      <td>311</td>\n",
       "      <td>200</td>\n",
       "      <td>202</td>\n",
       "      <td>185</td>\n",
       "      <td>180</td>\n",
       "      <td>268</td>\n",
       "      <td>5714</td>\n",
       "      <td>5</td>\n",
       "      <td>2007</td>\n",
       "    </tr>\n",
       "    <tr>\n",
       "      <th>4</th>\n",
       "      <td>48</td>\n",
       "      <td>67</td>\n",
       "      <td>1385</td>\n",
       "      <td>8</td>\n",
       "      <td>4</td>\n",
       "      <td>1926</td>\n",
       "      <td>1958</td>\n",
       "      <td>256</td>\n",
       "      <td>900</td>\n",
       "      <td>245</td>\n",
       "      <td>...</td>\n",
       "      <td>246</td>\n",
       "      <td>140</td>\n",
       "      <td>89</td>\n",
       "      <td>99</td>\n",
       "      <td>84</td>\n",
       "      <td>82</td>\n",
       "      <td>119</td>\n",
       "      <td>2577</td>\n",
       "      <td>9</td>\n",
       "      <td>2006</td>\n",
       "    </tr>\n",
       "  </tbody>\n",
       "</table>\n",
       "<p>5 rows × 36 columns</p>\n",
       "</div>"
      ],
      "text/plain": [
       "   MSSubClass  LotFrontage  LotArea  OverallQual  OverallCond  YearBuilt  \\\n",
       "0          69          104     2584            8            5       1933   \n",
       "1         106          174    19225            9            7       1937   \n",
       "2          95          149     9090            3            7       1946   \n",
       "3          81          128     5152            8            6       1920   \n",
       "4          48           67     1385            8            4       1926   \n",
       "\n",
       "   YearRemodAdd  MasVnrArea  BsmtFinSF1  BsmtFinSF2  ...  GarageArea  \\\n",
       "0          1967         479        1694         440  ...         417   \n",
       "1          1982         848        3022         755  ...         746   \n",
       "2          1976         708        2513         646  ...         616   \n",
       "3          1972         576        2096         548  ...         517   \n",
       "4          1958         256         900         245  ...         246   \n",
       "\n",
       "   WoodDeckSF  OpenPorchSF  EnclosedPorch  3SsnPorch  ScreenPorch  PoolArea  \\\n",
       "0         249          154            165        148          143       220   \n",
       "1         438          294            289        259          256       384   \n",
       "2         377          235            247        228          211       329   \n",
       "3         311          200            202        185          180       268   \n",
       "4         140           89             99         84           82       119   \n",
       "\n",
       "   MiscVal  MoSold  YrSold  \n",
       "0     4685       9    2008  \n",
       "1     8346      10    2009  \n",
       "2     6810       5    2007  \n",
       "3     5714       5    2007  \n",
       "4     2577       9    2006  \n",
       "\n",
       "[5 rows x 36 columns]"
      ]
     },
     "execution_count": 10,
     "metadata": {},
     "output_type": "execute_result"
    }
   ],
   "source": [
    "X = pd.DataFrame(vals_)\n",
    "X.head()"
   ]
  },
  {
   "cell_type": "markdown",
   "metadata": {},
   "source": [
    "## Model Training\n",
    "In the follwing chunks the attempt to 'steal' the model is made. "
   ]
  },
  {
   "cell_type": "code",
   "execution_count": 11,
   "metadata": {},
   "outputs": [
    {
     "name": "stdout",
     "output_type": "stream",
     "text": [
      "Mean abs test error: 6624.0699476866685\n",
      "Mean abs train error: 5759.487299352941\n"
     ]
    }
   ],
   "source": [
    "from sklearn.ensemble import RandomForestRegressor\n",
    "from sklearn.metrics import mean_absolute_error\n",
    "from sklearn.model_selection import train_test_split\n",
    "\n",
    "X_train, X_test, y_train, y_test = train_test_split(X, y, test_size = 0.15, random_state = 123)\n",
    "\n",
    "model = RandomForestRegressor(criterion = 'mae', max_depth = 8)\n",
    "model.fit(X_train, y_train)\n",
    "\n",
    "y_pred = model.predict(X_test)\n",
    "y_pred_train = model.predict(X_train)\n",
    "\n",
    "print('Mean abs test error:', mean_absolute_error(y_test, y_pred))\n",
    "print('Mean abs train error:', mean_absolute_error(y_train, y_pred_train))"
   ]
  },
  {
   "cell_type": "markdown",
   "metadata": {},
   "source": [
    "## Export stolen model"
   ]
  },
  {
   "cell_type": "code",
   "execution_count": 12,
   "metadata": {},
   "outputs": [],
   "source": [
    "import pickle\n",
    "filename = 'model_2_stolen.sav'\n",
    "pickle.dump(model, open(filename, 'wb'))"
   ]
  },
  {
   "cell_type": "code",
   "execution_count": 13,
   "metadata": {},
   "outputs": [
    {
     "name": "stdout",
     "output_type": "stream",
     "text": [
      "Mean abs test error: 6624.0699476866685\n"
     ]
    }
   ],
   "source": [
    "loaded_model = pickle.load(open(filename, 'rb'))\n",
    "y_p = loaded_model.predict(X_test)\n",
    "print('Mean abs test error:', mean_absolute_error(y_test, y_p))"
   ]
  }
 ],
 "metadata": {
  "kernelspec": {
   "display_name": "Python 3",
   "language": "python",
   "name": "python3"
  },
  "language_info": {
   "codemirror_mode": {
    "name": "ipython",
    "version": 3
   },
   "file_extension": ".py",
   "mimetype": "text/x-python",
   "name": "python",
   "nbconvert_exporter": "python",
   "pygments_lexer": "ipython3",
   "version": "3.8.1"
  }
 },
 "nbformat": 4,
 "nbformat_minor": 4
}
