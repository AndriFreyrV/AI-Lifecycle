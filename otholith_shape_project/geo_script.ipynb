{
 "cells": [
  {
   "cell_type": "code",
   "execution_count": 12,
   "metadata": {},
   "outputs": [
    {
     "name": "stdout",
     "output_type": "stream",
     "text": [
      "Douglas Reef\n",
      "Stockdale Harbor\n"
     ]
    },
    {
     "data": {
      "text/plain": [
       "{'Iniskin Bay': (59.7149, -153.412643989883),\n",
       " 'Kayak Island': (59.89913355, -144.45194885740182),\n",
       " 'Kukak Bay': (58.3072222, -154.2488889),\n",
       " 'Uganik Bay': (57.834848449999996, -153.53225888017403),\n",
       " 'Landlocked Bay': (60.8344444, -146.5872222),\n",
       " 'Rocky Bay': (56.055, -132.5822222)}"
      ]
     },
     "execution_count": 12,
     "metadata": {},
     "output_type": "execute_result"
    }
   ],
   "source": [
    "from geopy.geocoders import Nominatim\n",
    "\n",
    "locations = ['Douglas Reef', 'Iniskin Bay', 'Kayak Island', 'Kukak Bay', 'Uganik Bay', 'Landlocked Bay',\n",
    "             'Stockdale Harbor', 'Rocky Bay']\n",
    "\n",
    "geolocator = Nominatim(user_agent=\"otoliths_hi\")\n",
    "geo_map = {}\n",
    "for l in locations:\n",
    "    location = geolocator.geocode(f'{l}, Alaska')\n",
    "    try:\n",
    "        geo_map[l] = (location.latitude, location.longitude)\n",
    "    except:\n",
    "        print(l)\n",
    "geo_map"
   ]
  },
  {
   "cell_type": "code",
   "execution_count": 13,
   "metadata": {},
   "outputs": [],
   "source": [
    "geo_map['Douglas Reef']=(58.762233,-153.2725788)\n",
    "geo_map['Stockdale Harbor'] = (60.3144485,-147.1909393)"
   ]
  },
  {
   "cell_type": "code",
   "execution_count": 14,
   "metadata": {},
   "outputs": [
    {
     "data": {
      "text/plain": [
       "{'Iniskin Bay': (59.7149, -153.412643989883),\n",
       " 'Kayak Island': (59.89913355, -144.45194885740182),\n",
       " 'Kukak Bay': (58.3072222, -154.2488889),\n",
       " 'Uganik Bay': (57.834848449999996, -153.53225888017403),\n",
       " 'Landlocked Bay': (60.8344444, -146.5872222),\n",
       " 'Rocky Bay': (56.055, -132.5822222),\n",
       " 'Douglas Reef': (58.762233, -153.2725788),\n",
       " 'Stockdale Harbor': (60.3144485, -147.1909393)}"
      ]
     },
     "execution_count": 14,
     "metadata": {},
     "output_type": "execute_result"
    }
   ],
   "source": [
    "geo_map"
   ]
  },
  {
   "cell_type": "code",
   "execution_count": null,
   "metadata": {},
   "outputs": [],
   "source": []
  }
 ],
 "metadata": {
  "kernelspec": {
   "display_name": "Python 3",
   "language": "python",
   "name": "python3"
  },
  "language_info": {
   "codemirror_mode": {
    "name": "ipython",
    "version": 3
   },
   "file_extension": ".py",
   "mimetype": "text/x-python",
   "name": "python",
   "nbconvert_exporter": "python",
   "pygments_lexer": "ipython3",
   "version": "3.8.1"
  }
 },
 "nbformat": 4,
 "nbformat_minor": 4
}
