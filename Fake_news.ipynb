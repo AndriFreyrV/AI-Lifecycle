{
 "cells": [
  {
   "cell_type": "markdown",
   "metadata": {},
   "source": [
    "### REI 603M - Assignment 1\n",
    "#### Andri Freyr Viðarsson\n",
    "In this notebook exploratory analysis is done on the Fake News dataset from kaggle, the dataset is available on https://www.kaggle.com/c/fake-news/data. The dataset consists of news articles and each article is labeled as either reliable or unreliable. Therefore the dataset is ideal for classification tasks. The data is raw, some feature engineering is necessary before training a classification model on the data"
   ]
  },
  {
   "cell_type": "code",
   "execution_count": 2,
   "metadata": {},
   "outputs": [],
   "source": [
    "import pandas as pd\n",
    "import numpy as np\n",
    "import matplotlib.pyplot as plt\n",
    "pd.options.display.max_columns = None\n",
    "import time\n",
    "from collections import Counter\n",
    "from textblob import TextBlob\n",
    "from langdetect import detect\n",
    "from sklearn.decomposition import PCA\n",
    "from sklearn.preprocessing import StandardScaler\n",
    "import random"
   ]
  },
  {
   "cell_type": "code",
   "execution_count": 3,
   "metadata": {},
   "outputs": [],
   "source": [
    "df = pd.read_csv('fake-news/train.csv')\n",
    "# marked 1 if considered fake/unreliable news*"
   ]
  },
  {
   "cell_type": "code",
   "execution_count": 4,
   "metadata": {},
   "outputs": [
    {
     "name": "stdout",
     "output_type": "stream",
     "text": [
      "(20800, 5)\n",
      "Index(['id', 'title', 'author', 'text', 'label'], dtype='object')\n"
     ]
    },
    {
     "data": {
      "text/html": [
       "<div>\n",
       "<style scoped>\n",
       "    .dataframe tbody tr th:only-of-type {\n",
       "        vertical-align: middle;\n",
       "    }\n",
       "\n",
       "    .dataframe tbody tr th {\n",
       "        vertical-align: top;\n",
       "    }\n",
       "\n",
       "    .dataframe thead th {\n",
       "        text-align: right;\n",
       "    }\n",
       "</style>\n",
       "<table border=\"1\" class=\"dataframe\">\n",
       "  <thead>\n",
       "    <tr style=\"text-align: right;\">\n",
       "      <th></th>\n",
       "      <th>id</th>\n",
       "      <th>title</th>\n",
       "      <th>author</th>\n",
       "      <th>text</th>\n",
       "      <th>label</th>\n",
       "    </tr>\n",
       "  </thead>\n",
       "  <tbody>\n",
       "    <tr>\n",
       "      <th>0</th>\n",
       "      <td>0</td>\n",
       "      <td>House Dem Aide: We Didn’t Even See Comey’s Let...</td>\n",
       "      <td>Darrell Lucus</td>\n",
       "      <td>House Dem Aide: We Didn’t Even See Comey’s Let...</td>\n",
       "      <td>1</td>\n",
       "    </tr>\n",
       "    <tr>\n",
       "      <th>1</th>\n",
       "      <td>1</td>\n",
       "      <td>FLYNN: Hillary Clinton, Big Woman on Campus - ...</td>\n",
       "      <td>Daniel J. Flynn</td>\n",
       "      <td>Ever get the feeling your life circles the rou...</td>\n",
       "      <td>0</td>\n",
       "    </tr>\n",
       "    <tr>\n",
       "      <th>2</th>\n",
       "      <td>2</td>\n",
       "      <td>Why the Truth Might Get You Fired</td>\n",
       "      <td>Consortiumnews.com</td>\n",
       "      <td>Why the Truth Might Get You Fired October 29, ...</td>\n",
       "      <td>1</td>\n",
       "    </tr>\n",
       "    <tr>\n",
       "      <th>3</th>\n",
       "      <td>3</td>\n",
       "      <td>15 Civilians Killed In Single US Airstrike Hav...</td>\n",
       "      <td>Jessica Purkiss</td>\n",
       "      <td>Videos 15 Civilians Killed In Single US Airstr...</td>\n",
       "      <td>1</td>\n",
       "    </tr>\n",
       "    <tr>\n",
       "      <th>4</th>\n",
       "      <td>4</td>\n",
       "      <td>Iranian woman jailed for fictional unpublished...</td>\n",
       "      <td>Howard Portnoy</td>\n",
       "      <td>Print \\nAn Iranian woman has been sentenced to...</td>\n",
       "      <td>1</td>\n",
       "    </tr>\n",
       "    <tr>\n",
       "      <th>5</th>\n",
       "      <td>5</td>\n",
       "      <td>Jackie Mason: Hollywood Would Love Trump if He...</td>\n",
       "      <td>Daniel Nussbaum</td>\n",
       "      <td>In these trying times, Jackie Mason is the Voi...</td>\n",
       "      <td>0</td>\n",
       "    </tr>\n",
       "    <tr>\n",
       "      <th>6</th>\n",
       "      <td>6</td>\n",
       "      <td>Life: Life Of Luxury: Elton John’s 6 Favorite ...</td>\n",
       "      <td>NaN</td>\n",
       "      <td>Ever wonder how Britain’s most iconic pop pian...</td>\n",
       "      <td>1</td>\n",
       "    </tr>\n",
       "    <tr>\n",
       "      <th>7</th>\n",
       "      <td>7</td>\n",
       "      <td>Benoît Hamon Wins French Socialist Party’s Pre...</td>\n",
       "      <td>Alissa J. Rubin</td>\n",
       "      <td>PARIS  —   France chose an idealistic, traditi...</td>\n",
       "      <td>0</td>\n",
       "    </tr>\n",
       "    <tr>\n",
       "      <th>8</th>\n",
       "      <td>8</td>\n",
       "      <td>Excerpts From a Draft Script for Donald Trump’...</td>\n",
       "      <td>NaN</td>\n",
       "      <td>Donald J. Trump is scheduled to make a highly ...</td>\n",
       "      <td>0</td>\n",
       "    </tr>\n",
       "    <tr>\n",
       "      <th>9</th>\n",
       "      <td>9</td>\n",
       "      <td>A Back-Channel Plan for Ukraine and Russia, Co...</td>\n",
       "      <td>Megan Twohey and Scott Shane</td>\n",
       "      <td>A week before Michael T. Flynn resigned as nat...</td>\n",
       "      <td>0</td>\n",
       "    </tr>\n",
       "  </tbody>\n",
       "</table>\n",
       "</div>"
      ],
      "text/plain": [
       "   id                                              title  \\\n",
       "0   0  House Dem Aide: We Didn’t Even See Comey’s Let...   \n",
       "1   1  FLYNN: Hillary Clinton, Big Woman on Campus - ...   \n",
       "2   2                  Why the Truth Might Get You Fired   \n",
       "3   3  15 Civilians Killed In Single US Airstrike Hav...   \n",
       "4   4  Iranian woman jailed for fictional unpublished...   \n",
       "5   5  Jackie Mason: Hollywood Would Love Trump if He...   \n",
       "6   6  Life: Life Of Luxury: Elton John’s 6 Favorite ...   \n",
       "7   7  Benoît Hamon Wins French Socialist Party’s Pre...   \n",
       "8   8  Excerpts From a Draft Script for Donald Trump’...   \n",
       "9   9  A Back-Channel Plan for Ukraine and Russia, Co...   \n",
       "\n",
       "                         author  \\\n",
       "0                 Darrell Lucus   \n",
       "1               Daniel J. Flynn   \n",
       "2            Consortiumnews.com   \n",
       "3               Jessica Purkiss   \n",
       "4                Howard Portnoy   \n",
       "5               Daniel Nussbaum   \n",
       "6                           NaN   \n",
       "7               Alissa J. Rubin   \n",
       "8                           NaN   \n",
       "9  Megan Twohey and Scott Shane   \n",
       "\n",
       "                                                text  label  \n",
       "0  House Dem Aide: We Didn’t Even See Comey’s Let...      1  \n",
       "1  Ever get the feeling your life circles the rou...      0  \n",
       "2  Why the Truth Might Get You Fired October 29, ...      1  \n",
       "3  Videos 15 Civilians Killed In Single US Airstr...      1  \n",
       "4  Print \\nAn Iranian woman has been sentenced to...      1  \n",
       "5  In these trying times, Jackie Mason is the Voi...      0  \n",
       "6  Ever wonder how Britain’s most iconic pop pian...      1  \n",
       "7  PARIS  —   France chose an idealistic, traditi...      0  \n",
       "8  Donald J. Trump is scheduled to make a highly ...      0  \n",
       "9  A week before Michael T. Flynn resigned as nat...      0  "
      ]
     },
     "execution_count": 4,
     "metadata": {},
     "output_type": "execute_result"
    }
   ],
   "source": [
    "print(df.shape)\n",
    "print(df.columns)\n",
    "df.head(10)"
   ]
  },
  {
   "cell_type": "code",
   "execution_count": 5,
   "metadata": {},
   "outputs": [
    {
     "data": {
      "text/plain": [
       "20386"
      ]
     },
     "execution_count": 5,
     "metadata": {},
     "output_type": "execute_result"
    }
   ],
   "source": [
    "df['text'].nunique()"
   ]
  },
  {
   "cell_type": "code",
   "execution_count": 6,
   "metadata": {},
   "outputs": [
    {
     "data": {
      "text/plain": [
       "20761"
      ]
     },
     "execution_count": 6,
     "metadata": {},
     "output_type": "execute_result"
    }
   ],
   "source": [
    "df['text'].count()"
   ]
  },
  {
   "cell_type": "code",
   "execution_count": 7,
   "metadata": {},
   "outputs": [],
   "source": [
    "df.dropna(subset = ['text'], inplace = True)\n",
    "df.drop_duplicates(subset = 'text', keep = 'first', inplace = True)"
   ]
  },
  {
   "cell_type": "code",
   "execution_count": 8,
   "metadata": {},
   "outputs": [
    {
     "data": {
      "text/plain": [
       "0    10387\n",
       "1     9999\n",
       "Name: label, dtype: int64"
      ]
     },
     "execution_count": 8,
     "metadata": {},
     "output_type": "execute_result"
    }
   ],
   "source": [
    "# is the data balanced\n",
    "df['label'].value_counts()"
   ]
  },
  {
   "cell_type": "markdown",
   "metadata": {},
   "source": [
    "The output above shows that the data is balanced and therefore it is not necessary to split the dataset prior to training a model."
   ]
  },
  {
   "cell_type": "code",
   "execution_count": 9,
   "metadata": {},
   "outputs": [
    {
     "name": "stdout",
     "output_type": "stream",
     "text": [
      "Number of unique authors 4190\n",
      "Number of unique authors of false articles 1970\n",
      "Number of unique authors of real articles 2225\n"
     ]
    }
   ],
   "source": [
    "print('Number of unique authors', df['author'].nunique())\n",
    "print('Number of unique authors of false articles', df.loc[df['label'] == 1]['author'].nunique())\n",
    "print('Number of unique authors of real articles', df.loc[df['label'] == 0]['author'].nunique())"
   ]
  },
  {
   "cell_type": "code",
   "execution_count": null,
   "metadata": {},
   "outputs": [],
   "source": [
    "# are all authors always fake\n",
    "fake_authors = set()\n",
    "real_authors = set()\n",
    "mixed_authors = set()\n",
    "cnt_both = 0\n",
    "for index, row in df[['author', 'label']].iterrows():\n",
    "    if isinstance(row['author'], str): # used for nan checking\n",
    "        if row['label'] == 1:\n",
    "            fake_authors.add(row['author'])\n",
    "            if row['author'] in real_authors and row['author'] not in mixed_authors:\n",
    "                mixed_authors.add(row['author'])\n",
    "                print('.....')\n",
    "                print(row['author'], row['label'], index)\n",
    "        elif row['label'] == 0:\n",
    "            real_authors.add(row['author'])\n",
    "            if row['author'] in fake_authors and row['author'] not in mixed_authors:\n",
    "                mixed_authors.add(row['author'])\n",
    "                print('.....')\n",
    "                print(row['author'], row['label'], index)\n",
    "     \n"
   ]
  },
  {
   "cell_type": "code",
   "execution_count": 11,
   "metadata": {},
   "outputs": [
    {
     "name": "stdout",
     "output_type": "stream",
     "text": [
      "Pamela Geller\n",
      "1    3\n",
      "0    1\n",
      "Name: label, dtype: int64\n",
      "....\n",
      "AFP\n",
      "0    2\n",
      "1    1\n",
      "Name: label, dtype: int64\n",
      "....\n",
      "Pam Key\n",
      "0    242\n",
      "1      1\n",
      "Name: label, dtype: int64\n",
      "....\n",
      "Reuters\n",
      "0    4\n",
      "1    2\n",
      "Name: label, dtype: int64\n",
      "....\n",
      "Ann Coulter\n",
      "0    16\n",
      "1     3\n",
      "Name: label, dtype: int64\n",
      "....\n"
     ]
    }
   ],
   "source": [
    "for a in mixed_authors:\n",
    "    print(a)\n",
    "    print(df.loc[df['author'] == a]['label'].value_counts())\n",
    "    print('....')"
   ]
  },
  {
   "cell_type": "markdown",
   "metadata": {},
   "source": [
    "The previous output shows that some authors have written both legitimate and fake news articles"
   ]
  },
  {
   "cell_type": "code",
   "execution_count": 12,
   "metadata": {},
   "outputs": [
    {
     "data": {
      "text/html": [
       "<div>\n",
       "<style scoped>\n",
       "    .dataframe tbody tr th:only-of-type {\n",
       "        vertical-align: middle;\n",
       "    }\n",
       "\n",
       "    .dataframe tbody tr th {\n",
       "        vertical-align: top;\n",
       "    }\n",
       "\n",
       "    .dataframe thead th {\n",
       "        text-align: right;\n",
       "    }\n",
       "</style>\n",
       "<table border=\"1\" class=\"dataframe\">\n",
       "  <thead>\n",
       "    <tr style=\"text-align: right;\">\n",
       "      <th></th>\n",
       "      <th>id</th>\n",
       "      <th>title</th>\n",
       "      <th>author</th>\n",
       "      <th>text</th>\n",
       "      <th>label</th>\n",
       "    </tr>\n",
       "  </thead>\n",
       "  <tbody>\n",
       "    <tr>\n",
       "      <th>4759</th>\n",
       "      <td>4759</td>\n",
       "      <td>Regulator Tightens Control Over Wells Fargo - The New York Times</td>\n",
       "      <td>Reuters</td>\n",
       "      <td>A leading bank regulator on Friday reversed course and revoked Wells Fargo’s right to shield the pay of former executives after a   scandal. The regulator, the Office of the Comptroller of the Currency, also said Wells Fargo must now seek advance approval before naming new bank leadership. Wells Fargo in September agreed to pay $185 million to settle charges that bank employees opened as many as two million accounts banking and credit card without customers’ knowledge. The agency, the main regulator for federal banks, exempted Wells Fargo from some controls on “golden parachutes” in that settlement. The move Friday evening voids those earlier allowances, the agency said. The bank was notified on Friday that the agency had revoked “relief from specific requirements and limitations regarding rules, policies, and procedures for corporate activities,” the comptroller’s office said in a statement on Friday. An official of the Office of the Comptroller of the Currency said the move put Wells Fargo under toughened standards for oversight which the agency had exempted in the original settlement. John G. Stumpf, Wells Fargo’s former  chief executive, and Carrie Tolstedt, former head of retail banking, have relinquished about $60 million in stock after the scandal, according to a Reuters review of securities filings. But the pair also stood to take home more than $350 million in compensation, according to filings.</td>\n",
       "      <td>0</td>\n",
       "    </tr>\n",
       "    <tr>\n",
       "      <th>8519</th>\n",
       "      <td>8519</td>\n",
       "      <td>Harley-Davidson to Pay $12 Million Fine in Pollution Settlement - The New York Times</td>\n",
       "      <td>Reuters</td>\n",
       "      <td>WASHINGTON  —     has agreed to pay a $12 million civil fine and stop selling illegal aftermarket devices that cause its motorcycles to emit too much pollution, the Justice Department said on Thursday. The settlement resolves government accusations that Harley sold roughly 340, 000 “super tuners,” enabling motorcycles since 2008 to pollute the air at levels greater than what the company certified to the Environmental Protection Agency. Harley did not admit liability, and said in a statement that it disagreed with the government’s position, arguing that the devices were designed and sold to be used in “competition only. ” The company said the settlement represented “a   compromise with the E. P. A. on areas of law we interpret differently, particularly E. P. A. ’s assertion that it is illegal for anyone to modify a certified vehicle even if it will be used solely for     competition. ” According to the government, the sale of such   defeat devices violated the federal Clean Air Act. Harley was also accused of selling more than 12, 600 motorcycles that were not covered by an E. P. A. certification governing clean air compliance. The announcement comes at a time of greater scrutiny on emissions and defeat devices by regulators in Washington after Volkswagen admitted using illegal software to evade emissions standards in nearly 600, 000 vehicles in the United States. The settlement calls for   to stop selling the super tuners by Tuesday, and to buy back and destroy all such tuners in stock at its dealerships. The E. P. A. said the modified settings increased power and performance, but also increased the motorcycles’ emissions of hydrocarbons and nitrogen oxides. Harley, based in Milwaukee, will also spend $3 million on an unrelated project to reduce air pollution, the Justice Department said.</td>\n",
       "      <td>0</td>\n",
       "    </tr>\n",
       "    <tr>\n",
       "      <th>14292</th>\n",
       "      <td>14292</td>\n",
       "      <td>Pope Francis Says Church Should Apologize to Gays - The New York Times</td>\n",
       "      <td>Reuters</td>\n",
       "      <td>Pope Francis said on Sunday that Christians and the Roman Catholic Church should seek forgiveness from gays for the way they had treated them. Speaking to reporters aboard a plane taking him back to Rome from Armenia, the pope also said the church should ask forgiveness for the way it has treated women, for turning a blind eye to child labor and for “blessing so many weapons” in the past. In an hourlong freewheeling conversation that has become a trademark of his international travels, Francis was asked by a reporter if he agreed with recent comments by a Roman Catholic cardinal from Germany that the church should apologize to gays and if an apology was made more urgent by the killing of 49 people at a gay club in Florida this month. Francis, looking sad, recalled church teachings that homosexuals “should not be discriminated against. ” “They should be respected, accompanied pastorally,” he said. Then he added that he thought the church should apologize not only to gay people it had offended, but also to the poor, to women who have been exploited, and to children who have been exploited by being forced to work. “It must apologize for having blessed so many weapons,” Francis added. The church teaches that gay tendencies are not sinful but that gay acts are, and that gays should try to be chaste. The pope repeated a slightly modified version of the   “Who am I to judge?” comment he made about gays on the first foreign trip after his election in 2013. “The questions is: If a person who has that condition, who has good will, and who looks for God, who are we to judge?” he said. A Vatican spokesman, the Rev. Federico Lombardi, said that the pope’s reference to “that condition” referred not to a medical condition but to “a person in that situation. ” In Italian, the word condition can also mean situation. “We Christians have to apologize for so many things, not just for this (treatment of gays) but we must ask for forgiveness, not just apologize. Forgiveness  —   Lord, it is a word we forget so often,” he said. Francis has been hailed by many gay people for being the most merciful pope toward them in recent history, and conservative Catholics have criticized him for making comments that they say are ambiguous about sexual morality. He told reporters on the plane that “there are traditions in some countries, some cultures, that have a different mentality about this question (gays)” and that there were “some (gay) demonstrations that are too offensive for some. ” But he suggested that those were not grounds for discrimination or marginalization of gays. The pope did not elaborate on what he meant by seeking forgiveness for the church “having blessed so many weapons,” but it appeared to be a reference to some Catholics who have actively backed wars in the past. In other parts of the conversation, Francis said he hoped the European Union would be able to give itself another form after Britain’s vote to leave. “Let’s not throw the baby out with the bath water,” he said. “Let’s try to   things, to  . ”</td>\n",
       "      <td>0</td>\n",
       "    </tr>\n",
       "    <tr>\n",
       "      <th>15462</th>\n",
       "      <td>15462</td>\n",
       "      <td>Clinton campaign urges FBI to detail new developments in email case</td>\n",
       "      <td>Reuters</td>\n",
       "      <td>By Reuters   6:34 pm Democrat Hillary Clinton's top aides on Saturday lashed out at FBI Director James Comey for igniting a new controversy over a long-running private email investigation less than two weeks before the presidential election, saying there was no evidence of wrongdoing and accusing him of spreading \"innuendo.\"   \\nBy Roberta Rampton and Steve Holland \\nDAYTONA BEACH, Fla./GOLDEN, Colo. (Reuters) – Democrat Hillary Clinton’s top aides on Saturday lashed out at FBI Director James Comey for igniting a new controversy over a long-running private email investigation less than two weeks before the presidential election, saying there was no evidence of wrongdoing and accusing him of spreading “innuendo.” \\nComey, who has headed the Federal Bureau of Investigation since 2013, notified the U.S. Congress on Friday that the agency is again reviewing emails, even though in July it decided not to seek prosecution of Clinton for her handling of classified materials on a private email server while she was secretary of state. \\nJohn Podesta, who heads Clinton’s presidential campaign, told reporters that Comey’s letter to Congress was “light on facts, heavy on innuendo,” and he urged Comey to “come forward and give those answers to the American public” about the exact nature of the FBI’s latest review of emails. \\nSources close to the investigation on Friday said the latest emails were discovered as part of a separate probe into Anthony Weiner, the estranged husband of top Clinton aide Huma Abedin. \\nWeiner, a former U.S. congressman from New York, is the target of an FBI investigation into illicit text messages he is alleged to have sent to a 15-year-old girl in North Carolina. \\nWith the Nov. 8 elections quickly approaching, Republican presidential candidate Donald Trump pounded away at the new FBI development, devoting a large part of a campaign speech in Golden, Colorado, to attacking Clinton and arguing that she is not to be trusted with the presidency. \\n“Her criminal action was willful, deliberate, intentional and purposeful,” Trump said, standing in front of hay bales stacked in a horse barn. “Hillary set up an illegal server for the obvious purpose of shielding her illegal actions from public disclosure and exposure.” \\nComey, however, has not provided any details on whether the emails now under review are being seen for the first time by the FBI or the nature of their contents. \\nClinton’s campaign tried to play down the new review. “There’s no evidence of wrongdoing, no charge of wrongdoing,” Podesta said, in the FBI’s latest announcement that it was taking “appropriate investigative steps” after learning of emails “that appear to be pertinent” to the earlier probe. \\nClinton campaign manager Robby Mook, trying to tamp down speculation of a voter backlash this late in the campaign, said Americans had already “factored” what they knew about the email investigation into how they would cast their ballots. \\n“We don’t see it changing the landscape” for undecided voters, Mook said. \\nClinton aides also said this latest controversy has further energized her supporters. \\nClinton was campaigning in Florida on Saturday, a battleground state that many analysts say Trump must win in order to have any chance of being elected. \\nIn recent weeks, Trump has been running behind Clinton in most public opinion polls. \\nJustice Department officials, according to a source who asked not to be identified, were opposed to the FBI director’s letter being sent to Congress and believe his actions conflict with a Justice Department memo outlining instructions that agencies should not to act in ways that could influence elections. \\nWhile Attorney General Loretta Lynch did not discuss the matter directly with Comey, the source said aides were in touch with each other. \\nComey let it be known he felt he had to send the letter as a follow-up to his congressional testimony earlier this year regarding the FBI’s probe of Clinton’s emails, the source said. \\nMeanwhile, Clinton supporters rallied to her defense following Friday’s FBI disclosure. \\nThe Congressional Black Caucus, comprised of about 45 members of the House of Representatives, nearly all Democrats, held a news conference in Columbus, Ohio, and urged Comey to release more details. \\n(Reporting by Steve Holland in Golden, Colorado, ans Roberta Rampton in Daytona Beach, Florida; Additional reporting by Mark Hosenball in Washington; Writing by Richard Cowan; Editing by James Dalgleish and Leslie Adlerand Leslie Adler) \\nClinton campaign urges FBI to detail new developments in email case added by Reuters on Sat, Oct 29th, 2016</td>\n",
       "      <td>1</td>\n",
       "    </tr>\n",
       "    <tr>\n",
       "      <th>18022</th>\n",
       "      <td>18022</td>\n",
       "      <td>2 Credit-Reporting Agencies Must Pay $23 Million for Deceptive Practices - The New York Times</td>\n",
       "      <td>Reuters</td>\n",
       "      <td>The nation’s consumer watchdog agency on Tuesday ordered the   agencies TransUnion and Equifax to pay more than $23. 2 million in fines and restitution for deceiving customers about the usefulness of credit scores and the cost of obtaining them. The watchdog agency, the Consumer Financial Protection Bureau, said the payments would resolve charges that TransUnion and Equifax had lured consumers into enrolling in credit services advertised as free or costing only $1, but which could cost more than $200 a year. TransUnion will reimburse $13. 93 million to consumers and pay a $3 million civil fine, while Equifax will reimburse $3. 8 million and pay a $2. 5 million civil fine, the bureau said. Both companies will also modify their marketing practices. Among the changes, they will obtain customers’ consent to enroll them in services in which fees begin after free trials and make it easier for them to cancel services they do not want. The bureau said the wrongful conduct had violated the     law and had occurred at TransUnion since July 2011 and at Equifax between July 2011 and March 2014. Many lenders rely on credit scores from TransUnion, Equifax and their rival Experian when lending money. But TransUnion and Equifax falsely represented the credit scores they sold to consumers as being the same scores that lenders used, the Consumer Financial Protection Bureau said. “Credit scores are central to a consumer’s financial life, and people deserve honest and accurate information about them,” Richard Cordray, the bureau’s director, said in a statement. Neither TransUnion, which is based in Chicago, nor Equifax, which is based in Atlanta, admitted or denied wrongdoing. A TransUnion spokesman, David Blumberg, and an Equifax spokeswoman, Ines Gutzmer, said their companies believed that they had complied with the law and were committed to better educating consumers about their credit. Experian was not charged. A spokesman for the bureau did not immediately have additional comment. In 2015, under a separate settlement with 31 state attorneys general, the   agencies agreed to improve how they fixed mistakes and addressed disputes.</td>\n",
       "      <td>0</td>\n",
       "    </tr>\n",
       "    <tr>\n",
       "      <th>18966</th>\n",
       "      <td>18966</td>\n",
       "      <td>Concert plus campaign: Clinton turns to celebrities in homestretch</td>\n",
       "      <td>Reuters</td>\n",
       "      <td>By Reuters   7:16 pm Heading into the homestretch of the presidential campaign, Democratic candidate Hillary Clinton is looking to harness some celebrity star power to help get out the vote and energize volunteers in battleground states.   \\nBy Roberta Rampton \\nDAYTONA BEACH, Fla. (Reuters) – Heading into the homestretch of the presidential campaign, Democratic candidate Hillary Clinton is looking to harness some celebrity star power to help get out the vote and energize volunteers in battleground states. \\nJennifer Lopez will headline a free concert for Clinton supporters in Miami on Saturday, giving the former secretary of state a chance to connect with the key demographic of millennials she has sometimes struggled to reach – and some visual counter-programming to the latest email controversy to roil her race for the White House. \\nThe Federal Bureau of Investigation said on Friday it is investigating more emails as part of a probe into Clinton’s use of a private email system – a late-breaking surprise that will likely continue to get extensive media play leading up to the Nov. 8 vote \\nCelebrity-driven events like the concert “can serve as a bit of a distraction” from the controversy, said Eric Kasper, a political scientist at the University of Wisconsin-Eau Claire. \\n“It is a way to kind of take the edge off things because it tends to be more positive,” Kasper said. \\nThe JLo concert is the first in a series. Next week, Clinton will take the stage with Jay Z in Cleveland, and then with Katy Perry in Philadelphia on Nov. 5. \\nA Harvard University poll this week showed that among likely voters aged 18 to 29, Clinton is leading Republican rival Donald Trump, a celebrity in his own right who starred in the reality television show “The Apprentice.” \\nBut turnout is a concern. The exceptionally negative tone of this year’s race for the White House has soured young Americans on politics, Reuters/Ipsos polling shows. \\nPresidential candidates have long sought to create buzz with help from celebrity pals, said Tevi Troy, who chronicled the strategy in his book “What Jefferson Read, Ike Watched, and Obama Tweeted: 200 Years of Pop Culture in the White House.” \\n“Campaigns do it to reach out to people who are not necessarily interested in politics but are interested in pop culture,” said Troy, a presidential historian who worked in the George W. Bush White House. \\nThe events are like a larger version of a campaign yard sign, a way to show a “groundswell” of support behind a candidate – and a way to appeal to fans of the musicians, said Kasper, who has studied the intersection between pop culture and politics. \\n“It can create a kind of psychological connection that we otherwise might not have when a politician endorses a presidential candidate, for instance,” Kasper said. \\n(Reporting by Roberta Rampton; Editing by Leslie Adler) \\nConcert plus campaign: Clinton turns to celebrities in homestretch added by Reuters on Sat, Oct 29th, 2016</td>\n",
       "      <td>1</td>\n",
       "    </tr>\n",
       "  </tbody>\n",
       "</table>\n",
       "</div>"
      ],
      "text/plain": [
       "          id  \\\n",
       "4759    4759   \n",
       "8519    8519   \n",
       "14292  14292   \n",
       "15462  15462   \n",
       "18022  18022   \n",
       "18966  18966   \n",
       "\n",
       "                                                                                               title  \\\n",
       "4759                                Regulator Tightens Control Over Wells Fargo - The New York Times   \n",
       "8519            Harley-Davidson to Pay $12 Million Fine in Pollution Settlement - The New York Times   \n",
       "14292                         Pope Francis Says Church Should Apologize to Gays - The New York Times   \n",
       "15462                            Clinton campaign urges FBI to detail new developments in email case   \n",
       "18022  2 Credit-Reporting Agencies Must Pay $23 Million for Deceptive Practices - The New York Times   \n",
       "18966                             Concert plus campaign: Clinton turns to celebrities in homestretch   \n",
       "\n",
       "        author  \\\n",
       "4759   Reuters   \n",
       "8519   Reuters   \n",
       "14292  Reuters   \n",
       "15462  Reuters   \n",
       "18022  Reuters   \n",
       "18966  Reuters   \n",
       "\n",
       "                                                                                                                                                                                                                                                                                                                                                                                                                                                                                                                                                                                                                                                                                                                                                                                                                                                                                                                                                                                                                                                                                                                                                                                                                                                                                                                                                                                                                                                                                                                                                                                                                                                                                                                                                                                                                                                                                                                                                                                                                                                                                                                                                                                                                                                                                                                                                                                                                                                                                                                                                                                                                                                                                                                                                                                                                                                                                                                                                                                                                                                                                                                                                                                                                                                                                                                                                                                                                                                                                                                                                                                                                                                                                                                                                                                                                                                                                                                                                                                                                                                                                                                                                                                                                                                                                                                                                                                                                                                                                                                                                                                                                                                                                                                                                                                                                                          text  \\\n",
       "4759                                                                                                                                                                                                                                                                                                                                                                                                                                                                                                                                                                                                                                                                                                                                                                                                                                                                                                                                                                                                                                                                                                                                                                                                                                                                                                                                                                                                                                                                                                                                                                                                                                                                                                                                                                                                                                                                                                                                                                                                                                                                                                                                                                                                                                                                                                                                                                                                                                                                                                                                                                                                                                                                                                                                                                                                                                                                                                                                                                                                                                                                                                                                                                                                                                                                                                                                                       A leading bank regulator on Friday reversed course and revoked Wells Fargo’s right to shield the pay of former executives after a   scandal. The regulator, the Office of the Comptroller of the Currency, also said Wells Fargo must now seek advance approval before naming new bank leadership. Wells Fargo in September agreed to pay $185 million to settle charges that bank employees opened as many as two million accounts banking and credit card without customers’ knowledge. The agency, the main regulator for federal banks, exempted Wells Fargo from some controls on “golden parachutes” in that settlement. The move Friday evening voids those earlier allowances, the agency said. The bank was notified on Friday that the agency had revoked “relief from specific requirements and limitations regarding rules, policies, and procedures for corporate activities,” the comptroller’s office said in a statement on Friday. An official of the Office of the Comptroller of the Currency said the move put Wells Fargo under toughened standards for oversight which the agency had exempted in the original settlement. John G. Stumpf, Wells Fargo’s former  chief executive, and Carrie Tolstedt, former head of retail banking, have relinquished about $60 million in stock after the scandal, according to a Reuters review of securities filings. But the pair also stood to take home more than $350 million in compensation, according to filings.   \n",
       "8519                                                                                                                                                                                                                                                                                                                                                                                                                                                                                                                                                                                                                                                                                                                                                                                                                                                                                                                                                                                                                                                                                                                                                                                                                                                                                                                                                                                                                                                                                                                                                                                                                                                                                                                                                                                                                                                                                                                                                                                                                                                                                                                                                                                                                                                                                                                                                                                                                                                                                                                                                                                                                                                                                                                                                                                                                                                                                                                                               WASHINGTON  —     has agreed to pay a $12 million civil fine and stop selling illegal aftermarket devices that cause its motorcycles to emit too much pollution, the Justice Department said on Thursday. The settlement resolves government accusations that Harley sold roughly 340, 000 “super tuners,” enabling motorcycles since 2008 to pollute the air at levels greater than what the company certified to the Environmental Protection Agency. Harley did not admit liability, and said in a statement that it disagreed with the government’s position, arguing that the devices were designed and sold to be used in “competition only. ” The company said the settlement represented “a   compromise with the E. P. A. on areas of law we interpret differently, particularly E. P. A. ’s assertion that it is illegal for anyone to modify a certified vehicle even if it will be used solely for     competition. ” According to the government, the sale of such   defeat devices violated the federal Clean Air Act. Harley was also accused of selling more than 12, 600 motorcycles that were not covered by an E. P. A. certification governing clean air compliance. The announcement comes at a time of greater scrutiny on emissions and defeat devices by regulators in Washington after Volkswagen admitted using illegal software to evade emissions standards in nearly 600, 000 vehicles in the United States. The settlement calls for   to stop selling the super tuners by Tuesday, and to buy back and destroy all such tuners in stock at its dealerships. The E. P. A. said the modified settings increased power and performance, but also increased the motorcycles’ emissions of hydrocarbons and nitrogen oxides. Harley, based in Milwaukee, will also spend $3 million on an unrelated project to reduce air pollution, the Justice Department said.   \n",
       "14292                                                                                                                                                                                                                                                                                                                                                                                                                                                                                                                                                                                                                                                                                                                                                                                                                                                                                                                                                                                                                                                                                                                                                                                                                                                                                                                                                                                                                                                                                                                                                                                                                                                                    Pope Francis said on Sunday that Christians and the Roman Catholic Church should seek forgiveness from gays for the way they had treated them. Speaking to reporters aboard a plane taking him back to Rome from Armenia, the pope also said the church should ask forgiveness for the way it has treated women, for turning a blind eye to child labor and for “blessing so many weapons” in the past. In an hourlong freewheeling conversation that has become a trademark of his international travels, Francis was asked by a reporter if he agreed with recent comments by a Roman Catholic cardinal from Germany that the church should apologize to gays and if an apology was made more urgent by the killing of 49 people at a gay club in Florida this month. Francis, looking sad, recalled church teachings that homosexuals “should not be discriminated against. ” “They should be respected, accompanied pastorally,” he said. Then he added that he thought the church should apologize not only to gay people it had offended, but also to the poor, to women who have been exploited, and to children who have been exploited by being forced to work. “It must apologize for having blessed so many weapons,” Francis added. The church teaches that gay tendencies are not sinful but that gay acts are, and that gays should try to be chaste. The pope repeated a slightly modified version of the   “Who am I to judge?” comment he made about gays on the first foreign trip after his election in 2013. “The questions is: If a person who has that condition, who has good will, and who looks for God, who are we to judge?” he said. A Vatican spokesman, the Rev. Federico Lombardi, said that the pope’s reference to “that condition” referred not to a medical condition but to “a person in that situation. ” In Italian, the word condition can also mean situation. “We Christians have to apologize for so many things, not just for this (treatment of gays) but we must ask for forgiveness, not just apologize. Forgiveness  —   Lord, it is a word we forget so often,” he said. Francis has been hailed by many gay people for being the most merciful pope toward them in recent history, and conservative Catholics have criticized him for making comments that they say are ambiguous about sexual morality. He told reporters on the plane that “there are traditions in some countries, some cultures, that have a different mentality about this question (gays)” and that there were “some (gay) demonstrations that are too offensive for some. ” But he suggested that those were not grounds for discrimination or marginalization of gays. The pope did not elaborate on what he meant by seeking forgiveness for the church “having blessed so many weapons,” but it appeared to be a reference to some Catholics who have actively backed wars in the past. In other parts of the conversation, Francis said he hoped the European Union would be able to give itself another form after Britain’s vote to leave. “Let’s not throw the baby out with the bath water,” he said. “Let’s try to   things, to  . ”   \n",
       "15462  By Reuters   6:34 pm Democrat Hillary Clinton's top aides on Saturday lashed out at FBI Director James Comey for igniting a new controversy over a long-running private email investigation less than two weeks before the presidential election, saying there was no evidence of wrongdoing and accusing him of spreading \"innuendo.\"   \\nBy Roberta Rampton and Steve Holland \\nDAYTONA BEACH, Fla./GOLDEN, Colo. (Reuters) – Democrat Hillary Clinton’s top aides on Saturday lashed out at FBI Director James Comey for igniting a new controversy over a long-running private email investigation less than two weeks before the presidential election, saying there was no evidence of wrongdoing and accusing him of spreading “innuendo.” \\nComey, who has headed the Federal Bureau of Investigation since 2013, notified the U.S. Congress on Friday that the agency is again reviewing emails, even though in July it decided not to seek prosecution of Clinton for her handling of classified materials on a private email server while she was secretary of state. \\nJohn Podesta, who heads Clinton’s presidential campaign, told reporters that Comey’s letter to Congress was “light on facts, heavy on innuendo,” and he urged Comey to “come forward and give those answers to the American public” about the exact nature of the FBI’s latest review of emails. \\nSources close to the investigation on Friday said the latest emails were discovered as part of a separate probe into Anthony Weiner, the estranged husband of top Clinton aide Huma Abedin. \\nWeiner, a former U.S. congressman from New York, is the target of an FBI investigation into illicit text messages he is alleged to have sent to a 15-year-old girl in North Carolina. \\nWith the Nov. 8 elections quickly approaching, Republican presidential candidate Donald Trump pounded away at the new FBI development, devoting a large part of a campaign speech in Golden, Colorado, to attacking Clinton and arguing that she is not to be trusted with the presidency. \\n“Her criminal action was willful, deliberate, intentional and purposeful,” Trump said, standing in front of hay bales stacked in a horse barn. “Hillary set up an illegal server for the obvious purpose of shielding her illegal actions from public disclosure and exposure.” \\nComey, however, has not provided any details on whether the emails now under review are being seen for the first time by the FBI or the nature of their contents. \\nClinton’s campaign tried to play down the new review. “There’s no evidence of wrongdoing, no charge of wrongdoing,” Podesta said, in the FBI’s latest announcement that it was taking “appropriate investigative steps” after learning of emails “that appear to be pertinent” to the earlier probe. \\nClinton campaign manager Robby Mook, trying to tamp down speculation of a voter backlash this late in the campaign, said Americans had already “factored” what they knew about the email investigation into how they would cast their ballots. \\n“We don’t see it changing the landscape” for undecided voters, Mook said. \\nClinton aides also said this latest controversy has further energized her supporters. \\nClinton was campaigning in Florida on Saturday, a battleground state that many analysts say Trump must win in order to have any chance of being elected. \\nIn recent weeks, Trump has been running behind Clinton in most public opinion polls. \\nJustice Department officials, according to a source who asked not to be identified, were opposed to the FBI director’s letter being sent to Congress and believe his actions conflict with a Justice Department memo outlining instructions that agencies should not to act in ways that could influence elections. \\nWhile Attorney General Loretta Lynch did not discuss the matter directly with Comey, the source said aides were in touch with each other. \\nComey let it be known he felt he had to send the letter as a follow-up to his congressional testimony earlier this year regarding the FBI’s probe of Clinton’s emails, the source said. \\nMeanwhile, Clinton supporters rallied to her defense following Friday’s FBI disclosure. \\nThe Congressional Black Caucus, comprised of about 45 members of the House of Representatives, nearly all Democrats, held a news conference in Columbus, Ohio, and urged Comey to release more details. \\n(Reporting by Steve Holland in Golden, Colorado, ans Roberta Rampton in Daytona Beach, Florida; Additional reporting by Mark Hosenball in Washington; Writing by Richard Cowan; Editing by James Dalgleish and Leslie Adlerand Leslie Adler) \\nClinton campaign urges FBI to detail new developments in email case added by Reuters on Sat, Oct 29th, 2016   \n",
       "18022                                                                                                                                                                                                                                                                                                                                                                                                                                                                                                                                                                                                                                                                                                                                                                                                                                                                                                                                                                                                                                                                                                                                                                                                                                                                                                                                                                                                                                                                                                                                                                                                                                                                                                                                                                                                                                                                                                                                                                                                                                                                                                                                                                                                                                                                                                                                                                                                                                                                                                                                                                                                  The nation’s consumer watchdog agency on Tuesday ordered the   agencies TransUnion and Equifax to pay more than $23. 2 million in fines and restitution for deceiving customers about the usefulness of credit scores and the cost of obtaining them. The watchdog agency, the Consumer Financial Protection Bureau, said the payments would resolve charges that TransUnion and Equifax had lured consumers into enrolling in credit services advertised as free or costing only $1, but which could cost more than $200 a year. TransUnion will reimburse $13. 93 million to consumers and pay a $3 million civil fine, while Equifax will reimburse $3. 8 million and pay a $2. 5 million civil fine, the bureau said. Both companies will also modify their marketing practices. Among the changes, they will obtain customers’ consent to enroll them in services in which fees begin after free trials and make it easier for them to cancel services they do not want. The bureau said the wrongful conduct had violated the     law and had occurred at TransUnion since July 2011 and at Equifax between July 2011 and March 2014. Many lenders rely on credit scores from TransUnion, Equifax and their rival Experian when lending money. But TransUnion and Equifax falsely represented the credit scores they sold to consumers as being the same scores that lenders used, the Consumer Financial Protection Bureau said. “Credit scores are central to a consumer’s financial life, and people deserve honest and accurate information about them,” Richard Cordray, the bureau’s director, said in a statement. Neither TransUnion, which is based in Chicago, nor Equifax, which is based in Atlanta, admitted or denied wrongdoing. A TransUnion spokesman, David Blumberg, and an Equifax spokeswoman, Ines Gutzmer, said their companies believed that they had complied with the law and were committed to better educating consumers about their credit. Experian was not charged. A spokesman for the bureau did not immediately have additional comment. In 2015, under a separate settlement with 31 state attorneys general, the   agencies agreed to improve how they fixed mistakes and addressed disputes.   \n",
       "18966                                                                                                                                                                                                                                                                                                                                                                                                                                                                                                                                                                                                                                                                                                                                                                                                                                                                                                                                                                                                                                                                                                                                                                                                                                                                                                                                                                                                                                                                                                                                                                                                                                                                                                                                 By Reuters   7:16 pm Heading into the homestretch of the presidential campaign, Democratic candidate Hillary Clinton is looking to harness some celebrity star power to help get out the vote and energize volunteers in battleground states.   \\nBy Roberta Rampton \\nDAYTONA BEACH, Fla. (Reuters) – Heading into the homestretch of the presidential campaign, Democratic candidate Hillary Clinton is looking to harness some celebrity star power to help get out the vote and energize volunteers in battleground states. \\nJennifer Lopez will headline a free concert for Clinton supporters in Miami on Saturday, giving the former secretary of state a chance to connect with the key demographic of millennials she has sometimes struggled to reach – and some visual counter-programming to the latest email controversy to roil her race for the White House. \\nThe Federal Bureau of Investigation said on Friday it is investigating more emails as part of a probe into Clinton’s use of a private email system – a late-breaking surprise that will likely continue to get extensive media play leading up to the Nov. 8 vote \\nCelebrity-driven events like the concert “can serve as a bit of a distraction” from the controversy, said Eric Kasper, a political scientist at the University of Wisconsin-Eau Claire. \\n“It is a way to kind of take the edge off things because it tends to be more positive,” Kasper said. \\nThe JLo concert is the first in a series. Next week, Clinton will take the stage with Jay Z in Cleveland, and then with Katy Perry in Philadelphia on Nov. 5. \\nA Harvard University poll this week showed that among likely voters aged 18 to 29, Clinton is leading Republican rival Donald Trump, a celebrity in his own right who starred in the reality television show “The Apprentice.” \\nBut turnout is a concern. The exceptionally negative tone of this year’s race for the White House has soured young Americans on politics, Reuters/Ipsos polling shows. \\nPresidential candidates have long sought to create buzz with help from celebrity pals, said Tevi Troy, who chronicled the strategy in his book “What Jefferson Read, Ike Watched, and Obama Tweeted: 200 Years of Pop Culture in the White House.” \\n“Campaigns do it to reach out to people who are not necessarily interested in politics but are interested in pop culture,” said Troy, a presidential historian who worked in the George W. Bush White House. \\nThe events are like a larger version of a campaign yard sign, a way to show a “groundswell” of support behind a candidate – and a way to appeal to fans of the musicians, said Kasper, who has studied the intersection between pop culture and politics. \\n“It can create a kind of psychological connection that we otherwise might not have when a politician endorses a presidential candidate, for instance,” Kasper said. \\n(Reporting by Roberta Rampton; Editing by Leslie Adler) \\nConcert plus campaign: Clinton turns to celebrities in homestretch added by Reuters on Sat, Oct 29th, 2016   \n",
       "\n",
       "       label  \n",
       "4759       0  \n",
       "8519       0  \n",
       "14292      0  \n",
       "15462      1  \n",
       "18022      0  \n",
       "18966      1  "
      ]
     },
     "execution_count": 12,
     "metadata": {},
     "output_type": "execute_result"
    }
   ],
   "source": [
    "pd.set_option('display.max_colwidth', None)\n",
    "df.loc[df['author'] == 'Reuters']"
   ]
  },
  {
   "cell_type": "code",
   "execution_count": 13,
   "metadata": {},
   "outputs": [
    {
     "name": "stdout",
     "output_type": "stream",
     "text": [
      "en         19227\n",
      "de           285\n",
      "es           163\n",
      "ru           156\n",
      "fr            77\n",
      "it            51\n",
      "nl            49\n",
      "af            46\n",
      "no            42\n",
      "ca            40\n",
      "id            34\n",
      "pt            25\n",
      "ro            21\n",
      "et            21\n",
      "da            20\n",
      "ar            19\n",
      "unknown       17\n",
      "tl            14\n",
      "sv            14\n",
      "hr            11\n",
      "so             9\n",
      "pl             8\n",
      "tr             8\n",
      "cy             6\n",
      "sl             4\n",
      "hu             3\n",
      "fi             3\n",
      "sw             3\n",
      "vi             2\n",
      "lt             2\n",
      "sq             2\n",
      "el             2\n",
      "bg             1\n",
      "zh-cn          1\n",
      "Name: language, dtype: int64\n"
     ]
    }
   ],
   "source": [
    "# language detection\n",
    "def detect_language(text):\n",
    "    # tried useing textblob but too many requests\n",
    "    try:\n",
    "        return detect(text)\n",
    "    except:\n",
    "        return 'unknown'\n",
    "df['language'] = df['text'].apply(lambda x: detect_language(x[:50]))\n",
    "print(df['language'].value_counts())"
   ]
  },
  {
   "cell_type": "markdown",
   "metadata": {},
   "source": [
    "The output above shows that almost all of the articles are in english. Next we examine the ratio between real and fake articles that are written in languages other than english"
   ]
  },
  {
   "cell_type": "code",
   "execution_count": 14,
   "metadata": {},
   "outputs": [
    {
     "data": {
      "text/plain": [
       "1    904\n",
       "0    255\n",
       "Name: label, dtype: int64"
      ]
     },
     "execution_count": 14,
     "metadata": {},
     "output_type": "execute_result"
    }
   ],
   "source": [
    "df_foreign = df.loc[df['language'] != 'en']\n",
    "df_foreign['label'].value_counts()"
   ]
  },
  {
   "cell_type": "markdown",
   "metadata": {},
   "source": [
    "The previous output shows that the data for foreign languages is clearly not balanced, there are much more fake articles in foregin langauages than real articles"
   ]
  },
  {
   "cell_type": "code",
   "execution_count": 15,
   "metadata": {},
   "outputs": [
    {
     "data": {
      "text/html": [
       "<div>\n",
       "<style scoped>\n",
       "    .dataframe tbody tr th:only-of-type {\n",
       "        vertical-align: middle;\n",
       "    }\n",
       "\n",
       "    .dataframe tbody tr th {\n",
       "        vertical-align: top;\n",
       "    }\n",
       "\n",
       "    .dataframe thead th {\n",
       "        text-align: right;\n",
       "    }\n",
       "</style>\n",
       "<table border=\"1\" class=\"dataframe\">\n",
       "  <thead>\n",
       "    <tr style=\"text-align: right;\">\n",
       "      <th></th>\n",
       "      <th>language</th>\n",
       "      <th>label</th>\n",
       "      <th>counts</th>\n",
       "    </tr>\n",
       "  </thead>\n",
       "  <tbody>\n",
       "    <tr>\n",
       "      <th>0</th>\n",
       "      <td>af</td>\n",
       "      <td>0</td>\n",
       "      <td>21</td>\n",
       "    </tr>\n",
       "    <tr>\n",
       "      <th>1</th>\n",
       "      <td>af</td>\n",
       "      <td>1</td>\n",
       "      <td>25</td>\n",
       "    </tr>\n",
       "    <tr>\n",
       "      <th>2</th>\n",
       "      <td>ar</td>\n",
       "      <td>1</td>\n",
       "      <td>19</td>\n",
       "    </tr>\n",
       "    <tr>\n",
       "      <th>3</th>\n",
       "      <td>bg</td>\n",
       "      <td>1</td>\n",
       "      <td>1</td>\n",
       "    </tr>\n",
       "    <tr>\n",
       "      <th>4</th>\n",
       "      <td>ca</td>\n",
       "      <td>0</td>\n",
       "      <td>17</td>\n",
       "    </tr>\n",
       "    <tr>\n",
       "      <th>5</th>\n",
       "      <td>ca</td>\n",
       "      <td>1</td>\n",
       "      <td>23</td>\n",
       "    </tr>\n",
       "    <tr>\n",
       "      <th>6</th>\n",
       "      <td>cy</td>\n",
       "      <td>0</td>\n",
       "      <td>1</td>\n",
       "    </tr>\n",
       "    <tr>\n",
       "      <th>7</th>\n",
       "      <td>cy</td>\n",
       "      <td>1</td>\n",
       "      <td>5</td>\n",
       "    </tr>\n",
       "    <tr>\n",
       "      <th>8</th>\n",
       "      <td>da</td>\n",
       "      <td>0</td>\n",
       "      <td>11</td>\n",
       "    </tr>\n",
       "    <tr>\n",
       "      <th>9</th>\n",
       "      <td>da</td>\n",
       "      <td>1</td>\n",
       "      <td>9</td>\n",
       "    </tr>\n",
       "    <tr>\n",
       "      <th>10</th>\n",
       "      <td>de</td>\n",
       "      <td>0</td>\n",
       "      <td>49</td>\n",
       "    </tr>\n",
       "    <tr>\n",
       "      <th>11</th>\n",
       "      <td>de</td>\n",
       "      <td>1</td>\n",
       "      <td>236</td>\n",
       "    </tr>\n",
       "    <tr>\n",
       "      <th>12</th>\n",
       "      <td>el</td>\n",
       "      <td>1</td>\n",
       "      <td>2</td>\n",
       "    </tr>\n",
       "    <tr>\n",
       "      <th>13</th>\n",
       "      <td>es</td>\n",
       "      <td>0</td>\n",
       "      <td>24</td>\n",
       "    </tr>\n",
       "    <tr>\n",
       "      <th>14</th>\n",
       "      <td>es</td>\n",
       "      <td>1</td>\n",
       "      <td>139</td>\n",
       "    </tr>\n",
       "    <tr>\n",
       "      <th>15</th>\n",
       "      <td>et</td>\n",
       "      <td>0</td>\n",
       "      <td>7</td>\n",
       "    </tr>\n",
       "    <tr>\n",
       "      <th>16</th>\n",
       "      <td>et</td>\n",
       "      <td>1</td>\n",
       "      <td>14</td>\n",
       "    </tr>\n",
       "    <tr>\n",
       "      <th>17</th>\n",
       "      <td>fi</td>\n",
       "      <td>1</td>\n",
       "      <td>3</td>\n",
       "    </tr>\n",
       "    <tr>\n",
       "      <th>18</th>\n",
       "      <td>fr</td>\n",
       "      <td>0</td>\n",
       "      <td>17</td>\n",
       "    </tr>\n",
       "    <tr>\n",
       "      <th>19</th>\n",
       "      <td>fr</td>\n",
       "      <td>1</td>\n",
       "      <td>60</td>\n",
       "    </tr>\n",
       "    <tr>\n",
       "      <th>20</th>\n",
       "      <td>hr</td>\n",
       "      <td>0</td>\n",
       "      <td>3</td>\n",
       "    </tr>\n",
       "    <tr>\n",
       "      <th>21</th>\n",
       "      <td>hr</td>\n",
       "      <td>1</td>\n",
       "      <td>8</td>\n",
       "    </tr>\n",
       "    <tr>\n",
       "      <th>22</th>\n",
       "      <td>hu</td>\n",
       "      <td>1</td>\n",
       "      <td>3</td>\n",
       "    </tr>\n",
       "    <tr>\n",
       "      <th>23</th>\n",
       "      <td>id</td>\n",
       "      <td>0</td>\n",
       "      <td>17</td>\n",
       "    </tr>\n",
       "    <tr>\n",
       "      <th>24</th>\n",
       "      <td>id</td>\n",
       "      <td>1</td>\n",
       "      <td>17</td>\n",
       "    </tr>\n",
       "    <tr>\n",
       "      <th>25</th>\n",
       "      <td>it</td>\n",
       "      <td>0</td>\n",
       "      <td>22</td>\n",
       "    </tr>\n",
       "    <tr>\n",
       "      <th>26</th>\n",
       "      <td>it</td>\n",
       "      <td>1</td>\n",
       "      <td>29</td>\n",
       "    </tr>\n",
       "    <tr>\n",
       "      <th>27</th>\n",
       "      <td>lt</td>\n",
       "      <td>1</td>\n",
       "      <td>2</td>\n",
       "    </tr>\n",
       "    <tr>\n",
       "      <th>28</th>\n",
       "      <td>nl</td>\n",
       "      <td>0</td>\n",
       "      <td>17</td>\n",
       "    </tr>\n",
       "    <tr>\n",
       "      <th>29</th>\n",
       "      <td>nl</td>\n",
       "      <td>1</td>\n",
       "      <td>32</td>\n",
       "    </tr>\n",
       "    <tr>\n",
       "      <th>30</th>\n",
       "      <td>no</td>\n",
       "      <td>0</td>\n",
       "      <td>13</td>\n",
       "    </tr>\n",
       "    <tr>\n",
       "      <th>31</th>\n",
       "      <td>no</td>\n",
       "      <td>1</td>\n",
       "      <td>29</td>\n",
       "    </tr>\n",
       "    <tr>\n",
       "      <th>32</th>\n",
       "      <td>pl</td>\n",
       "      <td>0</td>\n",
       "      <td>1</td>\n",
       "    </tr>\n",
       "    <tr>\n",
       "      <th>33</th>\n",
       "      <td>pl</td>\n",
       "      <td>1</td>\n",
       "      <td>7</td>\n",
       "    </tr>\n",
       "    <tr>\n",
       "      <th>34</th>\n",
       "      <td>pt</td>\n",
       "      <td>0</td>\n",
       "      <td>10</td>\n",
       "    </tr>\n",
       "    <tr>\n",
       "      <th>35</th>\n",
       "      <td>pt</td>\n",
       "      <td>1</td>\n",
       "      <td>15</td>\n",
       "    </tr>\n",
       "    <tr>\n",
       "      <th>36</th>\n",
       "      <td>ro</td>\n",
       "      <td>0</td>\n",
       "      <td>5</td>\n",
       "    </tr>\n",
       "    <tr>\n",
       "      <th>37</th>\n",
       "      <td>ro</td>\n",
       "      <td>1</td>\n",
       "      <td>16</td>\n",
       "    </tr>\n",
       "    <tr>\n",
       "      <th>38</th>\n",
       "      <td>ru</td>\n",
       "      <td>1</td>\n",
       "      <td>156</td>\n",
       "    </tr>\n",
       "    <tr>\n",
       "      <th>39</th>\n",
       "      <td>sl</td>\n",
       "      <td>0</td>\n",
       "      <td>2</td>\n",
       "    </tr>\n",
       "    <tr>\n",
       "      <th>40</th>\n",
       "      <td>sl</td>\n",
       "      <td>1</td>\n",
       "      <td>2</td>\n",
       "    </tr>\n",
       "    <tr>\n",
       "      <th>41</th>\n",
       "      <td>so</td>\n",
       "      <td>0</td>\n",
       "      <td>4</td>\n",
       "    </tr>\n",
       "    <tr>\n",
       "      <th>42</th>\n",
       "      <td>so</td>\n",
       "      <td>1</td>\n",
       "      <td>5</td>\n",
       "    </tr>\n",
       "    <tr>\n",
       "      <th>43</th>\n",
       "      <td>sq</td>\n",
       "      <td>0</td>\n",
       "      <td>1</td>\n",
       "    </tr>\n",
       "    <tr>\n",
       "      <th>44</th>\n",
       "      <td>sq</td>\n",
       "      <td>1</td>\n",
       "      <td>1</td>\n",
       "    </tr>\n",
       "    <tr>\n",
       "      <th>45</th>\n",
       "      <td>sv</td>\n",
       "      <td>0</td>\n",
       "      <td>4</td>\n",
       "    </tr>\n",
       "    <tr>\n",
       "      <th>46</th>\n",
       "      <td>sv</td>\n",
       "      <td>1</td>\n",
       "      <td>10</td>\n",
       "    </tr>\n",
       "    <tr>\n",
       "      <th>47</th>\n",
       "      <td>sw</td>\n",
       "      <td>1</td>\n",
       "      <td>3</td>\n",
       "    </tr>\n",
       "    <tr>\n",
       "      <th>48</th>\n",
       "      <td>tl</td>\n",
       "      <td>0</td>\n",
       "      <td>9</td>\n",
       "    </tr>\n",
       "    <tr>\n",
       "      <th>49</th>\n",
       "      <td>tl</td>\n",
       "      <td>1</td>\n",
       "      <td>5</td>\n",
       "    </tr>\n",
       "    <tr>\n",
       "      <th>50</th>\n",
       "      <td>tr</td>\n",
       "      <td>1</td>\n",
       "      <td>8</td>\n",
       "    </tr>\n",
       "    <tr>\n",
       "      <th>51</th>\n",
       "      <td>unknown</td>\n",
       "      <td>1</td>\n",
       "      <td>17</td>\n",
       "    </tr>\n",
       "    <tr>\n",
       "      <th>52</th>\n",
       "      <td>vi</td>\n",
       "      <td>1</td>\n",
       "      <td>2</td>\n",
       "    </tr>\n",
       "    <tr>\n",
       "      <th>53</th>\n",
       "      <td>zh-cn</td>\n",
       "      <td>1</td>\n",
       "      <td>1</td>\n",
       "    </tr>\n",
       "  </tbody>\n",
       "</table>\n",
       "</div>"
      ],
      "text/plain": [
       "   language  label  counts\n",
       "0        af      0      21\n",
       "1        af      1      25\n",
       "2        ar      1      19\n",
       "3        bg      1       1\n",
       "4        ca      0      17\n",
       "5        ca      1      23\n",
       "6        cy      0       1\n",
       "7        cy      1       5\n",
       "8        da      0      11\n",
       "9        da      1       9\n",
       "10       de      0      49\n",
       "11       de      1     236\n",
       "12       el      1       2\n",
       "13       es      0      24\n",
       "14       es      1     139\n",
       "15       et      0       7\n",
       "16       et      1      14\n",
       "17       fi      1       3\n",
       "18       fr      0      17\n",
       "19       fr      1      60\n",
       "20       hr      0       3\n",
       "21       hr      1       8\n",
       "22       hu      1       3\n",
       "23       id      0      17\n",
       "24       id      1      17\n",
       "25       it      0      22\n",
       "26       it      1      29\n",
       "27       lt      1       2\n",
       "28       nl      0      17\n",
       "29       nl      1      32\n",
       "30       no      0      13\n",
       "31       no      1      29\n",
       "32       pl      0       1\n",
       "33       pl      1       7\n",
       "34       pt      0      10\n",
       "35       pt      1      15\n",
       "36       ro      0       5\n",
       "37       ro      1      16\n",
       "38       ru      1     156\n",
       "39       sl      0       2\n",
       "40       sl      1       2\n",
       "41       so      0       4\n",
       "42       so      1       5\n",
       "43       sq      0       1\n",
       "44       sq      1       1\n",
       "45       sv      0       4\n",
       "46       sv      1      10\n",
       "47       sw      1       3\n",
       "48       tl      0       9\n",
       "49       tl      1       5\n",
       "50       tr      1       8\n",
       "51  unknown      1      17\n",
       "52       vi      1       2\n",
       "53    zh-cn      1       1"
      ]
     },
     "execution_count": 15,
     "metadata": {},
     "output_type": "execute_result"
    }
   ],
   "source": [
    "df_foreign.groupby(['language', 'label']).size().reset_index(name='counts')"
   ]
  },
  {
   "cell_type": "code",
   "execution_count": 16,
   "metadata": {},
   "outputs": [],
   "source": [
    "# text processing\n",
    "df['text'].replace('\\n', ' ', regex = True, inplace = True)\n",
    "df[\"text\"] = df['text'].str.replace('[^\\w\\s]',' ') # remove punctuation"
   ]
  },
  {
   "cell_type": "code",
   "execution_count": 17,
   "metadata": {},
   "outputs": [],
   "source": [
    "df['title'].replace('\\n', '', regex = True, inplace = True)\n",
    "df[\"title\"] = df['title'].str.replace('[^\\w\\s]','') # remove punctuation"
   ]
  },
  {
   "cell_type": "code",
   "execution_count": 18,
   "metadata": {},
   "outputs": [
    {
     "data": {
      "text/html": [
       "<div>\n",
       "<style scoped>\n",
       "    .dataframe tbody tr th:only-of-type {\n",
       "        vertical-align: middle;\n",
       "    }\n",
       "\n",
       "    .dataframe tbody tr th {\n",
       "        vertical-align: top;\n",
       "    }\n",
       "\n",
       "    .dataframe thead th {\n",
       "        text-align: right;\n",
       "    }\n",
       "</style>\n",
       "<table border=\"1\" class=\"dataframe\">\n",
       "  <thead>\n",
       "    <tr style=\"text-align: right;\">\n",
       "      <th></th>\n",
       "      <th>id</th>\n",
       "      <th>title</th>\n",
       "      <th>author</th>\n",
       "      <th>text</th>\n",
       "      <th>label</th>\n",
       "      <th>language</th>\n",
       "      <th>text_word_count</th>\n",
       "      <th>title_word_count</th>\n",
       "    </tr>\n",
       "  </thead>\n",
       "  <tbody>\n",
       "    <tr>\n",
       "      <th>4759</th>\n",
       "      <td>4759</td>\n",
       "      <td>Regulator Tightens Control Over Wells Fargo  The New York Times</td>\n",
       "      <td>Reuters</td>\n",
       "      <td>A leading bank regulator on Friday reversed course and revoked Wells Fargos right to shield the pay of former executives after a   scandal The regulator the Office of the Comptroller of the Currency also said Wells Fargo must now seek advance approval before naming new bank leadership Wells Fargo in September agreed to pay 185 million to settle charges that bank employees opened as many as two million accounts banking and credit card without customers knowledge The agency the main regulator for federal banks exempted Wells Fargo from some controls on golden parachutes in that settlement The move Friday evening voids those earlier allowances the agency said The bank was notified on Friday that the agency had revoked relief from specific requirements and limitations regarding rules policies and procedures for corporate activities the comptrollers office said in a statement on Friday An official of the Office of the Comptroller of the Currency said the move put Wells Fargo under toughened standards for oversight which the agency had exempted in the original settlement John G Stumpf Wells Fargos former  chief executive and Carrie Tolstedt former head of retail banking have relinquished about 60 million in stock after the scandal according to a Reuters review of securities filings But the pair also stood to take home more than 350 million in compensation according to filings</td>\n",
       "      <td>0</td>\n",
       "      <td>en</td>\n",
       "      <td>223</td>\n",
       "      <td>10</td>\n",
       "    </tr>\n",
       "    <tr>\n",
       "      <th>8519</th>\n",
       "      <td>8519</td>\n",
       "      <td>HarleyDavidson to Pay 12 Million Fine in Pollution Settlement  The New York Times</td>\n",
       "      <td>Reuters</td>\n",
       "      <td>WASHINGTON       has agreed to pay a 12 million civil fine and stop selling illegal aftermarket devices that cause its motorcycles to emit too much pollution the Justice Department said on Thursday The settlement resolves government accusations that Harley sold roughly 340 000 super tuners enabling motorcycles since 2008 to pollute the air at levels greater than what the company certified to the Environmental Protection Agency Harley did not admit liability and said in a statement that it disagreed with the governments position arguing that the devices were designed and sold to be used in competition only  The company said the settlement represented a   compromise with the E P A on areas of law we interpret differently particularly E P A s assertion that it is illegal for anyone to modify a certified vehicle even if it will be used solely for     competition  According to the government the sale of such   defeat devices violated the federal Clean Air Act Harley was also accused of selling more than 12 600 motorcycles that were not covered by an E P A certification governing clean air compliance The announcement comes at a time of greater scrutiny on emissions and defeat devices by regulators in Washington after Volkswagen admitted using illegal software to evade emissions standards in nearly 600 000 vehicles in the United States The settlement calls for   to stop selling the super tuners by Tuesday and to buy back and destroy all such tuners in stock at its dealerships The E P A said the modified settings increased power and performance but also increased the motorcycles emissions of hydrocarbons and nitrogen oxides Harley based in Milwaukee will also spend 3 million on an unrelated project to reduce air pollution the Justice Department said</td>\n",
       "      <td>0</td>\n",
       "      <td>en</td>\n",
       "      <td>290</td>\n",
       "      <td>13</td>\n",
       "    </tr>\n",
       "    <tr>\n",
       "      <th>14292</th>\n",
       "      <td>14292</td>\n",
       "      <td>Pope Francis Says Church Should Apologize to Gays  The New York Times</td>\n",
       "      <td>Reuters</td>\n",
       "      <td>Pope Francis said on Sunday that Christians and the Roman Catholic Church should seek forgiveness from gays for the way they had treated them Speaking to reporters aboard a plane taking him back to Rome from Armenia the pope also said the church should ask forgiveness for the way it has treated women for turning a blind eye to child labor and for blessing so many weapons in the past In an hourlong freewheeling conversation that has become a trademark of his international travels Francis was asked by a reporter if he agreed with recent comments by a Roman Catholic cardinal from Germany that the church should apologize to gays and if an apology was made more urgent by the killing of 49 people at a gay club in Florida this month Francis looking sad recalled church teachings that homosexuals should not be discriminated against  They should be respected accompanied pastorally he said Then he added that he thought the church should apologize not only to gay people it had offended but also to the poor to women who have been exploited and to children who have been exploited by being forced to work It must apologize for having blessed so many weapons Francis added The church teaches that gay tendencies are not sinful but that gay acts are and that gays should try to be chaste The pope repeated a slightly modified version of the   Who am I to judge comment he made about gays on the first foreign trip after his election in 2013 The questions is If a person who has that condition who has good will and who looks for God who are we to judge he said A Vatican spokesman the Rev Federico Lombardi said that the popes reference to that condition referred not to a medical condition but to a person in that situation  In Italian the word condition can also mean situation We Christians have to apologize for so many things not just for this treatment of gays but we must ask for forgiveness not just apologize Forgiveness     Lord it is a word we forget so often he said Francis has been hailed by many gay people for being the most merciful pope toward them in recent history and conservative Catholics have criticized him for making comments that they say are ambiguous about sexual morality He told reporters on the plane that there are traditions in some countries some cultures that have a different mentality about this question gays and that there were some gay demonstrations that are too offensive for some  But he suggested that those were not grounds for discrimination or marginalization of gays The pope did not elaborate on what he meant by seeking forgiveness for the church having blessed so many weapons but it appeared to be a reference to some Catholics who have actively backed wars in the past In other parts of the conversation Francis said he hoped the European Union would be able to give itself another form after Britains vote to leave Lets not throw the baby out with the bath water he said Lets try to   things to</td>\n",
       "      <td>0</td>\n",
       "      <td>en</td>\n",
       "      <td>524</td>\n",
       "      <td>12</td>\n",
       "    </tr>\n",
       "    <tr>\n",
       "      <th>15462</th>\n",
       "      <td>15462</td>\n",
       "      <td>Clinton campaign urges FBI to detail new developments in email case</td>\n",
       "      <td>Reuters</td>\n",
       "      <td>By Reuters   634 pm Democrat Hillary Clintons top aides on Saturday lashed out at FBI Director James Comey for igniting a new controversy over a longrunning private email investigation less than two weeks before the presidential election saying there was no evidence of wrongdoing and accusing him of spreading innuendo   By Roberta Rampton and Steve Holland DAYTONA BEACH FlaGOLDEN Colo Reuters  Democrat Hillary Clintons top aides on Saturday lashed out at FBI Director James Comey for igniting a new controversy over a longrunning private email investigation less than two weeks before the presidential election saying there was no evidence of wrongdoing and accusing him of spreading innuendo Comey who has headed the Federal Bureau of Investigation since 2013 notified the US Congress on Friday that the agency is again reviewing emails even though in July it decided not to seek prosecution of Clinton for her handling of classified materials on a private email server while she was secretary of state John Podesta who heads Clintons presidential campaign told reporters that Comeys letter to Congress was light on facts heavy on innuendo and he urged Comey to come forward and give those answers to the American public about the exact nature of the FBIs latest review of emails Sources close to the investigation on Friday said the latest emails were discovered as part of a separate probe into Anthony Weiner the estranged husband of top Clinton aide Huma Abedin Weiner a former US congressman from New York is the target of an FBI investigation into illicit text messages he is alleged to have sent to a 15yearold girl in North Carolina With the Nov 8 elections quickly approaching Republican presidential candidate Donald Trump pounded away at the new FBI development devoting a large part of a campaign speech in Golden Colorado to attacking Clinton and arguing that she is not to be trusted with the presidency Her criminal action was willful deliberate intentional and purposeful Trump said standing in front of hay bales stacked in a horse barn Hillary set up an illegal server for the obvious purpose of shielding her illegal actions from public disclosure and exposure Comey however has not provided any details on whether the emails now under review are being seen for the first time by the FBI or the nature of their contents Clintons campaign tried to play down the new review Theres no evidence of wrongdoing no charge of wrongdoing Podesta said in the FBIs latest announcement that it was taking appropriate investigative steps after learning of emails that appear to be pertinent to the earlier probe Clinton campaign manager Robby Mook trying to tamp down speculation of a voter backlash this late in the campaign said Americans had already factored what they knew about the email investigation into how they would cast their ballots We dont see it changing the landscape for undecided voters Mook said Clinton aides also said this latest controversy has further energized her supporters Clinton was campaigning in Florida on Saturday a battleground state that many analysts say Trump must win in order to have any chance of being elected In recent weeks Trump has been running behind Clinton in most public opinion polls Justice Department officials according to a source who asked not to be identified were opposed to the FBI directors letter being sent to Congress and believe his actions conflict with a Justice Department memo outlining instructions that agencies should not to act in ways that could influence elections While Attorney General Loretta Lynch did not discuss the matter directly with Comey the source said aides were in touch with each other Comey let it be known he felt he had to send the letter as a followup to his congressional testimony earlier this year regarding the FBIs probe of Clintons emails the source said Meanwhile Clinton supporters rallied to her defense following Fridays FBI disclosure The Congressional Black Caucus comprised of about 45 members of the House of Representatives nearly all Democrats held a news conference in Columbus Ohio and urged Comey to release more details Reporting by Steve Holland in Golden Colorado ans Roberta Rampton in Daytona Beach Florida Additional reporting by Mark Hosenball in Washington Writing by Richard Cowan Editing by James Dalgleish and Leslie Adlerand Leslie Adler Clinton campaign urges FBI to detail new developments in email case added by Reuters on Sat Oct 29th 2016</td>\n",
       "      <td>1</td>\n",
       "      <td>en</td>\n",
       "      <td>733</td>\n",
       "      <td>11</td>\n",
       "    </tr>\n",
       "    <tr>\n",
       "      <th>18022</th>\n",
       "      <td>18022</td>\n",
       "      <td>2 CreditReporting Agencies Must Pay 23 Million for Deceptive Practices  The New York Times</td>\n",
       "      <td>Reuters</td>\n",
       "      <td>The nations consumer watchdog agency on Tuesday ordered the   agencies TransUnion and Equifax to pay more than 23 2 million in fines and restitution for deceiving customers about the usefulness of credit scores and the cost of obtaining them The watchdog agency the Consumer Financial Protection Bureau said the payments would resolve charges that TransUnion and Equifax had lured consumers into enrolling in credit services advertised as free or costing only 1 but which could cost more than 200 a year TransUnion will reimburse 13 93 million to consumers and pay a 3 million civil fine while Equifax will reimburse 3 8 million and pay a 2 5 million civil fine the bureau said Both companies will also modify their marketing practices Among the changes they will obtain customers consent to enroll them in services in which fees begin after free trials and make it easier for them to cancel services they do not want The bureau said the wrongful conduct had violated the     law and had occurred at TransUnion since July 2011 and at Equifax between July 2011 and March 2014 Many lenders rely on credit scores from TransUnion Equifax and their rival Experian when lending money But TransUnion and Equifax falsely represented the credit scores they sold to consumers as being the same scores that lenders used the Consumer Financial Protection Bureau said Credit scores are central to a consumers financial life and people deserve honest and accurate information about them Richard Cordray the bureaus director said in a statement Neither TransUnion which is based in Chicago nor Equifax which is based in Atlanta admitted or denied wrongdoing A TransUnion spokesman David Blumberg and an Equifax spokeswoman Ines Gutzmer said their companies believed that they had complied with the law and were committed to better educating consumers about their credit Experian was not charged A spokesman for the bureau did not immediately have additional comment In 2015 under a separate settlement with 31 state attorneys general the   agencies agreed to improve how they fixed mistakes and addressed disputes</td>\n",
       "      <td>0</td>\n",
       "      <td>en</td>\n",
       "      <td>340</td>\n",
       "      <td>14</td>\n",
       "    </tr>\n",
       "    <tr>\n",
       "      <th>18966</th>\n",
       "      <td>18966</td>\n",
       "      <td>Concert plus campaign Clinton turns to celebrities in homestretch</td>\n",
       "      <td>Reuters</td>\n",
       "      <td>By Reuters   716 pm Heading into the homestretch of the presidential campaign Democratic candidate Hillary Clinton is looking to harness some celebrity star power to help get out the vote and energize volunteers in battleground states   By Roberta Rampton DAYTONA BEACH Fla Reuters  Heading into the homestretch of the presidential campaign Democratic candidate Hillary Clinton is looking to harness some celebrity star power to help get out the vote and energize volunteers in battleground states Jennifer Lopez will headline a free concert for Clinton supporters in Miami on Saturday giving the former secretary of state a chance to connect with the key demographic of millennials she has sometimes struggled to reach  and some visual counterprogramming to the latest email controversy to roil her race for the White House The Federal Bureau of Investigation said on Friday it is investigating more emails as part of a probe into Clintons use of a private email system  a latebreaking surprise that will likely continue to get extensive media play leading up to the Nov 8 vote Celebritydriven events like the concert can serve as a bit of a distraction from the controversy said Eric Kasper a political scientist at the University of WisconsinEau Claire It is a way to kind of take the edge off things because it tends to be more positive Kasper said The JLo concert is the first in a series Next week Clinton will take the stage with Jay Z in Cleveland and then with Katy Perry in Philadelphia on Nov 5 A Harvard University poll this week showed that among likely voters aged 18 to 29 Clinton is leading Republican rival Donald Trump a celebrity in his own right who starred in the reality television show The Apprentice But turnout is a concern The exceptionally negative tone of this years race for the White House has soured young Americans on politics ReutersIpsos polling shows Presidential candidates have long sought to create buzz with help from celebrity pals said Tevi Troy who chronicled the strategy in his book What Jefferson Read Ike Watched and Obama Tweeted 200 Years of Pop Culture in the White House Campaigns do it to reach out to people who are not necessarily interested in politics but are interested in pop culture said Troy a presidential historian who worked in the George W Bush White House The events are like a larger version of a campaign yard sign a way to show a groundswell of support behind a candidate  and a way to appeal to fans of the musicians said Kasper who has studied the intersection between pop culture and politics It can create a kind of psychological connection that we otherwise might not have when a politician endorses a presidential candidate for instance Kasper said Reporting by Roberta Rampton Editing by Leslie Adler Concert plus campaign Clinton turns to celebrities in homestretch added by Reuters on Sat Oct 29th 2016</td>\n",
       "      <td>1</td>\n",
       "      <td>en</td>\n",
       "      <td>486</td>\n",
       "      <td>9</td>\n",
       "    </tr>\n",
       "  </tbody>\n",
       "</table>\n",
       "</div>"
      ],
      "text/plain": [
       "          id  \\\n",
       "4759    4759   \n",
       "8519    8519   \n",
       "14292  14292   \n",
       "15462  15462   \n",
       "18022  18022   \n",
       "18966  18966   \n",
       "\n",
       "                                                                                            title  \\\n",
       "4759                              Regulator Tightens Control Over Wells Fargo  The New York Times   \n",
       "8519            HarleyDavidson to Pay 12 Million Fine in Pollution Settlement  The New York Times   \n",
       "14292                       Pope Francis Says Church Should Apologize to Gays  The New York Times   \n",
       "15462                         Clinton campaign urges FBI to detail new developments in email case   \n",
       "18022  2 CreditReporting Agencies Must Pay 23 Million for Deceptive Practices  The New York Times   \n",
       "18966                           Concert plus campaign Clinton turns to celebrities in homestretch   \n",
       "\n",
       "        author  \\\n",
       "4759   Reuters   \n",
       "8519   Reuters   \n",
       "14292  Reuters   \n",
       "15462  Reuters   \n",
       "18022  Reuters   \n",
       "18966  Reuters   \n",
       "\n",
       "                                                                                                                                                                                                                                                                                                                                                                                                                                                                                                                                                                                                                                                                                                                                                                                                                                                                                                                                                                                                                                                                                                                                                                                                                                                                                                                                                                                                                                                                                                                                                                                                                                                                                                                                                                                                                                                                                                                                                                                                                                                                                                                                                                                                                                                                                                                                                                                                                                                                                                                                                                                                                                                                                                                                                                                                                                                                                                                                                                                                                                                                                                                                                                                                                                                                                                                                                                                                                                                                                                                                                                                                                                                                                                                                                                                                                                                                                                                                                                                                                                                                                                                                                                                                                                                                                                                                                                                                                                                                                                                                                                                                                                                                text  \\\n",
       "4759                                                                                                                                                                                                                                                                                                                                                                                                                                                                                                                                                                                                                                                                                                                                                                                                                                                                                                                                                                                                                                                                                                                                                                                                                                                                                                                                                                                                                                                                                                                                                                                                                                                                                                                                                                                                                                                                                                                                                                                                                                                                                                                                                                                                                                                                                                                                                                                                                                                                                                                                                                                                                                                                                                                                                                                                                                                                                                                                                                                                                                                                                                                                                                                                                A leading bank regulator on Friday reversed course and revoked Wells Fargos right to shield the pay of former executives after a   scandal The regulator the Office of the Comptroller of the Currency also said Wells Fargo must now seek advance approval before naming new bank leadership Wells Fargo in September agreed to pay 185 million to settle charges that bank employees opened as many as two million accounts banking and credit card without customers knowledge The agency the main regulator for federal banks exempted Wells Fargo from some controls on golden parachutes in that settlement The move Friday evening voids those earlier allowances the agency said The bank was notified on Friday that the agency had revoked relief from specific requirements and limitations regarding rules policies and procedures for corporate activities the comptrollers office said in a statement on Friday An official of the Office of the Comptroller of the Currency said the move put Wells Fargo under toughened standards for oversight which the agency had exempted in the original settlement John G Stumpf Wells Fargos former  chief executive and Carrie Tolstedt former head of retail banking have relinquished about 60 million in stock after the scandal according to a Reuters review of securities filings But the pair also stood to take home more than 350 million in compensation according to filings   \n",
       "8519                                                                                                                                                                                                                                                                                                                                                                                                                                                                                                                                                                                                                                                                                                                                                                                                                                                                                                                                                                                                                                                                                                                                                                                                                                                                                                                                                                                                                                                                                                                                                                                                                                                                                                                                                                                                                                                                                                                                                                                                                                                                                                                                                                                                                                                                                                                                                                                                                                                                                                                                                                                                                                                                                                                                                                                                                     WASHINGTON       has agreed to pay a 12 million civil fine and stop selling illegal aftermarket devices that cause its motorcycles to emit too much pollution the Justice Department said on Thursday The settlement resolves government accusations that Harley sold roughly 340 000 super tuners enabling motorcycles since 2008 to pollute the air at levels greater than what the company certified to the Environmental Protection Agency Harley did not admit liability and said in a statement that it disagreed with the governments position arguing that the devices were designed and sold to be used in competition only  The company said the settlement represented a   compromise with the E P A on areas of law we interpret differently particularly E P A s assertion that it is illegal for anyone to modify a certified vehicle even if it will be used solely for     competition  According to the government the sale of such   defeat devices violated the federal Clean Air Act Harley was also accused of selling more than 12 600 motorcycles that were not covered by an E P A certification governing clean air compliance The announcement comes at a time of greater scrutiny on emissions and defeat devices by regulators in Washington after Volkswagen admitted using illegal software to evade emissions standards in nearly 600 000 vehicles in the United States The settlement calls for   to stop selling the super tuners by Tuesday and to buy back and destroy all such tuners in stock at its dealerships The E P A said the modified settings increased power and performance but also increased the motorcycles emissions of hydrocarbons and nitrogen oxides Harley based in Milwaukee will also spend 3 million on an unrelated project to reduce air pollution the Justice Department said   \n",
       "14292                                                                                                                                                                                                                                                                                                                                                                                                                                                                                                                                                                                                                                                                                                                                                                                                                                                                                                                                                                                                                                                                                                                                                                                                                                                                                                                                                                                                                                                                                                                                                                                       Pope Francis said on Sunday that Christians and the Roman Catholic Church should seek forgiveness from gays for the way they had treated them Speaking to reporters aboard a plane taking him back to Rome from Armenia the pope also said the church should ask forgiveness for the way it has treated women for turning a blind eye to child labor and for blessing so many weapons in the past In an hourlong freewheeling conversation that has become a trademark of his international travels Francis was asked by a reporter if he agreed with recent comments by a Roman Catholic cardinal from Germany that the church should apologize to gays and if an apology was made more urgent by the killing of 49 people at a gay club in Florida this month Francis looking sad recalled church teachings that homosexuals should not be discriminated against  They should be respected accompanied pastorally he said Then he added that he thought the church should apologize not only to gay people it had offended but also to the poor to women who have been exploited and to children who have been exploited by being forced to work It must apologize for having blessed so many weapons Francis added The church teaches that gay tendencies are not sinful but that gay acts are and that gays should try to be chaste The pope repeated a slightly modified version of the   Who am I to judge comment he made about gays on the first foreign trip after his election in 2013 The questions is If a person who has that condition who has good will and who looks for God who are we to judge he said A Vatican spokesman the Rev Federico Lombardi said that the popes reference to that condition referred not to a medical condition but to a person in that situation  In Italian the word condition can also mean situation We Christians have to apologize for so many things not just for this treatment of gays but we must ask for forgiveness not just apologize Forgiveness     Lord it is a word we forget so often he said Francis has been hailed by many gay people for being the most merciful pope toward them in recent history and conservative Catholics have criticized him for making comments that they say are ambiguous about sexual morality He told reporters on the plane that there are traditions in some countries some cultures that have a different mentality about this question gays and that there were some gay demonstrations that are too offensive for some  But he suggested that those were not grounds for discrimination or marginalization of gays The pope did not elaborate on what he meant by seeking forgiveness for the church having blessed so many weapons but it appeared to be a reference to some Catholics who have actively backed wars in the past In other parts of the conversation Francis said he hoped the European Union would be able to give itself another form after Britains vote to leave Lets not throw the baby out with the bath water he said Lets try to   things to      \n",
       "15462  By Reuters   634 pm Democrat Hillary Clintons top aides on Saturday lashed out at FBI Director James Comey for igniting a new controversy over a longrunning private email investigation less than two weeks before the presidential election saying there was no evidence of wrongdoing and accusing him of spreading innuendo   By Roberta Rampton and Steve Holland DAYTONA BEACH FlaGOLDEN Colo Reuters  Democrat Hillary Clintons top aides on Saturday lashed out at FBI Director James Comey for igniting a new controversy over a longrunning private email investigation less than two weeks before the presidential election saying there was no evidence of wrongdoing and accusing him of spreading innuendo Comey who has headed the Federal Bureau of Investigation since 2013 notified the US Congress on Friday that the agency is again reviewing emails even though in July it decided not to seek prosecution of Clinton for her handling of classified materials on a private email server while she was secretary of state John Podesta who heads Clintons presidential campaign told reporters that Comeys letter to Congress was light on facts heavy on innuendo and he urged Comey to come forward and give those answers to the American public about the exact nature of the FBIs latest review of emails Sources close to the investigation on Friday said the latest emails were discovered as part of a separate probe into Anthony Weiner the estranged husband of top Clinton aide Huma Abedin Weiner a former US congressman from New York is the target of an FBI investigation into illicit text messages he is alleged to have sent to a 15yearold girl in North Carolina With the Nov 8 elections quickly approaching Republican presidential candidate Donald Trump pounded away at the new FBI development devoting a large part of a campaign speech in Golden Colorado to attacking Clinton and arguing that she is not to be trusted with the presidency Her criminal action was willful deliberate intentional and purposeful Trump said standing in front of hay bales stacked in a horse barn Hillary set up an illegal server for the obvious purpose of shielding her illegal actions from public disclosure and exposure Comey however has not provided any details on whether the emails now under review are being seen for the first time by the FBI or the nature of their contents Clintons campaign tried to play down the new review Theres no evidence of wrongdoing no charge of wrongdoing Podesta said in the FBIs latest announcement that it was taking appropriate investigative steps after learning of emails that appear to be pertinent to the earlier probe Clinton campaign manager Robby Mook trying to tamp down speculation of a voter backlash this late in the campaign said Americans had already factored what they knew about the email investigation into how they would cast their ballots We dont see it changing the landscape for undecided voters Mook said Clinton aides also said this latest controversy has further energized her supporters Clinton was campaigning in Florida on Saturday a battleground state that many analysts say Trump must win in order to have any chance of being elected In recent weeks Trump has been running behind Clinton in most public opinion polls Justice Department officials according to a source who asked not to be identified were opposed to the FBI directors letter being sent to Congress and believe his actions conflict with a Justice Department memo outlining instructions that agencies should not to act in ways that could influence elections While Attorney General Loretta Lynch did not discuss the matter directly with Comey the source said aides were in touch with each other Comey let it be known he felt he had to send the letter as a followup to his congressional testimony earlier this year regarding the FBIs probe of Clintons emails the source said Meanwhile Clinton supporters rallied to her defense following Fridays FBI disclosure The Congressional Black Caucus comprised of about 45 members of the House of Representatives nearly all Democrats held a news conference in Columbus Ohio and urged Comey to release more details Reporting by Steve Holland in Golden Colorado ans Roberta Rampton in Daytona Beach Florida Additional reporting by Mark Hosenball in Washington Writing by Richard Cowan Editing by James Dalgleish and Leslie Adlerand Leslie Adler Clinton campaign urges FBI to detail new developments in email case added by Reuters on Sat Oct 29th 2016   \n",
       "18022                                                                                                                                                                                                                                                                                                                                                                                                                                                                                                                                                                                                                                                                                                                                                                                                                                                                                                                                                                                                                                                                                                                                                                                                                                                                                                                                                                                                                                                                                                                                                                                                                                                                                                                                                                                                                                                                                                                                                                                                                                                                                                                                                                                                                                                                                                                                                                                                                                                                             The nations consumer watchdog agency on Tuesday ordered the   agencies TransUnion and Equifax to pay more than 23 2 million in fines and restitution for deceiving customers about the usefulness of credit scores and the cost of obtaining them The watchdog agency the Consumer Financial Protection Bureau said the payments would resolve charges that TransUnion and Equifax had lured consumers into enrolling in credit services advertised as free or costing only 1 but which could cost more than 200 a year TransUnion will reimburse 13 93 million to consumers and pay a 3 million civil fine while Equifax will reimburse 3 8 million and pay a 2 5 million civil fine the bureau said Both companies will also modify their marketing practices Among the changes they will obtain customers consent to enroll them in services in which fees begin after free trials and make it easier for them to cancel services they do not want The bureau said the wrongful conduct had violated the     law and had occurred at TransUnion since July 2011 and at Equifax between July 2011 and March 2014 Many lenders rely on credit scores from TransUnion Equifax and their rival Experian when lending money But TransUnion and Equifax falsely represented the credit scores they sold to consumers as being the same scores that lenders used the Consumer Financial Protection Bureau said Credit scores are central to a consumers financial life and people deserve honest and accurate information about them Richard Cordray the bureaus director said in a statement Neither TransUnion which is based in Chicago nor Equifax which is based in Atlanta admitted or denied wrongdoing A TransUnion spokesman David Blumberg and an Equifax spokeswoman Ines Gutzmer said their companies believed that they had complied with the law and were committed to better educating consumers about their credit Experian was not charged A spokesman for the bureau did not immediately have additional comment In 2015 under a separate settlement with 31 state attorneys general the   agencies agreed to improve how they fixed mistakes and addressed disputes   \n",
       "18966                                                                                                                                                                                                                                                                                                                                                                                                                                                                                                                                                                                                                                                                                                                                                                                                                                                                                                                                                                                                                                                                                                                                                                                                                                                                                                                                                                                                                                                                                                                                                                                                                                                                 By Reuters   716 pm Heading into the homestretch of the presidential campaign Democratic candidate Hillary Clinton is looking to harness some celebrity star power to help get out the vote and energize volunteers in battleground states   By Roberta Rampton DAYTONA BEACH Fla Reuters  Heading into the homestretch of the presidential campaign Democratic candidate Hillary Clinton is looking to harness some celebrity star power to help get out the vote and energize volunteers in battleground states Jennifer Lopez will headline a free concert for Clinton supporters in Miami on Saturday giving the former secretary of state a chance to connect with the key demographic of millennials she has sometimes struggled to reach  and some visual counterprogramming to the latest email controversy to roil her race for the White House The Federal Bureau of Investigation said on Friday it is investigating more emails as part of a probe into Clintons use of a private email system  a latebreaking surprise that will likely continue to get extensive media play leading up to the Nov 8 vote Celebritydriven events like the concert can serve as a bit of a distraction from the controversy said Eric Kasper a political scientist at the University of WisconsinEau Claire It is a way to kind of take the edge off things because it tends to be more positive Kasper said The JLo concert is the first in a series Next week Clinton will take the stage with Jay Z in Cleveland and then with Katy Perry in Philadelphia on Nov 5 A Harvard University poll this week showed that among likely voters aged 18 to 29 Clinton is leading Republican rival Donald Trump a celebrity in his own right who starred in the reality television show The Apprentice But turnout is a concern The exceptionally negative tone of this years race for the White House has soured young Americans on politics ReutersIpsos polling shows Presidential candidates have long sought to create buzz with help from celebrity pals said Tevi Troy who chronicled the strategy in his book What Jefferson Read Ike Watched and Obama Tweeted 200 Years of Pop Culture in the White House Campaigns do it to reach out to people who are not necessarily interested in politics but are interested in pop culture said Troy a presidential historian who worked in the George W Bush White House The events are like a larger version of a campaign yard sign a way to show a groundswell of support behind a candidate  and a way to appeal to fans of the musicians said Kasper who has studied the intersection between pop culture and politics It can create a kind of psychological connection that we otherwise might not have when a politician endorses a presidential candidate for instance Kasper said Reporting by Roberta Rampton Editing by Leslie Adler Concert plus campaign Clinton turns to celebrities in homestretch added by Reuters on Sat Oct 29th 2016   \n",
       "\n",
       "       label language  text_word_count  title_word_count  \n",
       "4759       0       en              223                10  \n",
       "8519       0       en              290                13  \n",
       "14292      0       en              524                12  \n",
       "15462      1       en              733                11  \n",
       "18022      0       en              340                14  \n",
       "18966      1       en              486                 9  "
      ]
     },
     "execution_count": 18,
     "metadata": {},
     "output_type": "execute_result"
    }
   ],
   "source": [
    "# word counts\n",
    "def title_len(title):\n",
    "    if not isinstance(title, str): # used to handle NaN\n",
    "        return 0\n",
    "\n",
    "    return len(title.split())\n",
    "\n",
    "df['text_word_count'] = df['text'].apply(lambda x: len(x.split())) # NaN already handeled\n",
    "df['title_word_count'] = df['title'].apply(lambda x: title_len(x))\n",
    "df.loc[df['author'] == 'Reuters']                                         "
   ]
  },
  {
   "cell_type": "code",
   "execution_count": 19,
   "metadata": {},
   "outputs": [
    {
     "name": "stdout",
     "output_type": "stream",
     "text": [
      "(10387, 8) (9999, 8)\n"
     ]
    }
   ],
   "source": [
    "df_fake = df.loc[df['label'] == 1]\n",
    "df_real = df.loc[df['label'] == 0]\n",
    "print(df_real.shape, df_fake.shape)"
   ]
  },
  {
   "cell_type": "markdown",
   "metadata": {},
   "source": [
    "In the following chunks the word count of both the article title and the article text is analyzed"
   ]
  },
  {
   "cell_type": "code",
   "execution_count": 20,
   "metadata": {},
   "outputs": [
    {
     "name": "stdout",
     "output_type": "stream",
     "text": [
      "All data {'1%': 0.0, '5%': 5.0, '10%': 7.0, '25%': 9.0, '50%': 12.0, '75%': 14.0, '90%': 16.0, '95%': 17.0, '99%': 22.0} \n",
      "\n",
      "Fake News data {'1%': 0.0, '5%': 0.0, '10%': 5.0, '25%': 7.0, '50%': 10.0, '75%': 13.0, '90%': 16.0, '95%': 18.0, '99%': 25.0} \n",
      "\n",
      "Real News data {'1%': 7.0, '5%': 8.0, '10%': 9.0, '25%': 11.0, '50%': 13.0, '75%': 15.0, '90%': 16.0, '95%': 17.0, '99%': 19.0} \n",
      "\n"
     ]
    }
   ],
   "source": [
    "def get_percentiles(ls, percentiles):\n",
    "    # params: list of percentiles and a list of numbers\n",
    "    # returns: dict percentile: value\n",
    "    out_dict = {}\n",
    "    perc = np.percentile(ls,[1, 5, 10, 25, 50, 75, 90, 95, 99])\n",
    "    for i, p in enumerate(perc):\n",
    "        out_dict[f'{percentiles[i]}%'] = p\n",
    "    return out_dict\n",
    "        \n",
    "p_list = [1, 5, 10, 25, 50, 75, 90, 95, 99]\n",
    "all_titleLen_p = get_percentiles(df['title_word_count'], p_list)\n",
    "fake_titleLen_p = get_percentiles(df_fake['title_word_count'], p_list)\n",
    "real_titleLen_p = get_percentiles(df_real['title_word_count'], p_list)\n",
    "print('All data',all_titleLen_p, '\\n')\n",
    "print('Fake News data', fake_titleLen_p, '\\n')\n",
    "print('Real News data',real_titleLen_p, '\\n')"
   ]
  },
  {
   "cell_type": "code",
   "execution_count": 21,
   "metadata": {},
   "outputs": [
    {
     "data": {
      "image/png": "[encoded data removed]",
      "text/plain": [
       "<Figure size 432x288 with 1 Axes>"
      ]
     },
     "metadata": {
      "needs_background": "light"
     },
     "output_type": "display_data"
    },
    {
     "data": {
      "image/png": "[encoded data removed]",
      "text/plain": [
       "<Figure size 432x288 with 1 Axes>"
      ]
     },
     "metadata": {
      "needs_background": "light"
     },
     "output_type": "display_data"
    },
    {
     "data": {
      "image/png": "[encoded data removed]",
      "text/plain": [
       "<Figure size 432x288 with 1 Axes>"
      ]
     },
     "metadata": {
      "needs_background": "light"
     },
     "output_type": "display_data"
    }
   ],
   "source": [
    "plt.hist(df['title_word_count'].loc[df['title_word_count'] < all_titleLen_p['99%']],\n",
    "         bins=20, facecolor = '#2ab0ff', edgecolor='#169acf', linewidth=0.5)\n",
    "plt.title('All data')\n",
    "plt.xlabel('Title word count')\n",
    "plt.ylabel('Frequency')\n",
    "plt.show()\n",
    "\n",
    "plt.hist(df_fake['title_word_count'].loc[df_fake['title_word_count'] < fake_titleLen_p['99%']],\n",
    "         bins=20, facecolor = '#2ab0ff', edgecolor='#169acf', linewidth=0.5)\n",
    "plt.title('Fake News')\n",
    "plt.xlabel('Title word count')\n",
    "plt.ylabel('Frequency')\n",
    "plt.show()\n",
    "\n",
    "plt.hist(df_real['title_word_count'].loc[df_real['title_word_count'] < real_titleLen_p['99%']], \n",
    "        bins=15, facecolor = '#2ab0ff', edgecolor='#169acf', linewidth=0.5)\n",
    "plt.title('Reliable News')\n",
    "plt.xlabel('Title word count')\n",
    "plt.ylabel('Frequency')\n",
    "plt.show()"
   ]
  },
  {
   "cell_type": "markdown",
   "metadata": {},
   "source": [
    "The previous figures show that fake articles tend to have a shorter title and that articles with no titles are much more common among fake articles"
   ]
  },
  {
   "cell_type": "code",
   "execution_count": 22,
   "metadata": {},
   "outputs": [
    {
     "name": "stdout",
     "output_type": "stream",
     "text": [
      "All data {'1%': 12.0, '5%': 52.0, '10%': 123.0, '25%': 273.0, '50%': 558.0, '75%': 1045.0, '90%': 1451.5, '95%': 1852.75, '99%': 3950.05000000001} \n",
      "\n",
      "Fake News data {'1%': 6.980000000000004, '5%': 26.0, '10%': 54.0, '25%': 178.0, '50%': 390.0, '75%': 794.0, '90%': 1385.2000000000007, '95%': 1943.2000000000007, '99%': 4084.100000000002} \n",
      "\n",
      "Real News data {'1%': 86.86, '5%': 163.0, '10%': 236.0, '25%': 396.0, '50%': 766.0, '75%': 1168.5, '90%': 1476.0, '95%': 1794.0, '99%': 3627.8199999999924} \n",
      "\n"
     ]
    }
   ],
   "source": [
    "all_textLen_p = get_percentiles(df['text_word_count'], p_list)\n",
    "fake_textLen_p = get_percentiles(df_fake['text_word_count'], p_list)\n",
    "real_textLen_p = get_percentiles(df_real['text_word_count'], p_list)\n",
    "print('All data',all_textLen_p, '\\n')\n",
    "print('Fake News data', fake_textLen_p, '\\n')\n",
    "print('Real News data',real_textLen_p, '\\n')"
   ]
  },
  {
   "cell_type": "code",
   "execution_count": 23,
   "metadata": {},
   "outputs": [
    {
     "data": {
      "image/png": "[encoded data removed]",
      "text/plain": [
       "<Figure size 432x288 with 1 Axes>"
      ]
     },
     "metadata": {
      "needs_background": "light"
     },
     "output_type": "display_data"
    },
    {
     "data": {
      "image/png": "[encoded data removed]",
      "text/plain": [
       "<Figure size 432x288 with 1 Axes>"
      ]
     },
     "metadata": {
      "needs_background": "light"
     },
     "output_type": "display_data"
    },
    {
     "data": {
      "image/png": "[encoded data removed]",
      "text/plain": [
       "<Figure size 432x288 with 1 Axes>"
      ]
     },
     "metadata": {
      "needs_background": "light"
     },
     "output_type": "display_data"
    }
   ],
   "source": [
    "plt.hist(df['text_word_count'].loc[df['text_word_count'] < all_textLen_p['95%']],\n",
    "         bins=50, facecolor = '#2ab0ff', edgecolor='#169acf', linewidth=0.5)\n",
    "plt.title('All data')\n",
    "plt.xlabel('Text word count')\n",
    "plt.ylabel('Frequency')\n",
    "plt.show()\n",
    "\n",
    "plt.hist(df_fake['text_word_count'].loc[df_fake['text_word_count'] < fake_textLen_p['95%']],\n",
    "         bins=50, facecolor = '#2ab0ff', edgecolor='#169acf', linewidth=0.5)\n",
    "plt.title('Fake News')\n",
    "plt.xlabel('Text word count')\n",
    "plt.ylabel('Frequency')\n",
    "plt.show()\n",
    "\n",
    "plt.hist(df_real['text_word_count'].loc[df_real['text_word_count'] < real_textLen_p['95%']], \n",
    "        bins=50, facecolor = '#2ab0ff', edgecolor='#169acf', linewidth=0.5)\n",
    "plt.title('Reliable News')\n",
    "plt.xlabel('Text word count')\n",
    "plt.ylabel('Frequency')\n",
    "plt.show()"
   ]
  },
  {
   "cell_type": "code",
   "execution_count": 24,
   "metadata": {},
   "outputs": [
    {
     "name": "stdout",
     "output_type": "stream",
     "text": [
      "[('the', 11663), ('new', 7103), ('york', 6361), ('times', 6345), ('to', 5410), ('in', 3788), ('of', 3754), ('trump', 2954), ('a', 2916), ('for', 2404), ('breitbart', 2397), ('and', 2384), ('on', 2306), ('is', 1778), ('with', 1203), ('hillary', 1075), ('at', 1054), ('by', 1032), ('clinton', 1012), ('us', 963), ('donald', 872), ('from', 846), ('as', 829), ('after', 658), ('are', 649), ('will', 600), ('trumps', 581), ('not', 567), ('election', 562), ('it', 553), ('be', 549), ('over', 535), ('your', 525), ('what', 523), ('how', 519), ('news', 507), ('that', 502), ('you', 500), ('about', 479), ('russia', 450), ('this', 450), ('obama', 443), ('says', 413), ('video', 410), ('its', 392), ('war', 383), ('his', 382), ('an', 375), ('fbi', 368), ('have', 366)] \n",
      "\n",
      "[('the', 3357), ('to', 2536), ('of', 1862), ('in', 1601), ('a', 1186), ('and', 1170), ('trump', 1169), ('on', 1150), ('for', 1131), ('is', 968), ('hillary', 862), ('clinton', 775), ('by', 646), ('with', 532), ('us', 526), ('election', 445), ('new', 418), ('from', 415), ('are', 401), ('at', 372), ('as', 349), ('will', 348), ('what', 338), ('video', 338), ('this', 335), ('comment', 320), ('fbi', 317), ('about', 310), ('you', 309), ('news', 306), ('that', 306), ('be', 298), ('russia', 293), ('it', 289), ('war', 287), ('after', 269), ('not', 264), ('how', 261), ('donald', 247), ('why', 238), ('just', 235), ('world', 227), ('over', 218), ('now', 212), ('obama', 211), ('has', 201), ('have', 188), ('emails', 187), ('your', 187), ('out', 187)] \n",
      "\n",
      "[('the', 8306), ('new', 6685), ('york', 6337), ('times', 6289), ('to', 2874), ('breitbart', 2395), ('in', 2187), ('of', 1892), ('trump', 1785), ('a', 1730), ('for', 1273), ('and', 1214), ('on', 1156), ('is', 810), ('at', 682), ('with', 671), ('donald', 625), ('as', 480), ('us', 437), ('from', 431), ('trumps', 407), ('after', 389), ('by', 386), ('your', 338), ('over', 317), ('not', 303), ('says', 266), ('it', 264), ('how', 258), ('will', 252), ('be', 251), ('are', 248), ('clinton', 237), ('briefing', 233), ('obama', 232), ('his', 227), ('house', 220), ('an', 214), ('hillary', 213), ('state', 213), ('its', 209), ('president', 203), ('news', 201), ('that', 196), ('you', 191), ('no', 188), ('up', 187), ('what', 185), ('white', 185), ('who', 182)] \n",
      "\n"
     ]
    }
   ],
   "source": [
    "t1 = time.time()\n",
    "def word_freq_counter(ls):\n",
    "    # params: ls: a list of texts\n",
    "    # returns: a Counter for words in all the texts, ordered in decreasing order\n",
    "    # that is the most frequent word of the texts is first\n",
    "    freq_count = Counter()\n",
    "    for i in ls:\n",
    "        for t in i.lower().split():\n",
    "            freq_count[t] += 1\n",
    "    return freq_count\n",
    "\n",
    "\n",
    "all_title_counts = word_freq_counter(df.dropna(subset = ['title'])['title'])\n",
    "fake_title_counts = word_freq_counter(df_fake.dropna(subset = ['title'])['title'])\n",
    "real_title_counts = word_freq_counter(df_real.dropna(subset = ['title'])['title'])\n",
    "\n",
    "print(all_title_counts.most_common(50), '\\n')\n",
    "print(fake_title_counts.most_common(50), '\\n')\n",
    "print(real_title_counts.most_common(50), '\\n')\n"
   ]
  },
  {
   "cell_type": "code",
   "execution_count": 25,
   "metadata": {},
   "outputs": [
    {
     "name": "stdout",
     "output_type": "stream",
     "text": [
      "The following words are among the top 50 most frequent words in both fake titles and and real titles\n",
      "\n",
      "['in', 'be', 'from', 'the', 'will', 'clinton', 'how', 'trump', 'by', 'donald', 'at', 'us', 'after', 'it', 'hillary', 'new', 'obama', 'news', 'on', 'a', 'for', 'is', 'as', 'are', 'not', 'you', 'and', 'with', 'over', 'that', 'of', 'what', 'your', 'to'] \n",
      "\n",
      "The following words are among the top 200 most frequent words in fake news article titles but are not among the top 800 most frequent words in real article titles\n",
      "\n",
      "['leaked', 'breaking', 'comment', 'things', 'standing', 'november', 'americas', 'soros', 'pipeline', 're', 'в', 'dakota', 'water', 'hillarys', 'these', 'voting', 'caught', 'wikileaks', 'rock', 'gold', 'foundation', 'truthfeed', 'emails', 'reveals', 'voter', 'source', 'elections'] \n",
      "\n",
      "The following words are among the top 100 most frequent words in real news article titles but are not among the top 400 most frequent words in fake article titles\n",
      "\n",
      "['border', 'briefing', 'breitbart', 'york', 'dies', 'gop', 'evening', 'california']\n"
     ]
    }
   ],
   "source": [
    "# identify words that are common in fake news_titles and not common in legitimate\n",
    "def get_bla(counter1, counter2, top_n, factor):\n",
    "    # params : counter1, counter2: Counter\n",
    "    # top_n: threshold for top n most common items in counter 1\n",
    "    # factor: integer scalar\n",
    "    # returns: a list of items that are in most_common(top_n) of counter1 but are not in most_common(top_n*factor) of counter 2\n",
    "    top_1_n = set([i[0] for i in counter1.most_common(top_n)])\n",
    "    top_2_n = set([i[0] for i in counter2.most_common(top_n*factor)])\n",
    "    out = list(top_1_n - top_2_n) # set difference\n",
    "    return out\n",
    "\n",
    "def get_intersect_n(counter1, counter2, top_n):\n",
    "    top_1_n = set([i[0] for i in counter1.most_common(top_n)])\n",
    "    top_2_n = set([i[0] for i in counter2.most_common(top_n)])\n",
    "    return list(top_1_n.intersection(top_2_n))\n",
    "\n",
    "print('The following words are among the top 50 most frequent words in both fake titles and and real titles\\n')\n",
    "print(get_intersect_n(fake_title_counts, real_title_counts, 50), '\\n')\n",
    "\n",
    "print('The following words are among the top 200 most frequent words in fake news article titles but are not among the top 800 most frequent words in real article titles\\n')\n",
    "print(get_bla(fake_title_counts, real_title_counts, 200, 4), '\\n')\n",
    "\n",
    "print('The following words are among the top 100 most frequent words in real news article titles but are not among the top 400 most frequent words in fake article titles\\n')\n",
    "print(get_bla(real_title_counts, fake_title_counts, 100, 4))"
   ]
  },
  {
   "cell_type": "markdown",
   "metadata": {},
   "source": [
    "Now the functions that were created in the code chunks above will be used for the full article texts"
   ]
  },
  {
   "cell_type": "code",
   "execution_count": 26,
   "metadata": {},
   "outputs": [
    {
     "name": "stdout",
     "output_type": "stream",
     "text": [
      "Elapsed time:11.741155624389648\n"
     ]
    }
   ],
   "source": [
    "time_start = time.time()\n",
    "\n",
    "all_text_counts = word_freq_counter(df['text'])\n",
    "fake_text_counts = word_freq_counter(df_fake['text'])\n",
    "real_text_counts = word_freq_counter(df_real['text'])\n",
    "\n",
    "print(f'Elapsed time:{time.time()- time_start}')"
   ]
  },
  {
   "cell_type": "code",
   "execution_count": 27,
   "metadata": {},
   "outputs": [
    {
     "name": "stdout",
     "output_type": "stream",
     "text": [
      "[('the', 909691), ('to', 420303), ('of', 413241), ('and', 377801), ('a', 362994), ('in', 306774), ('that', 208380), ('is', 154990), ('for', 142792), ('on', 129199), ('it', 103687), ('with', 101364), ('was', 101063), ('as', 97574), ('he', 96948), ('said', 79610), ('by', 77268), ('are', 72786), ('at', 72541), ('have', 71862), ('be', 70661), ('his', 69031), ('not', 68264), ('this', 68057), ('from', 67761), ('mr', 66200), ('i', 66051), ('has', 63597), ('but', 61436), ('an', 60326), ('they', 59329), ('who', 54808), ('you', 51144), ('we', 47295), ('its', 46394), ('had', 45358), ('their', 44737), ('or', 44353), ('trump', 44108), ('about', 41766), ('were', 41220), ('will', 40858), ('she', 37289), ('one', 37170), ('would', 36896), ('more', 36807), ('been', 36678), ('her', 36395), ('people', 34931), ('which', 33461), ('all', 33416), ('if', 32145), ('what', 31991), ('when', 30439), ('new', 29562), ('there', 28401), ('out', 28141), ('so', 27045), ('no', 26031), ('can', 25906), ('like', 25695), ('up', 25361), ('after', 25333), ('also', 25206), ('us', 24807), ('than', 23786), ('our', 23599), ('some', 23386), ('other', 23216), ('president', 23011), ('them', 22597), ('into', 22591), ('clinton', 21941), ('over', 21667), ('just', 21662), ('do', 21229), ('time', 20234), ('now', 19861), ('him', 19620), ('could', 19138), ('many', 19020), ('even', 18684), ('years', 18574), ('state', 18486), ('states', 18450), ('because', 18286), ('how', 18046), ('most', 17553), ('only', 17244), ('your', 17083), ('first', 17023), ('two', 16846), ('my', 16594), ('those', 15739), ('american', 15344), ('government', 15308), ('these', 15225), ('last', 15010), ('united', 14922), ('any', 14781)] \n",
      "\n",
      "[('the', 371148), ('of', 174878), ('to', 174548), ('and', 161436), ('a', 126615), ('in', 116967), ('that', 85028), ('is', 79995), ('for', 56559), ('on', 46555), ('it', 44507), ('as', 41415), ('with', 40078), ('are', 38194), ('this', 37350), ('by', 34616), ('be', 33839), ('was', 32761), ('have', 31353), ('not', 28667), ('you', 27355), ('from', 27104), ('they', 26337), ('i', 26032), ('has', 25778), ('we', 24182), ('at', 24060), ('he', 23743), ('but', 22009), ('an', 21730), ('will', 21338), ('or', 20308), ('their', 19956), ('us', 19568), ('who', 18434), ('his', 18347), ('all', 17831), ('its', 17528), ('trump', 16295), ('if', 15985), ('about', 15910), ('people', 15471), ('clinton', 15375), ('what', 15179), ('been', 14894), ('one', 14810), ('more', 14613), ('were', 14436), ('would', 14114), ('which', 13859)] \n",
      "\n",
      "[('the', 538543), ('to', 245755), ('of', 238363), ('a', 236379), ('and', 216365), ('in', 189807), ('that', 123352), ('for', 86233), ('on', 82644), ('is', 74995), ('he', 73205), ('was', 68302), ('said', 68171), ('mr', 64571), ('with', 61286), ('it', 59180), ('as', 56159), ('his', 50684), ('at', 48481), ('by', 42652), ('from', 40657), ('have', 40509), ('i', 40019), ('not', 39597), ('but', 39427), ('an', 38596), ('has', 37819), ('be', 36822), ('who', 36374), ('are', 34592), ('had', 33997), ('they', 32992), ('this', 30707), ('its', 28866), ('trump', 27813), ('she', 26935), ('were', 26784), ('about', 25856), ('their', 24781), ('her', 24347), ('or', 24045), ('you', 23789), ('we', 23113), ('would', 22782), ('one', 22360), ('more', 22194), ('been', 21784), ('new', 19661), ('which', 19602), ('will', 19520)] \n",
      "\n"
     ]
    }
   ],
   "source": [
    "print(all_text_counts.most_common(100), '\\n')\n",
    "print(fake_text_counts.most_common(50), '\\n')\n",
    "print(real_text_counts.most_common(50), '\\n')"
   ]
  },
  {
   "cell_type": "code",
   "execution_count": 28,
   "metadata": {},
   "outputs": [
    {
     "name": "stdout",
     "output_type": "stream",
     "text": [
      "The following words are among the top 50 most frequent words in both fake and and real news articles\n",
      "\n",
      "['time', 'i', 'there', 'how', 'was', 'about', 'but', 'if', 'than', 'many', 'can', 'not', 'people', 'you', 'and', 'which', 'out', 'one', 'who', 'from', 'will', 'all', 'even', 'by', 'president', 'we', 'state', 'at', 'no', 'a', 'this', 'is', 'their', 'into', 'up', 'she', 'were', 'what', 'so', 'just', 'those', 'they', 'after', 'been', 'had', 'now', 'its', 'said', 'for', 'because', 'are', 'most', 'has', 'years', 'his', 'with', 'over', 'more', 'that', 'trump', 'to', 'other', 'in', 'be', 'the', 'would', 'them', 'my', 'states', 'it', 'he', 'or', 'new', 'only', 'on', 'some', 'as', 'like', 'when', 'do', 'our', 'an', 'also', 'could', 'of', 'her', 'have'] \n",
      "\n",
      "The following words are among the top 200 most frequent words in fake news articles but are not among the top 400 most frequent words in real articles\n",
      "\n",
      "['fact', 'emails', 'clintons', 'syria', 'в', 'hillary', '2016', 'de', 'fbi', 'la', 'november', 'october', 'email'] \n",
      "\n",
      "The following words are among the top 100 most frequent words in real news articles but are not among the top 200 most frequent words in fake articles\n",
      "\n",
      "['ms', 'mr']\n"
     ]
    }
   ],
   "source": [
    "print('The following words are among the top 50 most frequent words in both fake and and real news articles\\n')\n",
    "print(get_intersect_n(fake_text_counts, real_text_counts, 100), '\\n')\n",
    "\n",
    "print('The following words are among the top 200 most frequent words in fake news articles but are not among the top 400 most frequent words in real articles\\n')\n",
    "print(get_bla(fake_text_counts, real_text_counts, 200, 2), '\\n')\n",
    "\n",
    "print('The following words are among the top 100 most frequent words in real news articles but are not among the top 200 most frequent words in fake articles\\n')\n",
    "print(get_bla(real_text_counts, fake_text_counts, 100, 2))"
   ]
  },
  {
   "cell_type": "markdown",
   "metadata": {},
   "source": [
    "Next we attempt to visualize the data. That was done by constructing a 200 element histogram vector for each article text where element j is the proportional frequency of word j in the text. The 200 words for the histogram vector were selected by taking taking the 300 most freqeunt words in all the texts combined and omitting the 100 most frequent to avoid words such as 'a', 'is', 'the' and so on. Then dimension reduction is performed on the histogram vectors by using pca, the outcome from the pca was then plotted were fake articles are colored red."
   ]
  },
  {
   "cell_type": "code",
   "execution_count": 36,
   "metadata": {},
   "outputs": [
    {
     "name": "stdout",
     "output_type": "stream",
     "text": [
      "82\n",
      "892\n",
      "4843\n",
      "13650\n"
     ]
    }
   ],
   "source": [
    "# pca, data visualization\n",
    "# take the\n",
    "\n",
    "use_words = [i[0] for i in all_text_counts.most_common(300)][100:300]\n",
    "article_histograms = np.zeros((df.shape[0], 200))\n",
    "for index, row in enumerate(df['text']):\n",
    "    words = row.split()\n",
    "    try:\n",
    "        word_freqs = [words.count(word)/len(words) for word in use_words]\n",
    "        article_histograms[index] = word_freqs\n",
    "    except:\n",
    "        print(index)\n",
    "        continue\n",
    "    "
   ]
  },
  {
   "cell_type": "code",
   "execution_count": 38,
   "metadata": {},
   "outputs": [],
   "source": [
    "X = StandardScaler().fit_transform(article_histograms)\n",
    "pca = PCA(n_components=2)\n",
    "pca.fit(X)\n",
    "Xred = pca.transform(X)"
   ]
  },
  {
   "cell_type": "code",
   "execution_count": 41,
   "metadata": {},
   "outputs": [
    {
     "name": "stdout",
     "output_type": "stream",
     "text": [
      "....\n",
      "'float' object has no attribute 'split'\n",
      "8485\n",
      "....\n",
      "'float' object has no attribute 'split'\n",
      "1865\n"
     ]
    },
    {
     "data": {
      "image/png": "[encoded data removed]",
      "text/plain": [
       "<Figure size 72x72 with 1 Axes>"
      ]
     },
     "metadata": {
      "needs_background": "light"
     },
     "output_type": "display_data"
    }
   ],
   "source": [
    "indices = random.sample(range(df.shape[0]), 30) # select 30 random items from df\n",
    "fig = plt.figure(figsize = (1,1))\n",
    "for i in indices:\n",
    "    color = 'black'\n",
    "    try:\n",
    "        label = df['label'][i]\n",
    "        title = ' '.join(df['title'][i].split()[:2])\n",
    "        if label == 1:\n",
    "            color = 'red'\n",
    "        fig.text(Xred[i, 0], Xred[i, 1], title, color = color)\n",
    "    except Exception as e:\n",
    "        print('....')\n",
    "        print(e)\n",
    "        print(i)\n",
    "        \n",
    "plt.axis(False)\n",
    "plt.show()"
   ]
  }
 ],
 "metadata": {
  "kernelspec": {
   "display_name": "Python 3",
   "language": "python",
   "name": "python3"
  },
  "language_info": {
   "codemirror_mode": {
    "name": "ipython",
    "version": 3
   },
   "file_extension": ".py",
   "mimetype": "text/x-python",
   "name": "python",
   "nbconvert_exporter": "python",
   "pygments_lexer": "ipython3",
   "version": "3.8.1"
  }
 },
 "nbformat": 4,
 "nbformat_minor": 4
}
